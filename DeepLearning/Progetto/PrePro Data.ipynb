{
 "cells": [
  {
   "cell_type": "markdown",
   "id": "40c26d99-fd75-41f7-ab53-f7a9ac9c0ca0",
   "metadata": {},
   "source": [
    "# Dataset"
   ]
  },
  {
   "cell_type": "markdown",
   "id": "0ab89851-c893-449f-a173-f2a8cd209ee3",
   "metadata": {
    "jp-MarkdownHeadingCollapsed": true
   },
   "source": [
    "## Unzip dei file"
   ]
  },
  {
   "cell_type": "code",
   "execution_count": 1,
   "id": "95dddd24-955e-4c74-aa25-1fa5891c049a",
   "metadata": {},
   "outputs": [],
   "source": [
    "import os\n",
    "import gzip"
   ]
  },
  {
   "cell_type": "code",
   "execution_count": 12,
   "id": "17af2425-9341-47f9-a15d-d6d6088230a6",
   "metadata": {
    "collapsed": true,
    "jupyter": {
     "outputs_hidden": true
    },
    "scrolled": true
   },
   "outputs": [
    {
     "data": {
      "text/plain": [
       "(['.ipynb_checkpoints',\n",
       "  'sub-01_ses-perceptionTraining01_task-perception_run-01_bold.nii.gz',\n",
       "  'sub-01_ses-perceptionTraining01_task-perception_run-01_events.tsv',\n",
       "  'sub-01_ses-perceptionTraining01_task-perception_run-02_bold.nii.gz',\n",
       "  'sub-01_ses-perceptionTraining01_task-perception_run-02_events.tsv',\n",
       "  'sub-01_ses-perceptionTraining01_task-perception_run-03_bold.nii',\n",
       "  'sub-01_ses-perceptionTraining01_task-perception_run-03_bold.nii.gz',\n",
       "  'sub-01_ses-perceptionTraining01_task-perception_run-03_events.tsv'],\n",
       " [False, True, False, True, False, False, True, False])"
      ]
     },
     "execution_count": 12,
     "metadata": {},
     "output_type": "execute_result"
    }
   ],
   "source": [
    "# Specify the folder path where your files are located\n",
    "folder_path = './Dataset ML/'\n",
    "dest_path = './Data/'\n",
    "\n",
    "# Get a list of all files in the folder\n",
    "files = os.listdir(folder_path)\n",
    "# [file for file in files], [file.endswith('.nii.gz') for file in files]"
   ]
  },
  {
   "cell_type": "code",
   "execution_count": 18,
   "id": "9324d32d-aaa2-4691-803c-04a8bf788017",
   "metadata": {
    "collapsed": true,
    "jupyter": {
     "outputs_hidden": true
    }
   },
   "outputs": [
    {
     "name": "stdout",
     "output_type": "stream",
     "text": [
      "./Data/sub-01_ses-perceptionTraining01_task-perception_run-01_bold.nii\n",
      "Unzipped sub-01_ses-perceptionTraining01_task-perception_run-01_bold.nii.gz to ./Data/sub-01_ses-perceptionTraining01_task-perception_run-01_bold.nii\n",
      "./Data/sub-01_ses-perceptionTraining01_task-perception_run-02_bold.nii\n",
      "Unzipped sub-01_ses-perceptionTraining01_task-perception_run-02_bold.nii.gz to ./Data/sub-01_ses-perceptionTraining01_task-perception_run-02_bold.nii\n",
      "./Data/sub-01_ses-perceptionTraining01_task-perception_run-03_bold.nii\n",
      "Unzipped sub-01_ses-perceptionTraining01_task-perception_run-03_bold.nii.gz to ./Data/sub-01_ses-perceptionTraining01_task-perception_run-03_bold.nii\n"
     ]
    }
   ],
   "source": [
    "# Iterate through the files in the folder\n",
    "for file in files:\n",
    "    if file.endswith('.nii.gz'):\n",
    "        gz_file_path = os.path.join(folder_path, file)\n",
    "        unzipped_file_path = os.path.splitext(gz_file_path)[0]  # Remove .gz extension\n",
    "\n",
    "\n",
    "        unzipped_file_path = dest_path + file.rsplit('.', 1)[0]\n",
    "        print(unzipped_file_path)\n",
    "        \n",
    "        with gzip.open(gz_file_path, 'rb') as gz_file, open(unzipped_file_path, 'wb') as unzipped_file:\n",
    "            unzipped_file.write(gz_file.read())\n",
    "        print(f\"Unzipped {file} to {unzipped_file_path}\")"
   ]
  },
  {
   "cell_type": "markdown",
   "id": "da372762-d127-4139-acfa-62c424ca3518",
   "metadata": {},
   "source": [
    "## Apertura file .nii\n",
    "scopo: esplorazione dati"
   ]
  },
  {
   "cell_type": "code",
   "execution_count": 1,
   "id": "0b604122-0371-4baf-b438-9dbc79fc8d71",
   "metadata": {},
   "outputs": [],
   "source": [
    "import numpy as np\n",
    "import nibabel as nib\n",
    "import matplotlib.pyplot as plt"
   ]
  },
  {
   "cell_type": "code",
   "execution_count": 2,
   "id": "39398813-2da3-404c-90ce-f85f7bb405cb",
   "metadata": {},
   "outputs": [],
   "source": [
    "img = nib.load(\"./Data/sub-01_ses-perceptionTraining01_task-perception_run-01_bold.nii\")"
   ]
  },
  {
   "cell_type": "code",
   "execution_count": 3,
   "id": "bb99112a-b076-4c45-b42c-f88157f4bc24",
   "metadata": {},
   "outputs": [
    {
     "data": {
      "text/plain": [
       "(64, 64, 50, 178)"
      ]
     },
     "execution_count": 3,
     "metadata": {},
     "output_type": "execute_result"
    }
   ],
   "source": [
    "img.shape"
   ]
  },
  {
   "cell_type": "markdown",
   "id": "419ddd81-a618-43b1-b451-8e5b4479a42e",
   "metadata": {
    "jp-MarkdownHeadingCollapsed": true
   },
   "source": [
    "### Image Data"
   ]
  },
  {
   "cell_type": "code",
   "execution_count": 4,
   "id": "c3243e99-3874-4c08-8c4f-16041a0d90c6",
   "metadata": {
    "scrolled": true
   },
   "outputs": [
    {
     "name": "stdout",
     "output_type": "stream",
     "text": [
      "Shape of the data: (64, 64, 50, 178)\n",
      "Header information: <class 'nibabel.nifti1.Nifti1Header'> object, endian='<'\n",
      "sizeof_hdr      : 348\n",
      "data_type       : b''\n",
      "db_name         : b''\n",
      "extents         : 0\n",
      "session_error   : 0\n",
      "regular         : b''\n",
      "dim_info        : 0\n",
      "dim             : [  4  64  64  50 178   1   1   1]\n",
      "intent_p1       : 0.0\n",
      "intent_p2       : 0.0\n",
      "intent_p3       : 0.0\n",
      "intent_code     : none\n",
      "datatype        : int16\n",
      "bitpix          : 16\n",
      "slice_start     : 0\n",
      "pixdim          : [1. 3. 3. 3. 3. 1. 1. 1.]\n",
      "vox_offset      : 0.0\n",
      "scl_slope       : nan\n",
      "scl_inter       : nan\n",
      "slice_end       : 0\n",
      "slice_code      : unknown\n",
      "xyzt_units      : 10\n",
      "cal_max         : 0.0\n",
      "cal_min         : 0.0\n",
      "slice_duration  : 0.0\n",
      "toffset         : 0.0\n",
      "glmax           : 0\n",
      "glmin           : 0\n",
      "descrip         : b'FreeSurfer May 13 2013'\n",
      "aux_file        : b''\n",
      "qform_code      : scanner\n",
      "sform_code      : scanner\n",
      "quatern_b       : -0.001362934\n",
      "quatern_c       : -0.05821373\n",
      "quatern_d       : 0.9980623\n",
      "qoffset_x       : 100.29404\n",
      "qoffset_y       : 120.13715\n",
      "qoffset_z       : -30.424683\n",
      "srow_x          : [-2.9971030e+00 -1.3085642e-01 -1.5821952e-02  1.0029404e+02]\n",
      "srow_y          : [  0.1318085   -2.9767811   -0.34842622 120.13715   ]\n",
      "srow_z          : [-5.0156453e-04 -3.4878492e-01  2.9796557e+00 -3.0424683e+01]\n",
      "intent_name     : b''\n",
      "magic           : b'n+1'\n"
     ]
    }
   ],
   "source": [
    "# Access the data in the .nii file\n",
    "data = img.get_fdata()\n",
    "\n",
    "# You can now work with the data as a NumPy array\n",
    "# For example, you can print its shape\n",
    "print(\"Shape of the data:\", data.shape)\n",
    "\n",
    "# You can also access header information\n",
    "header = img.header\n",
    "print(\"Header information:\", header)"
   ]
  },
  {
   "cell_type": "code",
   "execution_count": 31,
   "id": "5eaf974a-472d-4b78-8b91-c1cbddfb2c37",
   "metadata": {
    "collapsed": true,
    "jupyter": {
     "outputs_hidden": true
    },
    "scrolled": true
   },
   "outputs": [
    {
     "ename": "TypeError",
     "evalue": "Invalid shape (64, 64, 50, 178) for image data",
     "output_type": "error",
     "traceback": [
      "\u001b[0;31m---------------------------------------------------------------------------\u001b[0m",
      "\u001b[0;31mTypeError\u001b[0m                                 Traceback (most recent call last)",
      "Cell \u001b[0;32mIn[31], line 2\u001b[0m\n\u001b[1;32m      1\u001b[0m \u001b[38;5;66;03m# Display the image using Matplotlib\u001b[39;00m\n\u001b[0;32m----> 2\u001b[0m \u001b[43mplt\u001b[49m\u001b[38;5;241;43m.\u001b[39;49m\u001b[43mimshow\u001b[49m\u001b[43m(\u001b[49m\u001b[43mdata\u001b[49m\u001b[43m[\u001b[49m\u001b[43m:\u001b[49m\u001b[43m,\u001b[49m\u001b[43m \u001b[49m\u001b[43m:\u001b[49m\u001b[43m,\u001b[49m\u001b[43m \u001b[49m\u001b[43m:\u001b[49m\u001b[43m]\u001b[49m\u001b[43m,\u001b[49m\u001b[43m \u001b[49m\u001b[43mcmap\u001b[49m\u001b[38;5;241;43m=\u001b[39;49m\u001b[38;5;124;43m'\u001b[39;49m\u001b[38;5;124;43mgray\u001b[39;49m\u001b[38;5;124;43m'\u001b[39;49m\u001b[43m)\u001b[49m  \u001b[38;5;66;03m# You may need to adjust the slicing [:, :, 0]\u001b[39;00m\n\u001b[1;32m      3\u001b[0m plt\u001b[38;5;241m.\u001b[39mtitle(\u001b[38;5;124m'\u001b[39m\u001b[38;5;124mNIfTI Image\u001b[39m\u001b[38;5;124m'\u001b[39m)\n\u001b[1;32m      4\u001b[0m plt\u001b[38;5;241m.\u001b[39mcolorbar()\n",
      "File \u001b[0;32m~/miniconda3/envs/MachineLearning/lib/python3.11/site-packages/matplotlib/pyplot.py:3346\u001b[0m, in \u001b[0;36mimshow\u001b[0;34m(X, cmap, norm, aspect, interpolation, alpha, vmin, vmax, origin, extent, interpolation_stage, filternorm, filterrad, resample, url, data, **kwargs)\u001b[0m\n\u001b[1;32m   3325\u001b[0m \u001b[38;5;129m@_copy_docstring_and_deprecators\u001b[39m(Axes\u001b[38;5;241m.\u001b[39mimshow)\n\u001b[1;32m   3326\u001b[0m \u001b[38;5;28;01mdef\u001b[39;00m \u001b[38;5;21mimshow\u001b[39m(\n\u001b[1;32m   3327\u001b[0m     X: ArrayLike \u001b[38;5;241m|\u001b[39m PIL\u001b[38;5;241m.\u001b[39mImage\u001b[38;5;241m.\u001b[39mImage,\n\u001b[0;32m   (...)\u001b[0m\n\u001b[1;32m   3344\u001b[0m     \u001b[38;5;241m*\u001b[39m\u001b[38;5;241m*\u001b[39mkwargs,\n\u001b[1;32m   3345\u001b[0m ) \u001b[38;5;241m-\u001b[39m\u001b[38;5;241m>\u001b[39m AxesImage:\n\u001b[0;32m-> 3346\u001b[0m     __ret \u001b[38;5;241m=\u001b[39m \u001b[43mgca\u001b[49m\u001b[43m(\u001b[49m\u001b[43m)\u001b[49m\u001b[38;5;241;43m.\u001b[39;49m\u001b[43mimshow\u001b[49m\u001b[43m(\u001b[49m\n\u001b[1;32m   3347\u001b[0m \u001b[43m        \u001b[49m\u001b[43mX\u001b[49m\u001b[43m,\u001b[49m\n\u001b[1;32m   3348\u001b[0m \u001b[43m        \u001b[49m\u001b[43mcmap\u001b[49m\u001b[38;5;241;43m=\u001b[39;49m\u001b[43mcmap\u001b[49m\u001b[43m,\u001b[49m\n\u001b[1;32m   3349\u001b[0m \u001b[43m        \u001b[49m\u001b[43mnorm\u001b[49m\u001b[38;5;241;43m=\u001b[39;49m\u001b[43mnorm\u001b[49m\u001b[43m,\u001b[49m\n\u001b[1;32m   3350\u001b[0m \u001b[43m        \u001b[49m\u001b[43maspect\u001b[49m\u001b[38;5;241;43m=\u001b[39;49m\u001b[43maspect\u001b[49m\u001b[43m,\u001b[49m\n\u001b[1;32m   3351\u001b[0m \u001b[43m        \u001b[49m\u001b[43minterpolation\u001b[49m\u001b[38;5;241;43m=\u001b[39;49m\u001b[43minterpolation\u001b[49m\u001b[43m,\u001b[49m\n\u001b[1;32m   3352\u001b[0m \u001b[43m        \u001b[49m\u001b[43malpha\u001b[49m\u001b[38;5;241;43m=\u001b[39;49m\u001b[43malpha\u001b[49m\u001b[43m,\u001b[49m\n\u001b[1;32m   3353\u001b[0m \u001b[43m        \u001b[49m\u001b[43mvmin\u001b[49m\u001b[38;5;241;43m=\u001b[39;49m\u001b[43mvmin\u001b[49m\u001b[43m,\u001b[49m\n\u001b[1;32m   3354\u001b[0m \u001b[43m        \u001b[49m\u001b[43mvmax\u001b[49m\u001b[38;5;241;43m=\u001b[39;49m\u001b[43mvmax\u001b[49m\u001b[43m,\u001b[49m\n\u001b[1;32m   3355\u001b[0m \u001b[43m        \u001b[49m\u001b[43morigin\u001b[49m\u001b[38;5;241;43m=\u001b[39;49m\u001b[43morigin\u001b[49m\u001b[43m,\u001b[49m\n\u001b[1;32m   3356\u001b[0m \u001b[43m        \u001b[49m\u001b[43mextent\u001b[49m\u001b[38;5;241;43m=\u001b[39;49m\u001b[43mextent\u001b[49m\u001b[43m,\u001b[49m\n\u001b[1;32m   3357\u001b[0m \u001b[43m        \u001b[49m\u001b[43minterpolation_stage\u001b[49m\u001b[38;5;241;43m=\u001b[39;49m\u001b[43minterpolation_stage\u001b[49m\u001b[43m,\u001b[49m\n\u001b[1;32m   3358\u001b[0m \u001b[43m        \u001b[49m\u001b[43mfilternorm\u001b[49m\u001b[38;5;241;43m=\u001b[39;49m\u001b[43mfilternorm\u001b[49m\u001b[43m,\u001b[49m\n\u001b[1;32m   3359\u001b[0m \u001b[43m        \u001b[49m\u001b[43mfilterrad\u001b[49m\u001b[38;5;241;43m=\u001b[39;49m\u001b[43mfilterrad\u001b[49m\u001b[43m,\u001b[49m\n\u001b[1;32m   3360\u001b[0m \u001b[43m        \u001b[49m\u001b[43mresample\u001b[49m\u001b[38;5;241;43m=\u001b[39;49m\u001b[43mresample\u001b[49m\u001b[43m,\u001b[49m\n\u001b[1;32m   3361\u001b[0m \u001b[43m        \u001b[49m\u001b[43murl\u001b[49m\u001b[38;5;241;43m=\u001b[39;49m\u001b[43murl\u001b[49m\u001b[43m,\u001b[49m\n\u001b[1;32m   3362\u001b[0m \u001b[43m        \u001b[49m\u001b[38;5;241;43m*\u001b[39;49m\u001b[38;5;241;43m*\u001b[39;49m\u001b[43m(\u001b[49m\u001b[43m{\u001b[49m\u001b[38;5;124;43m\"\u001b[39;49m\u001b[38;5;124;43mdata\u001b[39;49m\u001b[38;5;124;43m\"\u001b[39;49m\u001b[43m:\u001b[49m\u001b[43m \u001b[49m\u001b[43mdata\u001b[49m\u001b[43m}\u001b[49m\u001b[43m \u001b[49m\u001b[38;5;28;43;01mif\u001b[39;49;00m\u001b[43m \u001b[49m\u001b[43mdata\u001b[49m\u001b[43m \u001b[49m\u001b[38;5;129;43;01mis\u001b[39;49;00m\u001b[43m \u001b[49m\u001b[38;5;129;43;01mnot\u001b[39;49;00m\u001b[43m \u001b[49m\u001b[38;5;28;43;01mNone\u001b[39;49;00m\u001b[43m \u001b[49m\u001b[38;5;28;43;01melse\u001b[39;49;00m\u001b[43m \u001b[49m\u001b[43m{\u001b[49m\u001b[43m}\u001b[49m\u001b[43m)\u001b[49m\u001b[43m,\u001b[49m\n\u001b[1;32m   3363\u001b[0m \u001b[43m        \u001b[49m\u001b[38;5;241;43m*\u001b[39;49m\u001b[38;5;241;43m*\u001b[39;49m\u001b[43mkwargs\u001b[49m\u001b[43m,\u001b[49m\n\u001b[1;32m   3364\u001b[0m \u001b[43m    \u001b[49m\u001b[43m)\u001b[49m\n\u001b[1;32m   3365\u001b[0m     sci(__ret)\n\u001b[1;32m   3366\u001b[0m     \u001b[38;5;28;01mreturn\u001b[39;00m __ret\n",
      "File \u001b[0;32m~/miniconda3/envs/MachineLearning/lib/python3.11/site-packages/matplotlib/__init__.py:1465\u001b[0m, in \u001b[0;36m_preprocess_data.<locals>.inner\u001b[0;34m(ax, data, *args, **kwargs)\u001b[0m\n\u001b[1;32m   1462\u001b[0m \u001b[38;5;129m@functools\u001b[39m\u001b[38;5;241m.\u001b[39mwraps(func)\n\u001b[1;32m   1463\u001b[0m \u001b[38;5;28;01mdef\u001b[39;00m \u001b[38;5;21minner\u001b[39m(ax, \u001b[38;5;241m*\u001b[39margs, data\u001b[38;5;241m=\u001b[39m\u001b[38;5;28;01mNone\u001b[39;00m, \u001b[38;5;241m*\u001b[39m\u001b[38;5;241m*\u001b[39mkwargs):\n\u001b[1;32m   1464\u001b[0m     \u001b[38;5;28;01mif\u001b[39;00m data \u001b[38;5;129;01mis\u001b[39;00m \u001b[38;5;28;01mNone\u001b[39;00m:\n\u001b[0;32m-> 1465\u001b[0m         \u001b[38;5;28;01mreturn\u001b[39;00m \u001b[43mfunc\u001b[49m\u001b[43m(\u001b[49m\u001b[43max\u001b[49m\u001b[43m,\u001b[49m\u001b[43m \u001b[49m\u001b[38;5;241;43m*\u001b[39;49m\u001b[38;5;28;43mmap\u001b[39;49m\u001b[43m(\u001b[49m\u001b[43msanitize_sequence\u001b[49m\u001b[43m,\u001b[49m\u001b[43m \u001b[49m\u001b[43margs\u001b[49m\u001b[43m)\u001b[49m\u001b[43m,\u001b[49m\u001b[43m \u001b[49m\u001b[38;5;241;43m*\u001b[39;49m\u001b[38;5;241;43m*\u001b[39;49m\u001b[43mkwargs\u001b[49m\u001b[43m)\u001b[49m\n\u001b[1;32m   1467\u001b[0m     bound \u001b[38;5;241m=\u001b[39m new_sig\u001b[38;5;241m.\u001b[39mbind(ax, \u001b[38;5;241m*\u001b[39margs, \u001b[38;5;241m*\u001b[39m\u001b[38;5;241m*\u001b[39mkwargs)\n\u001b[1;32m   1468\u001b[0m     auto_label \u001b[38;5;241m=\u001b[39m (bound\u001b[38;5;241m.\u001b[39marguments\u001b[38;5;241m.\u001b[39mget(label_namer)\n\u001b[1;32m   1469\u001b[0m                   \u001b[38;5;129;01mor\u001b[39;00m bound\u001b[38;5;241m.\u001b[39mkwargs\u001b[38;5;241m.\u001b[39mget(label_namer))\n",
      "File \u001b[0;32m~/miniconda3/envs/MachineLearning/lib/python3.11/site-packages/matplotlib/axes/_axes.py:5751\u001b[0m, in \u001b[0;36mAxes.imshow\u001b[0;34m(self, X, cmap, norm, aspect, interpolation, alpha, vmin, vmax, origin, extent, interpolation_stage, filternorm, filterrad, resample, url, **kwargs)\u001b[0m\n\u001b[1;32m   5748\u001b[0m \u001b[38;5;28;01mif\u001b[39;00m aspect \u001b[38;5;129;01mis\u001b[39;00m \u001b[38;5;129;01mnot\u001b[39;00m \u001b[38;5;28;01mNone\u001b[39;00m:\n\u001b[1;32m   5749\u001b[0m     \u001b[38;5;28mself\u001b[39m\u001b[38;5;241m.\u001b[39mset_aspect(aspect)\n\u001b[0;32m-> 5751\u001b[0m \u001b[43mim\u001b[49m\u001b[38;5;241;43m.\u001b[39;49m\u001b[43mset_data\u001b[49m\u001b[43m(\u001b[49m\u001b[43mX\u001b[49m\u001b[43m)\u001b[49m\n\u001b[1;32m   5752\u001b[0m im\u001b[38;5;241m.\u001b[39mset_alpha(alpha)\n\u001b[1;32m   5753\u001b[0m \u001b[38;5;28;01mif\u001b[39;00m im\u001b[38;5;241m.\u001b[39mget_clip_path() \u001b[38;5;129;01mis\u001b[39;00m \u001b[38;5;28;01mNone\u001b[39;00m:\n\u001b[1;32m   5754\u001b[0m     \u001b[38;5;66;03m# image does not already have clipping set, clip to axes patch\u001b[39;00m\n",
      "File \u001b[0;32m~/miniconda3/envs/MachineLearning/lib/python3.11/site-packages/matplotlib/image.py:723\u001b[0m, in \u001b[0;36m_ImageBase.set_data\u001b[0;34m(self, A)\u001b[0m\n\u001b[1;32m    721\u001b[0m \u001b[38;5;28;01mif\u001b[39;00m \u001b[38;5;28misinstance\u001b[39m(A, PIL\u001b[38;5;241m.\u001b[39mImage\u001b[38;5;241m.\u001b[39mImage):\n\u001b[1;32m    722\u001b[0m     A \u001b[38;5;241m=\u001b[39m pil_to_array(A)  \u001b[38;5;66;03m# Needed e.g. to apply png palette.\u001b[39;00m\n\u001b[0;32m--> 723\u001b[0m \u001b[38;5;28mself\u001b[39m\u001b[38;5;241m.\u001b[39m_A \u001b[38;5;241m=\u001b[39m \u001b[38;5;28;43mself\u001b[39;49m\u001b[38;5;241;43m.\u001b[39;49m\u001b[43m_normalize_image_array\u001b[49m\u001b[43m(\u001b[49m\u001b[43mA\u001b[49m\u001b[43m)\u001b[49m\n\u001b[1;32m    724\u001b[0m \u001b[38;5;28mself\u001b[39m\u001b[38;5;241m.\u001b[39m_imcache \u001b[38;5;241m=\u001b[39m \u001b[38;5;28;01mNone\u001b[39;00m\n\u001b[1;32m    725\u001b[0m \u001b[38;5;28mself\u001b[39m\u001b[38;5;241m.\u001b[39mstale \u001b[38;5;241m=\u001b[39m \u001b[38;5;28;01mTrue\u001b[39;00m\n",
      "File \u001b[0;32m~/miniconda3/envs/MachineLearning/lib/python3.11/site-packages/matplotlib/image.py:693\u001b[0m, in \u001b[0;36m_ImageBase._normalize_image_array\u001b[0;34m(A)\u001b[0m\n\u001b[1;32m    691\u001b[0m     A \u001b[38;5;241m=\u001b[39m A\u001b[38;5;241m.\u001b[39msqueeze(\u001b[38;5;241m-\u001b[39m\u001b[38;5;241m1\u001b[39m)  \u001b[38;5;66;03m# If just (M, N, 1), assume scalar and apply colormap.\u001b[39;00m\n\u001b[1;32m    692\u001b[0m \u001b[38;5;28;01mif\u001b[39;00m \u001b[38;5;129;01mnot\u001b[39;00m (A\u001b[38;5;241m.\u001b[39mndim \u001b[38;5;241m==\u001b[39m \u001b[38;5;241m2\u001b[39m \u001b[38;5;129;01mor\u001b[39;00m A\u001b[38;5;241m.\u001b[39mndim \u001b[38;5;241m==\u001b[39m \u001b[38;5;241m3\u001b[39m \u001b[38;5;129;01mand\u001b[39;00m A\u001b[38;5;241m.\u001b[39mshape[\u001b[38;5;241m-\u001b[39m\u001b[38;5;241m1\u001b[39m] \u001b[38;5;129;01min\u001b[39;00m [\u001b[38;5;241m3\u001b[39m, \u001b[38;5;241m4\u001b[39m]):\n\u001b[0;32m--> 693\u001b[0m     \u001b[38;5;28;01mraise\u001b[39;00m \u001b[38;5;167;01mTypeError\u001b[39;00m(\u001b[38;5;124mf\u001b[39m\u001b[38;5;124m\"\u001b[39m\u001b[38;5;124mInvalid shape \u001b[39m\u001b[38;5;132;01m{\u001b[39;00mA\u001b[38;5;241m.\u001b[39mshape\u001b[38;5;132;01m}\u001b[39;00m\u001b[38;5;124m for image data\u001b[39m\u001b[38;5;124m\"\u001b[39m)\n\u001b[1;32m    694\u001b[0m \u001b[38;5;28;01mif\u001b[39;00m A\u001b[38;5;241m.\u001b[39mndim \u001b[38;5;241m==\u001b[39m \u001b[38;5;241m3\u001b[39m:\n\u001b[1;32m    695\u001b[0m     \u001b[38;5;66;03m# If the input data has values outside the valid range (after\u001b[39;00m\n\u001b[1;32m    696\u001b[0m     \u001b[38;5;66;03m# normalisation), we issue a warning and then clip X to the bounds\u001b[39;00m\n\u001b[1;32m    697\u001b[0m     \u001b[38;5;66;03m# - otherwise casting wraps extreme values, hiding outliers and\u001b[39;00m\n\u001b[1;32m    698\u001b[0m     \u001b[38;5;66;03m# making reliable interpretation impossible.\u001b[39;00m\n\u001b[1;32m    699\u001b[0m     high \u001b[38;5;241m=\u001b[39m \u001b[38;5;241m255\u001b[39m \u001b[38;5;28;01mif\u001b[39;00m np\u001b[38;5;241m.\u001b[39missubdtype(A\u001b[38;5;241m.\u001b[39mdtype, np\u001b[38;5;241m.\u001b[39minteger) \u001b[38;5;28;01melse\u001b[39;00m \u001b[38;5;241m1\u001b[39m\n",
      "\u001b[0;31mTypeError\u001b[0m: Invalid shape (64, 64, 50, 178) for image data"
     ]
    },
    {
     "data": {
      "image/png": "[encoded data removed]",
      "text/plain": [
       "<Figure size 640x480 with 1 Axes>"
      ]
     },
     "metadata": {},
     "output_type": "display_data"
    }
   ],
   "source": [
    "# Display the image using Matplotlib\n",
    "plt.imshow(data[:, :, 0], cmap='gray')  # You may need to adjust the slicing [:, :, 0]\n",
    "plt.title('NIfTI Image')\n",
    "plt.colorbar()\n",
    "plt.show()"
   ]
  },
  {
   "cell_type": "markdown",
   "id": "b920a5ad-49c9-4e6a-b7b5-93350c9bd6bb",
   "metadata": {},
   "source": [
    "### Function to visualize\n",
    "one image for each plane (X, Y, Z)"
   ]
  },
  {
   "cell_type": "code",
   "execution_count": 137,
   "id": "eb61f2aa-af18-4b18-a5ae-69c86d1ddc57",
   "metadata": {},
   "outputs": [],
   "source": [
    "def show_slice(data, time_point, slice_x, slice_y, slice_z):\n",
    "\n",
    "    # Choose the slice indices you want to display\n",
    "    time_point = 0  # Choose a time point (e.g., 0-177 in your case)\n",
    "    slice_x = 32  # Choose a slice in the X dimension (0-63 in your case)\n",
    "    slice_y = 32  # Choose a slice in the Y dimension (0-63 in your case)\n",
    "    slice_z = 25  # Choose a slice in the Z dimension (0-49 in your case)\n",
    "    \n",
    "    # Display slices from different dimensions\n",
    "    plt.figure(figsize=(12, 4))\n",
    "    \n",
    "    plt.subplot(131)\n",
    "    plt.imshow(data[:, :, slice_z, time_point], cmap='gray')\n",
    "    plt.title(f'Slice in Z at index {slice_z}')\n",
    "    \n",
    "    plt.subplot(132)\n",
    "    plt.imshow(data[:, slice_y, :, time_point], cmap='gray')\n",
    "    plt.title(f'Slice in Y at index {slice_y}')\n",
    "    \n",
    "    plt.subplot(133)\n",
    "    plt.imshow(data[slice_x, :, :, time_point], cmap='gray')\n",
    "    plt.title(f'Slice in X at index {slice_x}')\n",
    "    \n",
    "    plt.tight_layout()\n",
    "    plt.show()"
   ]
  },
  {
   "cell_type": "code",
   "execution_count": 138,
   "id": "3c6ebb9e-bf27-469f-acdd-37a9840780fe",
   "metadata": {},
   "outputs": [
    {
     "data": {
      "image/png": "[encoded data removed]",
      "text/plain": [
       "<Figure size 1200x400 with 3 Axes>"
      ]
     },
     "metadata": {},
     "output_type": "display_data"
    }
   ],
   "source": [
    "show_slice(data, 0, 32, 32, 25)"
   ]
  },
  {
   "cell_type": "markdown",
   "id": "73630952-b303-40cf-8608-b4b4ff82caab",
   "metadata": {
    "jp-MarkdownHeadingCollapsed": true
   },
   "source": [
    "### Colour image"
   ]
  },
  {
   "cell_type": "code",
   "execution_count": 125,
   "id": "1e23379a-acf0-4d14-89a6-2d6b276975e3",
   "metadata": {},
   "outputs": [
    {
     "data": {
      "image/png": "[encoded data removed]",
      "text/plain": [
       "<Figure size 640x480 with 2 Axes>"
      ]
     },
     "metadata": {},
     "output_type": "display_data"
    }
   ],
   "source": [
    "# Choose a time point and a slice index in the fourth and third dimensions\n",
    "time_point = 100  # Choose a time point (e.g., 0-177 in your case)\n",
    "slice_z = 26  # Choose a slice in the Z dimension (0-49 in your case)\n",
    "\n",
    "# Get the 3D slice data for the chosen time point and Z slice\n",
    "slice_data = data[:, :, slice_z, time_point]\n",
    "\n",
    "# Normalize the data to the range [0, 1]\n",
    "min_value = np.min(slice_data)\n",
    "max_value = np.max(slice_data)\n",
    "normalized_slice_data = (slice_data - min_value) / (max_value - min_value)\n",
    "\n",
    "# Choose a colormap (e.g., 'viridis', 'hot', 'cool', etc.)\n",
    "colormap = 'viridis'\n",
    "\n",
    "# Apply the colormap to the normalized data to create an RGB image\n",
    "rgb_image = plt.get_cmap(colormap)(normalized_slice_data)[:, :, :3]\n",
    "\n",
    "# Display the RGB image\n",
    "plt.imshow(rgb_image)\n",
    "plt.title(f'Color Image for Slice in Z at index {slice_z} and Time Point {time_point}')\n",
    "plt.colorbar()\n",
    "plt.show()"
   ]
  },
  {
   "cell_type": "markdown",
   "id": "b7ba34e0-bd71-4dc2-9da8-241411521a6c",
   "metadata": {},
   "source": [
    "## 3D Image"
   ]
  },
  {
   "cell_type": "code",
   "execution_count": 8,
   "id": "da8f3824-cb80-466c-a44c-a1141ff82ea0",
   "metadata": {},
   "outputs": [
    {
     "data": {
      "image/png": "[encoded data removed]",
      "text/plain": [
       "<Figure size 1200x400 with 3 Axes>"
      ]
     },
     "metadata": {},
     "output_type": "display_data"
    }
   ],
   "source": [
    "time_point = 0\n",
    "\n",
    "# Create a 3D volume using data from the chosen time point\n",
    "volume_data = data[:, :, :, time_point]\n",
    "\n",
    "# Display the 3D volume as slices along different axes\n",
    "fig, axes = plt.subplots(1, 3, figsize=(12, 4))\n",
    "\n",
    "# Display slices along the X, Y, and Z axes\n",
    "axes[0].imshow(np.rot90(volume_data[:, :, volume_data.shape[2] // 2]), cmap='gray')\n",
    "axes[0].set_title('Axial Slice (X-Y Plane)')\n",
    "\n",
    "axes[1].imshow(np.rot90(volume_data[:, volume_data.shape[1] // 2, :]), cmap='gray')\n",
    "axes[1].set_title('Sagittal Slice (X-Z Plane)')\n",
    "\n",
    "axes[2].imshow(np.rot90(volume_data[volume_data.shape[0] // 2, :, :]), cmap='gray')\n",
    "axes[2].set_title('Coronal Slice (Y-Z Plane)')\n",
    "\n",
    "plt.tight_layout()\n",
    "plt.show()"
   ]
  },
  {
   "cell_type": "markdown",
   "id": "47069feb-0dfe-4b79-855e-2663a700cbdb",
   "metadata": {
    "jp-MarkdownHeadingCollapsed": true
   },
   "source": [
    "#### Mayavi"
   ]
  },
  {
   "cell_type": "code",
   "execution_count": 21,
   "id": "8ae8f85b-be32-40d7-a49c-9c012e73fae0",
   "metadata": {},
   "outputs": [
    {
     "ename": "ModuleNotFoundError",
     "evalue": "No module named 'mayavi'",
     "output_type": "error",
     "traceback": [
      "\u001b[0;31m---------------------------------------------------------------------------\u001b[0m",
      "\u001b[0;31mModuleNotFoundError\u001b[0m                       Traceback (most recent call last)",
      "Cell \u001b[0;32mIn[21], line 1\u001b[0m\n\u001b[0;32m----> 1\u001b[0m \u001b[38;5;28;01mimport\u001b[39;00m \u001b[38;5;21;01mmayavi\u001b[39;00m\u001b[38;5;21;01m.\u001b[39;00m\u001b[38;5;21;01mmlab\u001b[39;00m \u001b[38;5;28;01mas\u001b[39;00m \u001b[38;5;21;01mmlab\u001b[39;00m\n",
      "\u001b[0;31mModuleNotFoundError\u001b[0m: No module named 'mayavi'"
     ]
    }
   ],
   "source": [
    "import mayavi.mlab as mlab"
   ]
  },
  {
   "cell_type": "code",
   "execution_count": null,
   "id": "f234b2b6-bd9e-4b9c-9a71-89f38696397c",
   "metadata": {},
   "outputs": [],
   "source": [
    "# Create a Mayavi figure\n",
    "mlab.figure(size=(800, 600), bgcolor=(1, 1, 1))\n",
    "\n",
    "# Choose a time point to visualize (e.g., 0-177 in your case)\n",
    "time_point = 0\n",
    "\n",
    "# Create a volume rendering of the data\n",
    "volume = mlab.pipeline.volume(mlab.pipeline.scalar_field(data[..., time_point]))\n",
    "\n",
    "# Customize the visualization properties\n",
    "volume._volume_property.set_color(np.array([0.5, 0.5, 0.5, 1.0]))\n",
    "volume._ctf.set_scale(1.0)\n",
    "\n",
    "# Adjust the view and orientation as needed\n",
    "mlab.view(azimuth=0, elevation=90, distance=300, focalpoint=(data.shape[0] / 2, data.shape[1] / 2, data.shape[2] / 2))\n",
    "\n",
    "# Show the Mayavi visualization\n",
    "mlab.show()"
   ]
  },
  {
   "cell_type": "markdown",
   "id": "418adbb2-5afb-4406-bb1b-300029bba62c",
   "metadata": {},
   "source": [
    "Note:\n",
    "per installare Mayavi:\n",
    "installare vtk, 'pyvista[jupyter]>=0.38.1', PyQt5"
   ]
  },
  {
   "cell_type": "markdown",
   "id": "05bdfa2c-bc7d-4746-afe2-3b7bab4c45be",
   "metadata": {},
   "source": [
    "#### Plotly"
   ]
  },
  {
   "cell_type": "code",
   "execution_count": null,
   "id": "22b3b977-ce90-45c2-b4d0-32836a0d284c",
   "metadata": {
    "scrolled": true
   },
   "outputs": [],
   "source": [
    "import plotly.graph_objects as go\n",
    "\n",
    "# Choose a specific time point to visualize (e.g., 0-177 in your case)\n",
    "time_point = 100\n",
    "\n",
    "# Create X, Y, Z grids based on the shape of your data\n",
    "X, Y, Z = np.meshgrid(np.arange(data.shape[0]), np.arange(data.shape[1]), np.arange(data.shape[2]))\n",
    "\n",
    "# Extract the 3D volume data at the chosen time point\n",
    "values = data[:, :, :, time_point]\n",
    "\n",
    "# Create a Plotly figure with a volume rendering\n",
    "fig = go.Figure(data=go.Volume(\n",
    "    x=X.flatten(),\n",
    "    y=Y.flatten(),\n",
    "    z=Z.flatten(),\n",
    "    value=values.flatten(),\n",
    "    isomin=np.min(values),\n",
    "    isomax=np.max(values),\n",
    "    opacity=0.3,  # Small opacity to see through surfaces\n",
    "    surface_count=17,  # Large number for good volume rendering\n",
    "))\n",
    "\n",
    "#fig.update_layout(scene=dict(domain=dict(column=0.5, diffuse=1, fresnel=0.2)))\n",
    "\n",
    "# Customize the Plotly figure as needed\n",
    "fig.update_layout(\n",
    "    title=f'3D Volume Rendering at Time Point {time_point}',\n",
    "    scene=dict(aspectmode='cube'),\n",
    "    scene_camera=dict(up=dict(x=0, y=0, z=1), center=dict(x=data.shape[0] // 2, y=data.shape[1] // 2, z=data.shape[2] // 2)),\n",
    ")\n",
    "\n",
    "# Show the interactive Plotly figure\n",
    "fig.show()"
   ]
  },
  {
   "cell_type": "code",
   "execution_count": null,
   "id": "388efa87-3be0-437f-a775-a15ec709625d",
   "metadata": {},
   "outputs": [],
   "source": [
    "# altro codice\n",
    "import plotly.graph_objects as go\n",
    "import nibabel as nib\n",
    "import numpy as np\n",
    "\n",
    "# Specify the path to your .nii file\n",
    "nii_file_path = '/path/to/your/file.nii'\n",
    "\n",
    "# Load the .nii file\n",
    "img = nib.load(nii_file_path)\n",
    "\n",
    "# Access the image data\n",
    "data = img.get_fdata()\n",
    "\n",
    "# Create X, Y, Z grids based on the shape of your data\n",
    "X, Y, Z = np.meshgrid(np.arange(data.shape[0]), np.arange(data.shape[1]), np.arange(data.shape[2]))\n",
    "\n",
    "# Create a Plotly figure with a volume rendering for each time point\n",
    "fig = go.Figure()\n",
    "\n",
    "for time_point in range(data.shape[3]):\n",
    "    values = data[:, :, :, time_point]\n",
    "    \n",
    "    fig.add_trace(\n",
    "        go.Volume(\n",
    "            x=X.flatten(),\n",
    "            y=Y.flatten(),\n",
    "            z=Z.flatten(),\n",
    "            value=values.flatten(),\n",
    "            opacity=0.1,  # Small opacity to see through surfaces\n",
    "            surface_count=17,  # Large number for good volume rendering\n",
    "            name=f'Time Point {time_point}'\n",
    "        )\n",
    "    )\n",
    "\n",
    "# Customize the Plotly figure as needed\n",
    "fig.update_layout(\n",
    "    title='4D Volume Rendering',\n",
    "    scene=dict(aspectmode='cube'),\n",
    "    scene_camera=dict(up=dict(x=0, y=0, z=1), center=dict(x=data.shape[0] // 2, y=data.shape[1] // 2, z=data.shape[2] // 2)),\n",
    "    updatemenu=[dict(type='buttons', showactive=False, buttons=[dict(label='Play',\n",
    "                                                                method='animate',\n",
    "                                                                args=[None, dict(frame=dict(duration=100, redraw=True), fromcurrent=True, mode='immediate')]),\n",
    "                                               dict(label='Pause',\n",
    "                                                    method='animate',\n",
    "                                                    args=[None, [None], dict(mode='immediate')])])],\n",
    "    sliders=[dict(active=0, yanchor='top', xanchor='left', currentvalue=dict(prefix='Time Point: ', visible=True, xanchor='right'),\n",
    "                  pad=dict(b=10, t=50), len=0.9, steps=[dict(args=[f'Time Point {i}'], label=f'{i}', method='animate') for i in range(data.shape[3])])]\n",
    ")\n",
    "\n",
    "# Show the interactive Plotly animation\n",
    "fig.show()\n"
   ]
  },
  {
   "cell_type": "markdown",
   "id": "7f85b851-9663-478a-aa43-dd7738b5e214",
   "metadata": {},
   "source": [
    "## Apertura file .tsv"
   ]
  },
  {
   "cell_type": "code",
   "execution_count": 24,
   "id": "45b95c3d-fca9-451e-8db4-088cddbc22bf",
   "metadata": {},
   "outputs": [],
   "source": [
    "import pandas as pd"
   ]
  },
  {
   "cell_type": "code",
   "execution_count": 22,
   "id": "74d056ee-3ae1-4e16-b37a-e14f4a0aa954",
   "metadata": {},
   "outputs": [],
   "source": [
    "# Copia i file .tsv nella cartella Data\n",
    "!cp ./Dataset\\ ML/*.tsv ./Data/"
   ]
  },
  {
   "cell_type": "code",
   "execution_count": 28,
   "id": "46a8a114-4052-4947-aad8-8797e530659c",
   "metadata": {
    "scrolled": true
   },
   "outputs": [],
   "source": [
    "df = pd.read_csv('./Data/sub-01_ses-perceptionTraining01_task-perception_run-01_events.tsv', sep='\\t', header=0)"
   ]
  },
  {
   "cell_type": "markdown",
   "id": "8a2b1ad9-a787-4004-bd9a-481eb17cca8d",
   "metadata": {},
   "source": [
    "### Esplorazione"
   ]
  },
  {
   "cell_type": "code",
   "execution_count": 29,
   "id": "89d995ec-92e1-433b-b4b4-0c9b9371181c",
   "metadata": {
    "scrolled": true
   },
   "outputs": [
    {
     "data": {
      "text/html": [
       "<div>\n",
       "<style scoped>\n",
       "    .dataframe tbody tr th:only-of-type {\n",
       "        vertical-align: middle;\n",
       "    }\n",
       "\n",
       "    .dataframe tbody tr th {\n",
       "        vertical-align: top;\n",
       "    }\n",
       "\n",
       "    .dataframe thead th {\n",
       "        text-align: right;\n",
       "    }\n",
       "</style>\n",
       "<table border=\"1\" class=\"dataframe\">\n",
       "  <thead>\n",
       "    <tr style=\"text-align: right;\">\n",
       "      <th></th>\n",
       "      <th>onset</th>\n",
       "      <th>duration</th>\n",
       "      <th>trial_no</th>\n",
       "      <th>event_type</th>\n",
       "      <th>stimulus_id</th>\n",
       "      <th>stimulus_name</th>\n",
       "      <th>category_index</th>\n",
       "      <th>image_index</th>\n",
       "      <th>response_time</th>\n",
       "    </tr>\n",
       "  </thead>\n",
       "  <tbody>\n",
       "    <tr>\n",
       "      <th>0</th>\n",
       "      <td>0</td>\n",
       "      <td>33</td>\n",
       "      <td>1</td>\n",
       "      <td>rest</td>\n",
       "      <td>NaN</td>\n",
       "      <td>NaN</td>\n",
       "      <td>NaN</td>\n",
       "      <td>NaN</td>\n",
       "      <td>NaN</td>\n",
       "    </tr>\n",
       "    <tr>\n",
       "      <th>1</th>\n",
       "      <td>33</td>\n",
       "      <td>9</td>\n",
       "      <td>2</td>\n",
       "      <td>stimulus</td>\n",
       "      <td>2.766534e+06</td>\n",
       "      <td>n02766534_15976</td>\n",
       "      <td>41.0</td>\n",
       "      <td>324.0</td>\n",
       "      <td>NaN</td>\n",
       "    </tr>\n",
       "    <tr>\n",
       "      <th>2</th>\n",
       "      <td>42</td>\n",
       "      <td>9</td>\n",
       "      <td>3</td>\n",
       "      <td>stimulus</td>\n",
       "      <td>1.970164e+06</td>\n",
       "      <td>n01970164_28566</td>\n",
       "      <td>17.0</td>\n",
       "      <td>134.0</td>\n",
       "      <td>NaN</td>\n",
       "    </tr>\n",
       "    <tr>\n",
       "      <th>3</th>\n",
       "      <td>51</td>\n",
       "      <td>9</td>\n",
       "      <td>4</td>\n",
       "      <td>stimulus</td>\n",
       "      <td>4.376876e+06</td>\n",
       "      <td>n04376876_11868</td>\n",
       "      <td>127.0</td>\n",
       "      <td>1011.0</td>\n",
       "      <td>NaN</td>\n",
       "    </tr>\n",
       "    <tr>\n",
       "      <th>4</th>\n",
       "      <td>60</td>\n",
       "      <td>9</td>\n",
       "      <td>5</td>\n",
       "      <td>stimulus</td>\n",
       "      <td>4.225987e+06</td>\n",
       "      <td>n04225987_6665</td>\n",
       "      <td>117.0</td>\n",
       "      <td>934.0</td>\n",
       "      <td>NaN</td>\n",
       "    </tr>\n",
       "  </tbody>\n",
       "</table>\n",
       "</div>"
      ],
      "text/plain": [
       "   onset  duration  trial_no event_type   stimulus_id    stimulus_name  \\\n",
       "0      0        33         1       rest           NaN              NaN   \n",
       "1     33         9         2   stimulus  2.766534e+06  n02766534_15976   \n",
       "2     42         9         3   stimulus  1.970164e+06  n01970164_28566   \n",
       "3     51         9         4   stimulus  4.376876e+06  n04376876_11868   \n",
       "4     60         9         5   stimulus  4.225987e+06   n04225987_6665   \n",
       "\n",
       "   category_index  image_index  response_time  \n",
       "0             NaN          NaN            NaN  \n",
       "1            41.0        324.0            NaN  \n",
       "2            17.0        134.0            NaN  \n",
       "3           127.0       1011.0            NaN  \n",
       "4           117.0        934.0            NaN  "
      ]
     },
     "execution_count": 29,
     "metadata": {},
     "output_type": "execute_result"
    }
   ],
   "source": [
    "df.head(5)"
   ]
  },
  {
   "cell_type": "code",
   "execution_count": 31,
   "id": "2b5c3663-ccd3-4799-9888-cab989a19fdf",
   "metadata": {},
   "outputs": [
    {
     "data": {
      "text/plain": [
       "(array([ 6,  9, 33]), array([ 1, 55,  1]))"
      ]
     },
     "execution_count": 31,
     "metadata": {},
     "output_type": "execute_result"
    }
   ],
   "source": [
    "# Dati sulla durata dell'evento \"scansione\"\n",
    "np.unique(df[\"duration\"], return_counts=True)\n",
    "# il 6 e il 33 appaiono una volta ciascuno. il 33 all'inizio, il 6?"
   ]
  },
  {
   "cell_type": "code",
   "execution_count": 50,
   "id": "b64abc84-234b-4c89-ae67-a50acdf6b5e1",
   "metadata": {},
   "outputs": [
    {
     "name": "stdout",
     "output_type": "stream",
     "text": [
      "52    9\n",
      "53    9\n",
      "54    9\n",
      "55    9\n",
      "56    6\n",
      "Name: duration, dtype: int64\n"
     ]
    }
   ],
   "source": [
    "# l'ultimo record: evento dura 6 secondi\n",
    "print(\n",
    "    df[\"duration\"].tail(5), \n",
    "    #df.tail(2)\n",
    ")"
   ]
  },
  {
   "cell_type": "code",
   "execution_count": 49,
   "id": "0a28259b-23f6-4647-a3cc-0628d64769a5",
   "metadata": {},
   "outputs": [
    {
     "data": {
      "text/html": [
       "<div>\n",
       "<style scoped>\n",
       "    .dataframe tbody tr th:only-of-type {\n",
       "        vertical-align: middle;\n",
       "    }\n",
       "\n",
       "    .dataframe tbody tr th {\n",
       "        vertical-align: top;\n",
       "    }\n",
       "\n",
       "    .dataframe thead th {\n",
       "        text-align: right;\n",
       "    }\n",
       "</style>\n",
       "<table border=\"1\" class=\"dataframe\">\n",
       "  <thead>\n",
       "    <tr style=\"text-align: right;\">\n",
       "      <th></th>\n",
       "      <th>onset</th>\n",
       "      <th>duration</th>\n",
       "      <th>trial_no</th>\n",
       "      <th>event_type</th>\n",
       "      <th>stimulus_id</th>\n",
       "      <th>stimulus_name</th>\n",
       "      <th>category_index</th>\n",
       "      <th>image_index</th>\n",
       "      <th>response_time</th>\n",
       "    </tr>\n",
       "  </thead>\n",
       "  <tbody>\n",
       "    <tr>\n",
       "      <th>56</th>\n",
       "      <td>528</td>\n",
       "      <td>6</td>\n",
       "      <td>57</td>\n",
       "      <td>rest</td>\n",
       "      <td>NaN</td>\n",
       "      <td>NaN</td>\n",
       "      <td>NaN</td>\n",
       "      <td>NaN</td>\n",
       "      <td>NaN</td>\n",
       "    </tr>\n",
       "  </tbody>\n",
       "</table>\n",
       "</div>"
      ],
      "text/plain": [
       "    onset  duration  trial_no event_type  stimulus_id stimulus_name  \\\n",
       "56    528         6        57       rest          NaN           NaN   \n",
       "\n",
       "    category_index  image_index  response_time  \n",
       "56             NaN          NaN            NaN  "
      ]
     },
     "execution_count": 49,
     "metadata": {},
     "output_type": "execute_result"
    }
   ],
   "source": [
    "df.tail(1) # è di tipo rest anche l'ultimo"
   ]
  },
  {
   "cell_type": "markdown",
   "id": "ff40b29f-8719-4012-a1eb-3b735c5176c3",
   "metadata": {},
   "source": [
    "**Nota:** per questo sample, la durata delle scansioni è di 9 secondi"
   ]
  },
  {
   "cell_type": "markdown",
   "id": "e3a8f2a2-ea9c-4014-a334-8e61921ef3fd",
   "metadata": {},
   "source": [
    "### Controllo sugli indici\n",
    "image_index del file sub-01_...run-01_events.tsv e images_training_id.csv"
   ]
  },
  {
   "cell_type": "code",
   "execution_count": 58,
   "id": "d2284415-aa8e-4a8c-adc6-33d1dca71418",
   "metadata": {},
   "outputs": [],
   "source": [
    "events = df\n",
    "imgs = pd.read_csv(\"./images/images/image_training_id.csv\")"
   ]
  },
  {
   "cell_type": "code",
   "execution_count": 61,
   "id": "43302109-3a91-477a-af37-3f8eef504f60",
   "metadata": {},
   "outputs": [
    {
     "data": {
      "text/html": [
       "<div>\n",
       "<style scoped>\n",
       "    .dataframe tbody tr th:only-of-type {\n",
       "        vertical-align: middle;\n",
       "    }\n",
       "\n",
       "    .dataframe tbody tr th {\n",
       "        vertical-align: top;\n",
       "    }\n",
       "\n",
       "    .dataframe thead th {\n",
       "        text-align: right;\n",
       "    }\n",
       "</style>\n",
       "<table border=\"1\" class=\"dataframe\">\n",
       "  <thead>\n",
       "    <tr style=\"text-align: right;\">\n",
       "      <th></th>\n",
       "      <th>1518878.010042</th>\n",
       "      <th>n01518878_10042.JPEG</th>\n",
       "    </tr>\n",
       "  </thead>\n",
       "  <tbody>\n",
       "    <tr>\n",
       "      <th>0</th>\n",
       "      <td>1.518878e+06</td>\n",
       "      <td>n01518878_12028.JPEG</td>\n",
       "    </tr>\n",
       "    <tr>\n",
       "      <th>1</th>\n",
       "      <td>1.518878e+06</td>\n",
       "      <td>n01518878_14075.JPEG</td>\n",
       "    </tr>\n",
       "    <tr>\n",
       "      <th>2</th>\n",
       "      <td>1.518878e+06</td>\n",
       "      <td>n01518878_14910.JPEG</td>\n",
       "    </tr>\n",
       "    <tr>\n",
       "      <th>3</th>\n",
       "      <td>1.518878e+06</td>\n",
       "      <td>n01518878_5958.JPEG</td>\n",
       "    </tr>\n",
       "    <tr>\n",
       "      <th>4</th>\n",
       "      <td>1.518878e+06</td>\n",
       "      <td>n01518878_7346.JPEG</td>\n",
       "    </tr>\n",
       "  </tbody>\n",
       "</table>\n",
       "</div>"
      ],
      "text/plain": [
       "   1518878.010042  n01518878_10042.JPEG\n",
       "0    1.518878e+06  n01518878_12028.JPEG\n",
       "1    1.518878e+06  n01518878_14075.JPEG\n",
       "2    1.518878e+06  n01518878_14910.JPEG\n",
       "3    1.518878e+06   n01518878_5958.JPEG\n",
       "4    1.518878e+06   n01518878_7346.JPEG"
      ]
     },
     "execution_count": 61,
     "metadata": {},
     "output_type": "execute_result"
    }
   ],
   "source": [
    "imgs.head(5)"
   ]
  },
  {
   "cell_type": "code",
   "execution_count": 65,
   "id": "ac8a86db-491e-4cde-8f63-816a71b47d04",
   "metadata": {},
   "outputs": [],
   "source": [
    "# add header\n",
    "imgs.columns = [\"stimulus_id\", \"stimulus_name_jpeg\"]\n",
    "# in alternativa: pd.read_csv(..., names = [\"stimulus_id\", \"stimulus_name\"])"
   ]
  },
  {
   "cell_type": "code",
   "execution_count": 73,
   "id": "afa0047d-cdfe-4dde-bc9c-3d66b11025c5",
   "metadata": {
    "scrolled": true
   },
   "outputs": [],
   "source": [
    "# nuova colonna a partire da stimulus_name_jpeg senza .jpeg nel record\n",
    "\n",
    "imgs.insert(2, \"stimulus_name\", imgs[\"stimulus_name_jpeg\"].str[:-5])\n",
    "# alternative: \n",
    "#  new_col = [x[:-5] for x in imgs[\"stimulus_name_jpeg\"]]\n",
    "#  imgs.insert(3, \"stimulus_name_lol\", new_col)"
   ]
  },
  {
   "cell_type": "code",
   "execution_count": 95,
   "id": "660fac3f-1185-4358-8e8c-99d1852c5e5a",
   "metadata": {},
   "outputs": [
    {
     "data": {
      "text/plain": [
       "RangeIndex(start=0, stop=1199, step=1)"
      ]
     },
     "execution_count": 95,
     "metadata": {},
     "output_type": "execute_result"
    }
   ],
   "source": [
    "imgs.index"
   ]
  },
  {
   "cell_type": "code",
   "execution_count": 82,
   "id": "4fb4b000-94e3-4f57-8368-5d8eb633ddc5",
   "metadata": {},
   "outputs": [
    {
     "data": {
      "text/html": [
       "<div>\n",
       "<style scoped>\n",
       "    .dataframe tbody tr th:only-of-type {\n",
       "        vertical-align: middle;\n",
       "    }\n",
       "\n",
       "    .dataframe tbody tr th {\n",
       "        vertical-align: top;\n",
       "    }\n",
       "\n",
       "    .dataframe thead th {\n",
       "        text-align: right;\n",
       "    }\n",
       "</style>\n",
       "<table border=\"1\" class=\"dataframe\">\n",
       "  <thead>\n",
       "    <tr style=\"text-align: right;\">\n",
       "      <th></th>\n",
       "      <th>stimulus_id</th>\n",
       "      <th>stimulus_name_jpeg</th>\n",
       "      <th>stimulus_name</th>\n",
       "    </tr>\n",
       "  </thead>\n",
       "  <tbody>\n",
       "    <tr>\n",
       "      <th>0</th>\n",
       "      <td>1.518878e+06</td>\n",
       "      <td>n01518878_12028.JPEG</td>\n",
       "      <td>n01518878_12028</td>\n",
       "    </tr>\n",
       "    <tr>\n",
       "      <th>1</th>\n",
       "      <td>1.518878e+06</td>\n",
       "      <td>n01518878_14075.JPEG</td>\n",
       "      <td>n01518878_14075</td>\n",
       "    </tr>\n",
       "    <tr>\n",
       "      <th>2</th>\n",
       "      <td>1.518878e+06</td>\n",
       "      <td>n01518878_14910.JPEG</td>\n",
       "      <td>n01518878_14910</td>\n",
       "    </tr>\n",
       "    <tr>\n",
       "      <th>3</th>\n",
       "      <td>1.518878e+06</td>\n",
       "      <td>n01518878_5958.JPEG</td>\n",
       "      <td>n01518878_5958</td>\n",
       "    </tr>\n",
       "    <tr>\n",
       "      <th>4</th>\n",
       "      <td>1.518878e+06</td>\n",
       "      <td>n01518878_7346.JPEG</td>\n",
       "      <td>n01518878_7346</td>\n",
       "    </tr>\n",
       "  </tbody>\n",
       "</table>\n",
       "</div>"
      ],
      "text/plain": [
       "    stimulus_id    stimulus_name_jpeg    stimulus_name\n",
       "0  1.518878e+06  n01518878_12028.JPEG  n01518878_12028\n",
       "1  1.518878e+06  n01518878_14075.JPEG  n01518878_14075\n",
       "2  1.518878e+06  n01518878_14910.JPEG  n01518878_14910\n",
       "3  1.518878e+06   n01518878_5958.JPEG   n01518878_5958\n",
       "4  1.518878e+06   n01518878_7346.JPEG   n01518878_7346"
      ]
     },
     "execution_count": 82,
     "metadata": {},
     "output_type": "execute_result"
    }
   ],
   "source": [
    "imgs.head(5)"
   ]
  },
  {
   "cell_type": "code",
   "execution_count": 83,
   "id": "847166db-d419-4ff8-9011-86eb9fa4f81e",
   "metadata": {},
   "outputs": [],
   "source": [
    "df = events.merge(imgs, left_on='stimulus_name', right_on='stimulus_name')[['trial_no', 'stimulus_name']]"
   ]
  },
  {
   "cell_type": "code",
   "execution_count": 84,
   "id": "7c6b8f37-ea5e-48f3-86a7-6693c75c9ecb",
   "metadata": {},
   "outputs": [
    {
     "data": {
      "text/html": [
       "<div>\n",
       "<style scoped>\n",
       "    .dataframe tbody tr th:only-of-type {\n",
       "        vertical-align: middle;\n",
       "    }\n",
       "\n",
       "    .dataframe tbody tr th {\n",
       "        vertical-align: top;\n",
       "    }\n",
       "\n",
       "    .dataframe thead th {\n",
       "        text-align: right;\n",
       "    }\n",
       "</style>\n",
       "<table border=\"1\" class=\"dataframe\">\n",
       "  <thead>\n",
       "    <tr style=\"text-align: right;\">\n",
       "      <th></th>\n",
       "      <th>trial_no</th>\n",
       "      <th>stimulus_name</th>\n",
       "    </tr>\n",
       "  </thead>\n",
       "  <tbody>\n",
       "    <tr>\n",
       "      <th>0</th>\n",
       "      <td>2</td>\n",
       "      <td>n02766534_15976</td>\n",
       "    </tr>\n",
       "    <tr>\n",
       "      <th>1</th>\n",
       "      <td>3</td>\n",
       "      <td>n01970164_28566</td>\n",
       "    </tr>\n",
       "    <tr>\n",
       "      <th>2</th>\n",
       "      <td>4</td>\n",
       "      <td>n04376876_11868</td>\n",
       "    </tr>\n",
       "    <tr>\n",
       "      <th>3</th>\n",
       "      <td>5</td>\n",
       "      <td>n04225987_6665</td>\n",
       "    </tr>\n",
       "    <tr>\n",
       "      <th>4</th>\n",
       "      <td>6</td>\n",
       "      <td>n03079230_8270</td>\n",
       "    </tr>\n",
       "  </tbody>\n",
       "</table>\n",
       "</div>"
      ],
      "text/plain": [
       "   trial_no    stimulus_name\n",
       "0         2  n02766534_15976\n",
       "1         3  n01970164_28566\n",
       "2         4  n04376876_11868\n",
       "3         5   n04225987_6665\n",
       "4         6   n03079230_8270"
      ]
     },
     "execution_count": 84,
     "metadata": {},
     "output_type": "execute_result"
    }
   ],
   "source": [
    "df.head(5)"
   ]
  },
  {
   "cell_type": "code",
   "execution_count": 88,
   "id": "1339fb8e-2193-4cc9-a967-b4c0d5af5b94",
   "metadata": {},
   "outputs": [
    {
     "data": {
      "text/plain": [
       "RangeIndex(start=0, stop=55, step=1)"
      ]
     },
     "execution_count": 88,
     "metadata": {},
     "output_type": "execute_result"
    }
   ],
   "source": [
    "df.index # 56 record -> OK (il trial_no = 1 e -1 non sono presi perché di tipo rest)"
   ]
  },
  {
   "cell_type": "code",
   "execution_count": 89,
   "id": "c7079195-c6c5-4f30-b763-a4be166cc133",
   "metadata": {},
   "outputs": [
    {
     "data": {
      "text/plain": [
       "RangeIndex(start=0, stop=57, step=1)"
      ]
     },
     "execution_count": 89,
     "metadata": {},
     "output_type": "execute_result"
    }
   ],
   "source": [
    "events.index # infatti ha 58 record"
   ]
  },
  {
   "cell_type": "code",
   "execution_count": 94,
   "id": "059780e1-925c-4e36-b4d0-5af926450ff1",
   "metadata": {},
   "outputs": [
    {
     "name": "stdout",
     "output_type": "stream",
     "text": [
      "1201\n"
     ]
    }
   ],
   "source": [
    "# how many images in the training folder?\n",
    "! ls -l ./images/images/training | wc -l\n",
    "# output: 1200 immagini, la prima riga è un output di ls"
   ]
  },
  {
   "cell_type": "markdown",
   "id": "a460f4e9-42aa-4441-b447-c586905cbba3",
   "metadata": {},
   "source": [
    "**Cosa sappiamo**\n",
    "+ questo file .nii (...run01.nii) ha 56 record\n",
    "+ le immagini di training sono 1200\n",
    "+ ci sono 10 file .nii"
   ]
  },
  {
   "cell_type": "markdown",
   "id": "ace06913-c8cc-41a4-9c31-adf079d5eb90",
   "metadata": {},
   "source": [
    "**Dubbio**\n",
    "Questo ci porta a un totale di 560 record, o scansioni, ciascuna relativa a una immagine.\n",
    "Dove sono le altre?"
   ]
  },
  {
   "cell_type": "markdown",
   "id": "02960251-7871-40b6-92f2-0ba58579e86c",
   "metadata": {},
   "source": [
    "**Ipotesi**\n",
    "Ci sono tre cartelle per il sub01, quindi: 1200 / 3 = 400 immagini per cartella, circa 40 per file.nii"
   ]
  },
  {
   "cell_type": "code",
   "execution_count": 105,
   "id": "2b965581-6975-43f6-b29a-f7b24681c6fd",
   "metadata": {
    "collapsed": true,
    "jupyter": {
     "outputs_hidden": true
    },
    "scrolled": true
   },
   "outputs": [
    {
     "name": "stdout",
     "output_type": "stream",
     "text": [
      "1\n",
      "2\n",
      "3\n",
      "4\n",
      "5\n",
      "6\n",
      "7\n",
      "8\n",
      "9\n",
      "10\n",
      "11\n",
      "12\n",
      "13\n",
      "14\n",
      "15\n",
      "16\n",
      "17\n",
      "18\n",
      "19\n",
      "20\n",
      "21\n",
      "22\n",
      "23\n",
      "24\n",
      "25\n",
      "26\n",
      "27\n",
      "28\n",
      "29\n",
      "30\n",
      "31\n",
      "32\n",
      "33\n",
      "34\n",
      "35\n",
      "36\n",
      "37\n",
      "38\n",
      "39\n",
      "40\n",
      "41\n",
      "42\n",
      "43\n",
      "44\n",
      "45\n",
      "46\n",
      "47\n",
      "48\n",
      "49\n",
      "50\n",
      "51\n",
      "52\n",
      "53\n",
      "54\n",
      "55\n",
      "56\n",
      "57\n",
      "58\n",
      "59\n",
      "60\n",
      "61\n",
      "62\n",
      "63\n"
     ]
    }
   ],
   "source": [
    "for i in range(len(data)):\n",
    "    try:\n",
    "        if np.unique(data[i]) != 0.:\n",
    "            pass\n",
    "    except:\n",
    "        print(i)"
   ]
  },
  {
   "cell_type": "code",
   "execution_count": 108,
   "id": "7b556106-9f32-4b92-a907-df935b82baf8",
   "metadata": {
    "collapsed": true,
    "jupyter": {
     "outputs_hidden": true
    }
   },
   "outputs": [
    {
     "data": {
      "text/plain": [
       "array([ 2.,  3.,  4.,  5.,  6.,  7.,  8.,  9., 10., 11., 12., 13., 14.,\n",
       "       15., 16., 17., 18., 19., 20., 21., 22., 23., 24., 25., 26., 27.,\n",
       "       28., 29., 30., 31., 32., 33., 34., 35., 36., 37., 38., 39., 40.,\n",
       "       41., 42., 43., 44., 45., 46., 47., 48., 49., 50., 51., 52., 53.,\n",
       "       54., 55., 56., 57., 58., 59., 60., 61., 62., 63., 64., 65., 66.,\n",
       "       67., 68., 69., 70., 71., 72., 73., 74., 75., 76., 77., 78., 79.,\n",
       "       80., 81., 82., 83., 84., 85., 86., 87., 88., 89., 90., 92., 95.])"
      ]
     },
     "execution_count": 108,
     "metadata": {},
     "output_type": "execute_result"
    }
   ],
   "source": [
    "np.unique(data[2]) #!= 0."
   ]
  },
  {
   "cell_type": "code",
   "execution_count": 117,
   "id": "44e4c160-fafd-4aa3-82bb-a3d142d7dc4d",
   "metadata": {},
   "outputs": [
    {
     "data": {
      "text/plain": [
       "20"
      ]
     },
     "execution_count": 117,
     "metadata": {},
     "output_type": "execute_result"
    }
   ],
   "source": [
    "len(data[:20, :5, :32, 177])"
   ]
  },
  {
   "cell_type": "code",
   "execution_count": 118,
   "id": "c79cd7cf-2a91-4107-88f9-cf0671a112b9",
   "metadata": {},
   "outputs": [],
   "source": [
    "# Nota:\n",
    "# provare a confrontare scansioni, vedere la differenza (dove è maggiore)\n",
    "# Ragionamento: se un trial dura 9, allora contiene più scansioni, che saranno simili fra loro"
   ]
  },
  {
   "cell_type": "code",
   "execution_count": 119,
   "id": "932f1e2e-7721-4613-8adb-74e5ce69404a",
   "metadata": {
    "scrolled": true
   },
   "outputs": [
    {
     "data": {
      "text/html": [
       "<div>\n",
       "<style scoped>\n",
       "    .dataframe tbody tr th:only-of-type {\n",
       "        vertical-align: middle;\n",
       "    }\n",
       "\n",
       "    .dataframe tbody tr th {\n",
       "        vertical-align: top;\n",
       "    }\n",
       "\n",
       "    .dataframe thead th {\n",
       "        text-align: right;\n",
       "    }\n",
       "</style>\n",
       "<table border=\"1\" class=\"dataframe\">\n",
       "  <thead>\n",
       "    <tr style=\"text-align: right;\">\n",
       "      <th></th>\n",
       "      <th>onset</th>\n",
       "      <th>duration</th>\n",
       "      <th>trial_no</th>\n",
       "      <th>event_type</th>\n",
       "      <th>stimulus_id</th>\n",
       "      <th>stimulus_name</th>\n",
       "      <th>category_index</th>\n",
       "      <th>image_index</th>\n",
       "      <th>response_time</th>\n",
       "    </tr>\n",
       "  </thead>\n",
       "  <tbody>\n",
       "    <tr>\n",
       "      <th>0</th>\n",
       "      <td>0</td>\n",
       "      <td>33</td>\n",
       "      <td>1</td>\n",
       "      <td>rest</td>\n",
       "      <td>NaN</td>\n",
       "      <td>NaN</td>\n",
       "      <td>NaN</td>\n",
       "      <td>NaN</td>\n",
       "      <td>NaN</td>\n",
       "    </tr>\n",
       "    <tr>\n",
       "      <th>1</th>\n",
       "      <td>33</td>\n",
       "      <td>9</td>\n",
       "      <td>2</td>\n",
       "      <td>stimulus</td>\n",
       "      <td>2.766534e+06</td>\n",
       "      <td>n02766534_15976</td>\n",
       "      <td>41.0</td>\n",
       "      <td>324.0</td>\n",
       "      <td>NaN</td>\n",
       "    </tr>\n",
       "    <tr>\n",
       "      <th>2</th>\n",
       "      <td>42</td>\n",
       "      <td>9</td>\n",
       "      <td>3</td>\n",
       "      <td>stimulus</td>\n",
       "      <td>1.970164e+06</td>\n",
       "      <td>n01970164_28566</td>\n",
       "      <td>17.0</td>\n",
       "      <td>134.0</td>\n",
       "      <td>NaN</td>\n",
       "    </tr>\n",
       "    <tr>\n",
       "      <th>3</th>\n",
       "      <td>51</td>\n",
       "      <td>9</td>\n",
       "      <td>4</td>\n",
       "      <td>stimulus</td>\n",
       "      <td>4.376876e+06</td>\n",
       "      <td>n04376876_11868</td>\n",
       "      <td>127.0</td>\n",
       "      <td>1011.0</td>\n",
       "      <td>NaN</td>\n",
       "    </tr>\n",
       "    <tr>\n",
       "      <th>4</th>\n",
       "      <td>60</td>\n",
       "      <td>9</td>\n",
       "      <td>5</td>\n",
       "      <td>stimulus</td>\n",
       "      <td>4.225987e+06</td>\n",
       "      <td>n04225987_6665</td>\n",
       "      <td>117.0</td>\n",
       "      <td>934.0</td>\n",
       "      <td>NaN</td>\n",
       "    </tr>\n",
       "    <tr>\n",
       "      <th>5</th>\n",
       "      <td>69</td>\n",
       "      <td>9</td>\n",
       "      <td>6</td>\n",
       "      <td>stimulus</td>\n",
       "      <td>3.079230e+06</td>\n",
       "      <td>n03079230_8270</td>\n",
       "      <td>57.0</td>\n",
       "      <td>456.0</td>\n",
       "      <td>NaN</td>\n",
       "    </tr>\n",
       "    <tr>\n",
       "      <th>6</th>\n",
       "      <td>78</td>\n",
       "      <td>9</td>\n",
       "      <td>7</td>\n",
       "      <td>stimulus</td>\n",
       "      <td>3.079230e+06</td>\n",
       "      <td>n03079230_8270</td>\n",
       "      <td>57.0</td>\n",
       "      <td>456.0</td>\n",
       "      <td>79.034210</td>\n",
       "    </tr>\n",
       "    <tr>\n",
       "      <th>7</th>\n",
       "      <td>87</td>\n",
       "      <td>9</td>\n",
       "      <td>8</td>\n",
       "      <td>stimulus</td>\n",
       "      <td>3.394916e+06</td>\n",
       "      <td>n03394916_23304</td>\n",
       "      <td>67.0</td>\n",
       "      <td>530.0</td>\n",
       "      <td>NaN</td>\n",
       "    </tr>\n",
       "    <tr>\n",
       "      <th>8</th>\n",
       "      <td>96</td>\n",
       "      <td>9</td>\n",
       "      <td>9</td>\n",
       "      <td>stimulus</td>\n",
       "      <td>1.877134e+06</td>\n",
       "      <td>n01877134_11991</td>\n",
       "      <td>14.0</td>\n",
       "      <td>111.0</td>\n",
       "      <td>NaN</td>\n",
       "    </tr>\n",
       "    <tr>\n",
       "      <th>9</th>\n",
       "      <td>105</td>\n",
       "      <td>9</td>\n",
       "      <td>10</td>\n",
       "      <td>stimulus</td>\n",
       "      <td>3.924679e+06</td>\n",
       "      <td>n03924679_11429</td>\n",
       "      <td>102.0</td>\n",
       "      <td>809.0</td>\n",
       "      <td>NaN</td>\n",
       "    </tr>\n",
       "    <tr>\n",
       "      <th>10</th>\n",
       "      <td>114</td>\n",
       "      <td>9</td>\n",
       "      <td>11</td>\n",
       "      <td>stimulus</td>\n",
       "      <td>3.602883e+06</td>\n",
       "      <td>n03602883_14315</td>\n",
       "      <td>82.0</td>\n",
       "      <td>652.0</td>\n",
       "      <td>NaN</td>\n",
       "    </tr>\n",
       "    <tr>\n",
       "      <th>11</th>\n",
       "      <td>123</td>\n",
       "      <td>9</td>\n",
       "      <td>12</td>\n",
       "      <td>stimulus</td>\n",
       "      <td>2.317335e+06</td>\n",
       "      <td>n02317335_21319</td>\n",
       "      <td>28.0</td>\n",
       "      <td>221.0</td>\n",
       "      <td>NaN</td>\n",
       "    </tr>\n",
       "    <tr>\n",
       "      <th>12</th>\n",
       "      <td>132</td>\n",
       "      <td>9</td>\n",
       "      <td>13</td>\n",
       "      <td>stimulus</td>\n",
       "      <td>2.090827e+06</td>\n",
       "      <td>n02090827_10084</td>\n",
       "      <td>23.0</td>\n",
       "      <td>177.0</td>\n",
       "      <td>NaN</td>\n",
       "    </tr>\n",
       "    <tr>\n",
       "      <th>13</th>\n",
       "      <td>141</td>\n",
       "      <td>9</td>\n",
       "      <td>14</td>\n",
       "      <td>stimulus</td>\n",
       "      <td>4.009552e+06</td>\n",
       "      <td>n04009552_10330</td>\n",
       "      <td>105.0</td>\n",
       "      <td>833.0</td>\n",
       "      <td>NaN</td>\n",
       "    </tr>\n",
       "    <tr>\n",
       "      <th>14</th>\n",
       "      <td>150</td>\n",
       "      <td>9</td>\n",
       "      <td>15</td>\n",
       "      <td>stimulus</td>\n",
       "      <td>4.168199e+06</td>\n",
       "      <td>n04168199_10620</td>\n",
       "      <td>114.0</td>\n",
       "      <td>906.0</td>\n",
       "      <td>NaN</td>\n",
       "    </tr>\n",
       "    <tr>\n",
       "      <th>15</th>\n",
       "      <td>159</td>\n",
       "      <td>9</td>\n",
       "      <td>16</td>\n",
       "      <td>stimulus</td>\n",
       "      <td>3.425413e+06</td>\n",
       "      <td>n03425413_21315</td>\n",
       "      <td>70.0</td>\n",
       "      <td>558.0</td>\n",
       "      <td>NaN</td>\n",
       "    </tr>\n",
       "    <tr>\n",
       "      <th>16</th>\n",
       "      <td>168</td>\n",
       "      <td>9</td>\n",
       "      <td>17</td>\n",
       "      <td>stimulus</td>\n",
       "      <td>3.642806e+06</td>\n",
       "      <td>n03642806_21320</td>\n",
       "      <td>87.0</td>\n",
       "      <td>693.0</td>\n",
       "      <td>NaN</td>\n",
       "    </tr>\n",
       "    <tr>\n",
       "      <th>17</th>\n",
       "      <td>177</td>\n",
       "      <td>9</td>\n",
       "      <td>18</td>\n",
       "      <td>stimulus</td>\n",
       "      <td>3.607659e+06</td>\n",
       "      <td>n03607659_6257</td>\n",
       "      <td>83.0</td>\n",
       "      <td>661.0</td>\n",
       "      <td>NaN</td>\n",
       "    </tr>\n",
       "    <tr>\n",
       "      <th>18</th>\n",
       "      <td>186</td>\n",
       "      <td>9</td>\n",
       "      <td>19</td>\n",
       "      <td>stimulus</td>\n",
       "      <td>3.255030e+06</td>\n",
       "      <td>n03255030_1413</td>\n",
       "      <td>62.0</td>\n",
       "      <td>490.0</td>\n",
       "      <td>NaN</td>\n",
       "    </tr>\n",
       "    <tr>\n",
       "      <th>19</th>\n",
       "      <td>195</td>\n",
       "      <td>9</td>\n",
       "      <td>20</td>\n",
       "      <td>stimulus</td>\n",
       "      <td>4.123740e+06</td>\n",
       "      <td>n04123740_12463</td>\n",
       "      <td>111.0</td>\n",
       "      <td>882.0</td>\n",
       "      <td>NaN</td>\n",
       "    </tr>\n",
       "    <tr>\n",
       "      <th>20</th>\n",
       "      <td>204</td>\n",
       "      <td>9</td>\n",
       "      <td>21</td>\n",
       "      <td>stimulus</td>\n",
       "      <td>4.123740e+06</td>\n",
       "      <td>n04123740_12463</td>\n",
       "      <td>111.0</td>\n",
       "      <td>882.0</td>\n",
       "      <td>205.035873</td>\n",
       "    </tr>\n",
       "    <tr>\n",
       "      <th>21</th>\n",
       "      <td>213</td>\n",
       "      <td>9</td>\n",
       "      <td>22</td>\n",
       "      <td>stimulus</td>\n",
       "      <td>2.998003e+06</td>\n",
       "      <td>n02998003_3934</td>\n",
       "      <td>54.0</td>\n",
       "      <td>427.0</td>\n",
       "      <td>NaN</td>\n",
       "    </tr>\n",
       "    <tr>\n",
       "      <th>22</th>\n",
       "      <td>222</td>\n",
       "      <td>9</td>\n",
       "      <td>23</td>\n",
       "      <td>stimulus</td>\n",
       "      <td>2.882647e+06</td>\n",
       "      <td>n02882647_169</td>\n",
       "      <td>50.0</td>\n",
       "      <td>394.0</td>\n",
       "      <td>NaN</td>\n",
       "    </tr>\n",
       "    <tr>\n",
       "      <th>23</th>\n",
       "      <td>231</td>\n",
       "      <td>9</td>\n",
       "      <td>24</td>\n",
       "      <td>stimulus</td>\n",
       "      <td>1.645776e+06</td>\n",
       "      <td>n01645776_10130</td>\n",
       "      <td>3.0</td>\n",
       "      <td>17.0</td>\n",
       "      <td>NaN</td>\n",
       "    </tr>\n",
       "    <tr>\n",
       "      <th>24</th>\n",
       "      <td>240</td>\n",
       "      <td>9</td>\n",
       "      <td>25</td>\n",
       "      <td>stimulus</td>\n",
       "      <td>2.233338e+06</td>\n",
       "      <td>n02233338_17552</td>\n",
       "      <td>26.0</td>\n",
       "      <td>204.0</td>\n",
       "      <td>NaN</td>\n",
       "    </tr>\n",
       "    <tr>\n",
       "      <th>25</th>\n",
       "      <td>249</td>\n",
       "      <td>9</td>\n",
       "      <td>26</td>\n",
       "      <td>stimulus</td>\n",
       "      <td>2.233338e+06</td>\n",
       "      <td>n02233338_17552</td>\n",
       "      <td>26.0</td>\n",
       "      <td>204.0</td>\n",
       "      <td>250.038045</td>\n",
       "    </tr>\n",
       "    <tr>\n",
       "      <th>26</th>\n",
       "      <td>258</td>\n",
       "      <td>9</td>\n",
       "      <td>27</td>\n",
       "      <td>stimulus</td>\n",
       "      <td>2.503517e+06</td>\n",
       "      <td>n02503517_3324</td>\n",
       "      <td>38.0</td>\n",
       "      <td>299.0</td>\n",
       "      <td>NaN</td>\n",
       "    </tr>\n",
       "    <tr>\n",
       "      <th>27</th>\n",
       "      <td>267</td>\n",
       "      <td>9</td>\n",
       "      <td>28</td>\n",
       "      <td>stimulus</td>\n",
       "      <td>1.855672e+06</td>\n",
       "      <td>n01855672_11785</td>\n",
       "      <td>13.0</td>\n",
       "      <td>97.0</td>\n",
       "      <td>NaN</td>\n",
       "    </tr>\n",
       "    <tr>\n",
       "      <th>28</th>\n",
       "      <td>276</td>\n",
       "      <td>9</td>\n",
       "      <td>29</td>\n",
       "      <td>stimulus</td>\n",
       "      <td>1.855672e+06</td>\n",
       "      <td>n01855672_11785</td>\n",
       "      <td>13.0</td>\n",
       "      <td>97.0</td>\n",
       "      <td>277.032485</td>\n",
       "    </tr>\n",
       "    <tr>\n",
       "      <th>29</th>\n",
       "      <td>285</td>\n",
       "      <td>9</td>\n",
       "      <td>30</td>\n",
       "      <td>stimulus</td>\n",
       "      <td>1.311188e+07</td>\n",
       "      <td>n13111881_7817</td>\n",
       "      <td>150.0</td>\n",
       "      <td>1199.0</td>\n",
       "      <td>NaN</td>\n",
       "    </tr>\n",
       "    <tr>\n",
       "      <th>30</th>\n",
       "      <td>294</td>\n",
       "      <td>9</td>\n",
       "      <td>31</td>\n",
       "      <td>stimulus</td>\n",
       "      <td>1.518878e+06</td>\n",
       "      <td>n01518878_14075</td>\n",
       "      <td>1.0</td>\n",
       "      <td>3.0</td>\n",
       "      <td>NaN</td>\n",
       "    </tr>\n",
       "    <tr>\n",
       "      <th>31</th>\n",
       "      <td>303</td>\n",
       "      <td>9</td>\n",
       "      <td>32</td>\n",
       "      <td>stimulus</td>\n",
       "      <td>1.518878e+06</td>\n",
       "      <td>n01518878_14075</td>\n",
       "      <td>1.0</td>\n",
       "      <td>3.0</td>\n",
       "      <td>303.530679</td>\n",
       "    </tr>\n",
       "    <tr>\n",
       "      <th>32</th>\n",
       "      <td>312</td>\n",
       "      <td>9</td>\n",
       "      <td>33</td>\n",
       "      <td>stimulus</td>\n",
       "      <td>3.790512e+06</td>\n",
       "      <td>n03790512_23966</td>\n",
       "      <td>95.0</td>\n",
       "      <td>757.0</td>\n",
       "      <td>NaN</td>\n",
       "    </tr>\n",
       "    <tr>\n",
       "      <th>33</th>\n",
       "      <td>321</td>\n",
       "      <td>9</td>\n",
       "      <td>34</td>\n",
       "      <td>stimulus</td>\n",
       "      <td>4.254680e+06</td>\n",
       "      <td>n04254680_1190</td>\n",
       "      <td>119.0</td>\n",
       "      <td>947.0</td>\n",
       "      <td>NaN</td>\n",
       "    </tr>\n",
       "    <tr>\n",
       "      <th>34</th>\n",
       "      <td>330</td>\n",
       "      <td>9</td>\n",
       "      <td>35</td>\n",
       "      <td>stimulus</td>\n",
       "      <td>4.497801e+06</td>\n",
       "      <td>n04497801_14007</td>\n",
       "      <td>138.0</td>\n",
       "      <td>1098.0</td>\n",
       "      <td>NaN</td>\n",
       "    </tr>\n",
       "    <tr>\n",
       "      <th>35</th>\n",
       "      <td>339</td>\n",
       "      <td>9</td>\n",
       "      <td>36</td>\n",
       "      <td>stimulus</td>\n",
       "      <td>3.950228e+06</td>\n",
       "      <td>n03950228_35453</td>\n",
       "      <td>103.0</td>\n",
       "      <td>822.0</td>\n",
       "      <td>NaN</td>\n",
       "    </tr>\n",
       "    <tr>\n",
       "      <th>36</th>\n",
       "      <td>348</td>\n",
       "      <td>9</td>\n",
       "      <td>37</td>\n",
       "      <td>stimulus</td>\n",
       "      <td>1.197823e+07</td>\n",
       "      <td>n11978233_16933</td>\n",
       "      <td>147.0</td>\n",
       "      <td>1169.0</td>\n",
       "      <td>NaN</td>\n",
       "    </tr>\n",
       "    <tr>\n",
       "      <th>37</th>\n",
       "      <td>357</td>\n",
       "      <td>9</td>\n",
       "      <td>38</td>\n",
       "      <td>stimulus</td>\n",
       "      <td>3.496296e+06</td>\n",
       "      <td>n03496296_9005</td>\n",
       "      <td>77.0</td>\n",
       "      <td>616.0</td>\n",
       "      <td>NaN</td>\n",
       "    </tr>\n",
       "    <tr>\n",
       "      <th>38</th>\n",
       "      <td>366</td>\n",
       "      <td>9</td>\n",
       "      <td>39</td>\n",
       "      <td>stimulus</td>\n",
       "      <td>3.815615e+06</td>\n",
       "      <td>n03815615_17450</td>\n",
       "      <td>98.0</td>\n",
       "      <td>778.0</td>\n",
       "      <td>NaN</td>\n",
       "    </tr>\n",
       "    <tr>\n",
       "      <th>39</th>\n",
       "      <td>375</td>\n",
       "      <td>9</td>\n",
       "      <td>40</td>\n",
       "      <td>stimulus</td>\n",
       "      <td>2.808440e+06</td>\n",
       "      <td>n02808440_48297</td>\n",
       "      <td>46.0</td>\n",
       "      <td>367.0</td>\n",
       "      <td>NaN</td>\n",
       "    </tr>\n",
       "    <tr>\n",
       "      <th>40</th>\n",
       "      <td>384</td>\n",
       "      <td>9</td>\n",
       "      <td>41</td>\n",
       "      <td>stimulus</td>\n",
       "      <td>3.187595e+06</td>\n",
       "      <td>n03187595_7260</td>\n",
       "      <td>60.0</td>\n",
       "      <td>477.0</td>\n",
       "      <td>NaN</td>\n",
       "    </tr>\n",
       "    <tr>\n",
       "      <th>41</th>\n",
       "      <td>393</td>\n",
       "      <td>9</td>\n",
       "      <td>42</td>\n",
       "      <td>stimulus</td>\n",
       "      <td>3.612010e+06</td>\n",
       "      <td>n03612010_12996</td>\n",
       "      <td>85.0</td>\n",
       "      <td>674.0</td>\n",
       "      <td>NaN</td>\n",
       "    </tr>\n",
       "    <tr>\n",
       "      <th>42</th>\n",
       "      <td>402</td>\n",
       "      <td>9</td>\n",
       "      <td>43</td>\n",
       "      <td>stimulus</td>\n",
       "      <td>2.055803e+06</td>\n",
       "      <td>n02055803_4843</td>\n",
       "      <td>20.0</td>\n",
       "      <td>153.0</td>\n",
       "      <td>NaN</td>\n",
       "    </tr>\n",
       "    <tr>\n",
       "      <th>43</th>\n",
       "      <td>411</td>\n",
       "      <td>9</td>\n",
       "      <td>44</td>\n",
       "      <td>stimulus</td>\n",
       "      <td>4.090263e+06</td>\n",
       "      <td>n04090263_10441</td>\n",
       "      <td>109.0</td>\n",
       "      <td>865.0</td>\n",
       "      <td>NaN</td>\n",
       "    </tr>\n",
       "    <tr>\n",
       "      <th>44</th>\n",
       "      <td>420</td>\n",
       "      <td>9</td>\n",
       "      <td>45</td>\n",
       "      <td>stimulus</td>\n",
       "      <td>2.005790e+06</td>\n",
       "      <td>n02005790_3943</td>\n",
       "      <td>18.0</td>\n",
       "      <td>141.0</td>\n",
       "      <td>NaN</td>\n",
       "    </tr>\n",
       "    <tr>\n",
       "      <th>45</th>\n",
       "      <td>429</td>\n",
       "      <td>9</td>\n",
       "      <td>46</td>\n",
       "      <td>stimulus</td>\n",
       "      <td>3.646296e+06</td>\n",
       "      <td>n03646296_10069</td>\n",
       "      <td>88.0</td>\n",
       "      <td>697.0</td>\n",
       "      <td>NaN</td>\n",
       "    </tr>\n",
       "    <tr>\n",
       "      <th>46</th>\n",
       "      <td>438</td>\n",
       "      <td>9</td>\n",
       "      <td>47</td>\n",
       "      <td>stimulus</td>\n",
       "      <td>3.623556e+06</td>\n",
       "      <td>n03623556_6577</td>\n",
       "      <td>86.0</td>\n",
       "      <td>686.0</td>\n",
       "      <td>NaN</td>\n",
       "    </tr>\n",
       "    <tr>\n",
       "      <th>47</th>\n",
       "      <td>447</td>\n",
       "      <td>9</td>\n",
       "      <td>48</td>\n",
       "      <td>stimulus</td>\n",
       "      <td>3.063599e+06</td>\n",
       "      <td>n03063599_2682</td>\n",
       "      <td>56.0</td>\n",
       "      <td>441.0</td>\n",
       "      <td>NaN</td>\n",
       "    </tr>\n",
       "    <tr>\n",
       "      <th>48</th>\n",
       "      <td>456</td>\n",
       "      <td>9</td>\n",
       "      <td>49</td>\n",
       "      <td>stimulus</td>\n",
       "      <td>4.442312e+06</td>\n",
       "      <td>n04442312_10246</td>\n",
       "      <td>134.0</td>\n",
       "      <td>1065.0</td>\n",
       "      <td>NaN</td>\n",
       "    </tr>\n",
       "    <tr>\n",
       "      <th>49</th>\n",
       "      <td>465</td>\n",
       "      <td>9</td>\n",
       "      <td>50</td>\n",
       "      <td>stimulus</td>\n",
       "      <td>3.085013e+06</td>\n",
       "      <td>n03085013_21300</td>\n",
       "      <td>58.0</td>\n",
       "      <td>458.0</td>\n",
       "      <td>NaN</td>\n",
       "    </tr>\n",
       "    <tr>\n",
       "      <th>50</th>\n",
       "      <td>474</td>\n",
       "      <td>9</td>\n",
       "      <td>51</td>\n",
       "      <td>stimulus</td>\n",
       "      <td>4.255586e+06</td>\n",
       "      <td>n04255586_1521</td>\n",
       "      <td>120.0</td>\n",
       "      <td>953.0</td>\n",
       "      <td>NaN</td>\n",
       "    </tr>\n",
       "    <tr>\n",
       "      <th>51</th>\n",
       "      <td>483</td>\n",
       "      <td>9</td>\n",
       "      <td>52</td>\n",
       "      <td>stimulus</td>\n",
       "      <td>2.439033e+06</td>\n",
       "      <td>n02439033_11666</td>\n",
       "      <td>33.0</td>\n",
       "      <td>257.0</td>\n",
       "      <td>NaN</td>\n",
       "    </tr>\n",
       "    <tr>\n",
       "      <th>52</th>\n",
       "      <td>492</td>\n",
       "      <td>9</td>\n",
       "      <td>53</td>\n",
       "      <td>stimulus</td>\n",
       "      <td>7.734744e+06</td>\n",
       "      <td>n07734744_8048</td>\n",
       "      <td>144.0</td>\n",
       "      <td>1151.0</td>\n",
       "      <td>NaN</td>\n",
       "    </tr>\n",
       "    <tr>\n",
       "      <th>53</th>\n",
       "      <td>501</td>\n",
       "      <td>9</td>\n",
       "      <td>54</td>\n",
       "      <td>stimulus</td>\n",
       "      <td>4.587559e+06</td>\n",
       "      <td>n04587559_10400</td>\n",
       "      <td>140.0</td>\n",
       "      <td>1113.0</td>\n",
       "      <td>NaN</td>\n",
       "    </tr>\n",
       "    <tr>\n",
       "      <th>54</th>\n",
       "      <td>510</td>\n",
       "      <td>9</td>\n",
       "      <td>55</td>\n",
       "      <td>stimulus</td>\n",
       "      <td>2.800213e+06</td>\n",
       "      <td>n02800213_4703</td>\n",
       "      <td>44.0</td>\n",
       "      <td>351.0</td>\n",
       "      <td>NaN</td>\n",
       "    </tr>\n",
       "    <tr>\n",
       "      <th>55</th>\n",
       "      <td>519</td>\n",
       "      <td>9</td>\n",
       "      <td>56</td>\n",
       "      <td>stimulus</td>\n",
       "      <td>4.482393e+06</td>\n",
       "      <td>n04482393_6359</td>\n",
       "      <td>137.0</td>\n",
       "      <td>1096.0</td>\n",
       "      <td>NaN</td>\n",
       "    </tr>\n",
       "    <tr>\n",
       "      <th>56</th>\n",
       "      <td>528</td>\n",
       "      <td>6</td>\n",
       "      <td>57</td>\n",
       "      <td>rest</td>\n",
       "      <td>NaN</td>\n",
       "      <td>NaN</td>\n",
       "      <td>NaN</td>\n",
       "      <td>NaN</td>\n",
       "      <td>NaN</td>\n",
       "    </tr>\n",
       "  </tbody>\n",
       "</table>\n",
       "</div>"
      ],
      "text/plain": [
       "    onset  duration  trial_no event_type   stimulus_id    stimulus_name  \\\n",
       "0       0        33         1       rest           NaN              NaN   \n",
       "1      33         9         2   stimulus  2.766534e+06  n02766534_15976   \n",
       "2      42         9         3   stimulus  1.970164e+06  n01970164_28566   \n",
       "3      51         9         4   stimulus  4.376876e+06  n04376876_11868   \n",
       "4      60         9         5   stimulus  4.225987e+06   n04225987_6665   \n",
       "5      69         9         6   stimulus  3.079230e+06   n03079230_8270   \n",
       "6      78         9         7   stimulus  3.079230e+06   n03079230_8270   \n",
       "7      87         9         8   stimulus  3.394916e+06  n03394916_23304   \n",
       "8      96         9         9   stimulus  1.877134e+06  n01877134_11991   \n",
       "9     105         9        10   stimulus  3.924679e+06  n03924679_11429   \n",
       "10    114         9        11   stimulus  3.602883e+06  n03602883_14315   \n",
       "11    123         9        12   stimulus  2.317335e+06  n02317335_21319   \n",
       "12    132         9        13   stimulus  2.090827e+06  n02090827_10084   \n",
       "13    141         9        14   stimulus  4.009552e+06  n04009552_10330   \n",
       "14    150         9        15   stimulus  4.168199e+06  n04168199_10620   \n",
       "15    159         9        16   stimulus  3.425413e+06  n03425413_21315   \n",
       "16    168         9        17   stimulus  3.642806e+06  n03642806_21320   \n",
       "17    177         9        18   stimulus  3.607659e+06   n03607659_6257   \n",
       "18    186         9        19   stimulus  3.255030e+06   n03255030_1413   \n",
       "19    195         9        20   stimulus  4.123740e+06  n04123740_12463   \n",
       "20    204         9        21   stimulus  4.123740e+06  n04123740_12463   \n",
       "21    213         9        22   stimulus  2.998003e+06   n02998003_3934   \n",
       "22    222         9        23   stimulus  2.882647e+06    n02882647_169   \n",
       "23    231         9        24   stimulus  1.645776e+06  n01645776_10130   \n",
       "24    240         9        25   stimulus  2.233338e+06  n02233338_17552   \n",
       "25    249         9        26   stimulus  2.233338e+06  n02233338_17552   \n",
       "26    258         9        27   stimulus  2.503517e+06   n02503517_3324   \n",
       "27    267         9        28   stimulus  1.855672e+06  n01855672_11785   \n",
       "28    276         9        29   stimulus  1.855672e+06  n01855672_11785   \n",
       "29    285         9        30   stimulus  1.311188e+07   n13111881_7817   \n",
       "30    294         9        31   stimulus  1.518878e+06  n01518878_14075   \n",
       "31    303         9        32   stimulus  1.518878e+06  n01518878_14075   \n",
       "32    312         9        33   stimulus  3.790512e+06  n03790512_23966   \n",
       "33    321         9        34   stimulus  4.254680e+06   n04254680_1190   \n",
       "34    330         9        35   stimulus  4.497801e+06  n04497801_14007   \n",
       "35    339         9        36   stimulus  3.950228e+06  n03950228_35453   \n",
       "36    348         9        37   stimulus  1.197823e+07  n11978233_16933   \n",
       "37    357         9        38   stimulus  3.496296e+06   n03496296_9005   \n",
       "38    366         9        39   stimulus  3.815615e+06  n03815615_17450   \n",
       "39    375         9        40   stimulus  2.808440e+06  n02808440_48297   \n",
       "40    384         9        41   stimulus  3.187595e+06   n03187595_7260   \n",
       "41    393         9        42   stimulus  3.612010e+06  n03612010_12996   \n",
       "42    402         9        43   stimulus  2.055803e+06   n02055803_4843   \n",
       "43    411         9        44   stimulus  4.090263e+06  n04090263_10441   \n",
       "44    420         9        45   stimulus  2.005790e+06   n02005790_3943   \n",
       "45    429         9        46   stimulus  3.646296e+06  n03646296_10069   \n",
       "46    438         9        47   stimulus  3.623556e+06   n03623556_6577   \n",
       "47    447         9        48   stimulus  3.063599e+06   n03063599_2682   \n",
       "48    456         9        49   stimulus  4.442312e+06  n04442312_10246   \n",
       "49    465         9        50   stimulus  3.085013e+06  n03085013_21300   \n",
       "50    474         9        51   stimulus  4.255586e+06   n04255586_1521   \n",
       "51    483         9        52   stimulus  2.439033e+06  n02439033_11666   \n",
       "52    492         9        53   stimulus  7.734744e+06   n07734744_8048   \n",
       "53    501         9        54   stimulus  4.587559e+06  n04587559_10400   \n",
       "54    510         9        55   stimulus  2.800213e+06   n02800213_4703   \n",
       "55    519         9        56   stimulus  4.482393e+06   n04482393_6359   \n",
       "56    528         6        57       rest           NaN              NaN   \n",
       "\n",
       "    category_index  image_index  response_time  \n",
       "0              NaN          NaN            NaN  \n",
       "1             41.0        324.0            NaN  \n",
       "2             17.0        134.0            NaN  \n",
       "3            127.0       1011.0            NaN  \n",
       "4            117.0        934.0            NaN  \n",
       "5             57.0        456.0            NaN  \n",
       "6             57.0        456.0      79.034210  \n",
       "7             67.0        530.0            NaN  \n",
       "8             14.0        111.0            NaN  \n",
       "9            102.0        809.0            NaN  \n",
       "10            82.0        652.0            NaN  \n",
       "11            28.0        221.0            NaN  \n",
       "12            23.0        177.0            NaN  \n",
       "13           105.0        833.0            NaN  \n",
       "14           114.0        906.0            NaN  \n",
       "15            70.0        558.0            NaN  \n",
       "16            87.0        693.0            NaN  \n",
       "17            83.0        661.0            NaN  \n",
       "18            62.0        490.0            NaN  \n",
       "19           111.0        882.0            NaN  \n",
       "20           111.0        882.0     205.035873  \n",
       "21            54.0        427.0            NaN  \n",
       "22            50.0        394.0            NaN  \n",
       "23             3.0         17.0            NaN  \n",
       "24            26.0        204.0            NaN  \n",
       "25            26.0        204.0     250.038045  \n",
       "26            38.0        299.0            NaN  \n",
       "27            13.0         97.0            NaN  \n",
       "28            13.0         97.0     277.032485  \n",
       "29           150.0       1199.0            NaN  \n",
       "30             1.0          3.0            NaN  \n",
       "31             1.0          3.0     303.530679  \n",
       "32            95.0        757.0            NaN  \n",
       "33           119.0        947.0            NaN  \n",
       "34           138.0       1098.0            NaN  \n",
       "35           103.0        822.0            NaN  \n",
       "36           147.0       1169.0            NaN  \n",
       "37            77.0        616.0            NaN  \n",
       "38            98.0        778.0            NaN  \n",
       "39            46.0        367.0            NaN  \n",
       "40            60.0        477.0            NaN  \n",
       "41            85.0        674.0            NaN  \n",
       "42            20.0        153.0            NaN  \n",
       "43           109.0        865.0            NaN  \n",
       "44            18.0        141.0            NaN  \n",
       "45            88.0        697.0            NaN  \n",
       "46            86.0        686.0            NaN  \n",
       "47            56.0        441.0            NaN  \n",
       "48           134.0       1065.0            NaN  \n",
       "49            58.0        458.0            NaN  \n",
       "50           120.0        953.0            NaN  \n",
       "51            33.0        257.0            NaN  \n",
       "52           144.0       1151.0            NaN  \n",
       "53           140.0       1113.0            NaN  \n",
       "54            44.0        351.0            NaN  \n",
       "55           137.0       1096.0            NaN  \n",
       "56             NaN          NaN            NaN  "
      ]
     },
     "execution_count": 119,
     "metadata": {},
     "output_type": "execute_result"
    }
   ],
   "source": [
    "events"
   ]
  },
  {
   "cell_type": "code",
   "execution_count": 121,
   "id": "9b4a3b92-c2fa-41a7-8818-11ceae86ff24",
   "metadata": {},
   "outputs": [
    {
     "data": {
      "text/plain": [
       "(array([ 6,  9, 33]), array([ 1, 55,  1]))"
      ]
     },
     "execution_count": 121,
     "metadata": {},
     "output_type": "execute_result"
    }
   ],
   "source": [
    "np.unique(events.duration, return_counts=True)"
   ]
  },
  {
   "cell_type": "code",
   "execution_count": null,
   "id": "8f71e842-3802-45e6-b271-3ea2d3a177b7",
   "metadata": {},
   "outputs": [],
   "source": [
    "time_points e duration dello stimolo\n",
    "11 -> 33\n",
    "2 -> 6\n",
    "3 time_points -> 9"
   ]
  },
  {
   "cell_type": "code",
   "execution_count": null,
   "id": "f431c09c-3e2a-4fee-9b3d-816d00b690be",
   "metadata": {},
   "outputs": [],
   "source": [
    "# vedi video vsauce: brain imaging"
   ]
  },
  {
   "cell_type": "markdown",
   "id": "bb76b11f-af35-4343-8190-a91f3a7eee0c",
   "metadata": {},
   "source": [
    "## Allineamento scansioni Array-CSV"
   ]
  },
  {
   "cell_type": "code",
   "execution_count": 176,
   "id": "5849e86b-e1ac-4dda-b056-1ec57521e8f7",
   "metadata": {},
   "outputs": [],
   "source": [
    "import nibabel as nib\n",
    "import numpy as np"
   ]
  },
  {
   "cell_type": "code",
   "execution_count": 177,
   "id": "62796a30-f62c-43ac-9147-8f159cde2651",
   "metadata": {},
   "outputs": [],
   "source": [
    "img = nib.load(\"./Data/sub-01_ses-perceptionTraining01_task-perception_run-01_bold.nii\")\n",
    "data = img.get_fdata()"
   ]
  },
  {
   "cell_type": "markdown",
   "id": "9acf5cb7-0c65-4abe-9b0c-cf6b5a67eb2b",
   "metadata": {},
   "source": [
    "### 1. Approccio statico\n",
    "Dimensione della finestra è fissa"
   ]
  },
  {
   "cell_type": "code",
   "execution_count": 146,
   "id": "333d0efc-3dbd-4ab6-804e-93f1b9183ade",
   "metadata": {},
   "outputs": [],
   "source": [
    "# Define the window size (3 time points)\n",
    "window_size = 3\n",
    "\n",
    "# Calculate the number of windows\n",
    "num_windows = data.shape[3] // window_size"
   ]
  },
  {
   "cell_type": "code",
   "execution_count": 147,
   "id": "d50952da-3f13-4c26-b3f6-85d72f17179d",
   "metadata": {},
   "outputs": [
    {
     "data": {
      "text/plain": [
       "(64, 64, 50, 59)"
      ]
     },
     "execution_count": 147,
     "metadata": {},
     "output_type": "execute_result"
    }
   ],
   "source": [
    "# Initialize an array to store the summed data\n",
    "summed_data = np.zeros(data.shape[:3] + (num_windows,))\n",
    "summed_data.shape # summed_data ha le prime tre dimensioni uguali a data;\n",
    "                  # e l'ultima che deriva dal numero di finestre\n",
    "                  # domanda: perché è scritto così (num_windows, ) ?"
   ]
  },
  {
   "cell_type": "code",
   "execution_count": null,
   "id": "c4853b11-f1d8-4a03-b2ac-ec8f4eb0b92f",
   "metadata": {},
   "outputs": [],
   "source": [
    "# Sum the data for every 3 time points\n",
    "for i in range(num_windows):\n",
    "    time_window = data[:, :, :, i * window_size : (i + 1) * window_size]\n",
    "    summed_data[:, :, :, i] = np.mean(time_window, axis=3)\n",
    "\n",
    "# You can also calculate the average by replacing np.sum with np.mean\n",
    "\n",
    "# Save the summed data as a new NIfTI file\n",
    "# summed_img = nib.Nifti1Image(summed_data, img.affine)\n",
    "# nib.save(summed_img, '/path/to/summed_data.nii')"
   ]
  },
  {
   "cell_type": "code",
   "execution_count": 141,
   "id": "954ef11b-eb00-4da5-b80c-e8e586a11d60",
   "metadata": {},
   "outputs": [
    {
     "data": {
      "text/plain": [
       "(64, 64, 50, 59)"
      ]
     },
     "execution_count": 141,
     "metadata": {},
     "output_type": "execute_result"
    }
   ],
   "source": [
    "#show_slice(summed_data, 0, 0, 0, 0)\n",
    "summed_data.shape"
   ]
  },
  {
   "cell_type": "markdown",
   "id": "bcfaaa87-0842-4b15-8cdc-82197ffbd03f",
   "metadata": {},
   "source": [
    "### 2. Approccio Dinamico\n",
    "Dimensione della finestra in base al campo *duration* del dataframe delle scansioni"
   ]
  },
  {
   "cell_type": "code",
   "execution_count": 178,
   "id": "e6d253d9-0cbf-442f-9ce4-16b6f13af77a",
   "metadata": {},
   "outputs": [
    {
     "data": {
      "text/plain": [
       "(64, 64, 50, 178)"
      ]
     },
     "execution_count": 178,
     "metadata": {},
     "output_type": "execute_result"
    }
   ],
   "source": [
    "data.shape"
   ]
  },
  {
   "cell_type": "code",
   "execution_count": 197,
   "id": "af813d3a-6859-4024-b4b6-7b3d09b576c6",
   "metadata": {
    "scrolled": true
   },
   "outputs": [],
   "source": [
    "durations = events[\"duration\"] # estrae una Series di Pandas\n",
    "# ogni elemento diviso 3, perchè 3 time_points = 9 sec\n",
    "durations = [ x // 3 for x in durations ] # diventa una lista, ogni elemento è una window_size"
   ]
  },
  {
   "cell_type": "code",
   "execution_count": 218,
   "id": "e9a4cc9b-e874-40c0-b65b-f30f15705651",
   "metadata": {},
   "outputs": [
    {
     "data": {
      "text/plain": [
       "(array([ 2,  3, 11]), array([ 1, 55,  1]))"
      ]
     },
     "execution_count": 218,
     "metadata": {},
     "output_type": "execute_result"
    }
   ],
   "source": [
    "# num_windows equivale a #record nel csv scansioni, o len(durations) ovvero il numero di finestre!\n",
    "num_windows = len(durations)"
   ]
  },
  {
   "cell_type": "code",
   "execution_count": 249,
   "id": "08ad6137-77c3-4f59-bb6b-ff47bb4f3bce",
   "metadata": {
    "scrolled": true
   },
   "outputs": [],
   "source": [
    "# Initialize an array to store the summed data\n",
    "summed_data = np.zeros(data.shape[:3] + (num_windows, ))\n",
    "\n",
    "# Sum the data for every x time points, for x in durations\n",
    "for window_size, i in zip(durations, range(num_windows)):\n",
    "\n",
    "    # Take every scan, also rest events\n",
    "    time_window = data[:, :, :, i * window_size : (i + 1) * window_size]\n",
    "    summed_data[:, :, :, i] = np.mean(time_window, axis=3)"
   ]
  },
  {
   "cell_type": "code",
   "execution_count": 250,
   "id": "19da9466-a1b6-4899-b2a3-4c7e5cdf73ed",
   "metadata": {},
   "outputs": [
    {
     "data": {
      "text/plain": [
       "(64, 64, 50, 57)"
      ]
     },
     "execution_count": 250,
     "metadata": {},
     "output_type": "execute_result"
    }
   ],
   "source": [
    "summed_data.shape"
   ]
  },
  {
   "cell_type": "code",
   "execution_count": 251,
   "id": "0bf2d4ce-6766-41b8-a7fc-e0e657b40f98",
   "metadata": {},
   "outputs": [],
   "source": [
    "# adesso, confrontando con il csv, possiamo togliere le scansioni che corrispondono a rest"
   ]
  },
  {
   "cell_type": "code",
   "execution_count": 269,
   "id": "b7f0f92e-63ff-49e9-bb41-b05bd79fc5c1",
   "metadata": {
    "scrolled": true
   },
   "outputs": [
    {
     "data": {
      "text/plain": [
       "(57,)"
      ]
     },
     "execution_count": 269,
     "metadata": {},
     "output_type": "execute_result"
    }
   ],
   "source": [
    "cropped_data = summed_data\n",
    "mask = np.ndarray(shape = cropped_data.shape[3], dtype=bool) # di tipo bool o np.int32 (dove 1 = True e 0 = False)\n",
    "mask.shape"
   ]
  },
  {
   "cell_type": "code",
   "execution_count": 270,
   "id": "ea217cab-3a05-412b-a03f-555f7d34d0e0",
   "metadata": {
    "scrolled": true
   },
   "outputs": [
    {
     "data": {
      "text/plain": [
       "(array([False,  True]), array([55,  2]))"
      ]
     },
     "execution_count": 270,
     "metadata": {},
     "output_type": "execute_result"
    }
   ],
   "source": [
    "for i in range(events.shape[0]): # per ogni record\n",
    "    mask[i] = events.loc[i, \"event_type\"] == \"rest\"\n",
    "\n",
    "# Alternativa: iterrows\n",
    "# \n",
    "# for index, row in events.iterrows():\n",
    "#     if row[\"event_type\"] == \"rest\":\n",
    "#         print(\"rest\")"
   ]
  },
  {
   "cell_type": "code",
   "execution_count": 271,
   "id": "0a1d8819-5464-49b5-9177-c773ace4f056",
   "metadata": {},
   "outputs": [
    {
     "name": "stdout",
     "output_type": "stream",
     "text": [
      "Conteggio di mask (array([False,  True]), array([55,  2]))\n",
      "Cropped_data shape:  (64, 64, 50, 55)\n"
     ]
    }
   ],
   "source": [
    "print(\"Conteggio di mask\", np.unique(mask, return_counts=True))\n",
    "# elimina eventi \"rest\" nelle scansioni\n",
    "cropped_data = np.delete(arr = cropped_data, obj = mask, axis = 3)\n",
    "print(\"Cropped_data shape: \", cropped_data.shape)"
   ]
  },
  {
   "cell_type": "markdown",
   "id": "0196140a-04ff-4da4-afdc-8677028adace",
   "metadata": {},
   "source": [
    "## Feature-Target\n",
    "Creazione coppia scansione-immagine"
   ]
  },
  {
   "cell_type": "code",
   "execution_count": 272,
   "id": "074d7730-dc10-4d62-a621-0b383abe33da",
   "metadata": {},
   "outputs": [],
   "source": [
    "scans = cropped_data # array scansioni"
   ]
  },
  {
   "cell_type": "code",
   "execution_count": 298,
   "id": "c5caa9f7-788e-41c2-acaa-8eaa1b611008",
   "metadata": {},
   "outputs": [],
   "source": [
    "events.reset_index(drop=True, inplace=True) # reset index, parte di nuovo da 0, drop=True non aggiunge il vecchio indice come new column\n",
    "stimulus = events # csv scansioni"
   ]
  },
  {
   "cell_type": "code",
   "execution_count": 299,
   "id": "7e9c1a56-58ef-4fde-994f-ab420502d734",
   "metadata": {
    "scrolled": true
   },
   "outputs": [
    {
     "data": {
      "text/html": [
       "<div>\n",
       "<style scoped>\n",
       "    .dataframe tbody tr th:only-of-type {\n",
       "        vertical-align: middle;\n",
       "    }\n",
       "\n",
       "    .dataframe tbody tr th {\n",
       "        vertical-align: top;\n",
       "    }\n",
       "\n",
       "    .dataframe thead th {\n",
       "        text-align: right;\n",
       "    }\n",
       "</style>\n",
       "<table border=\"1\" class=\"dataframe\">\n",
       "  <thead>\n",
       "    <tr style=\"text-align: right;\">\n",
       "      <th></th>\n",
       "      <th>onset</th>\n",
       "      <th>duration</th>\n",
       "      <th>trial_no</th>\n",
       "      <th>event_type</th>\n",
       "      <th>stimulus_id</th>\n",
       "      <th>stimulus_name</th>\n",
       "      <th>category_index</th>\n",
       "      <th>image_index</th>\n",
       "      <th>response_time</th>\n",
       "    </tr>\n",
       "  </thead>\n",
       "  <tbody>\n",
       "    <tr>\n",
       "      <th>50</th>\n",
       "      <td>483</td>\n",
       "      <td>9</td>\n",
       "      <td>52</td>\n",
       "      <td>stimulus</td>\n",
       "      <td>2.439033e+06</td>\n",
       "      <td>n02439033_11666</td>\n",
       "      <td>33.0</td>\n",
       "      <td>257.0</td>\n",
       "      <td>NaN</td>\n",
       "    </tr>\n",
       "    <tr>\n",
       "      <th>51</th>\n",
       "      <td>492</td>\n",
       "      <td>9</td>\n",
       "      <td>53</td>\n",
       "      <td>stimulus</td>\n",
       "      <td>7.734744e+06</td>\n",
       "      <td>n07734744_8048</td>\n",
       "      <td>144.0</td>\n",
       "      <td>1151.0</td>\n",
       "      <td>NaN</td>\n",
       "    </tr>\n",
       "    <tr>\n",
       "      <th>52</th>\n",
       "      <td>501</td>\n",
       "      <td>9</td>\n",
       "      <td>54</td>\n",
       "      <td>stimulus</td>\n",
       "      <td>4.587559e+06</td>\n",
       "      <td>n04587559_10400</td>\n",
       "      <td>140.0</td>\n",
       "      <td>1113.0</td>\n",
       "      <td>NaN</td>\n",
       "    </tr>\n",
       "    <tr>\n",
       "      <th>53</th>\n",
       "      <td>510</td>\n",
       "      <td>9</td>\n",
       "      <td>55</td>\n",
       "      <td>stimulus</td>\n",
       "      <td>2.800213e+06</td>\n",
       "      <td>n02800213_4703</td>\n",
       "      <td>44.0</td>\n",
       "      <td>351.0</td>\n",
       "      <td>NaN</td>\n",
       "    </tr>\n",
       "    <tr>\n",
       "      <th>54</th>\n",
       "      <td>519</td>\n",
       "      <td>9</td>\n",
       "      <td>56</td>\n",
       "      <td>stimulus</td>\n",
       "      <td>4.482393e+06</td>\n",
       "      <td>n04482393_6359</td>\n",
       "      <td>137.0</td>\n",
       "      <td>1096.0</td>\n",
       "      <td>NaN</td>\n",
       "    </tr>\n",
       "  </tbody>\n",
       "</table>\n",
       "</div>"
      ],
      "text/plain": [
       "    onset  duration  trial_no event_type   stimulus_id    stimulus_name  \\\n",
       "50    483         9        52   stimulus  2.439033e+06  n02439033_11666   \n",
       "51    492         9        53   stimulus  7.734744e+06   n07734744_8048   \n",
       "52    501         9        54   stimulus  4.587559e+06  n04587559_10400   \n",
       "53    510         9        55   stimulus  2.800213e+06   n02800213_4703   \n",
       "54    519         9        56   stimulus  4.482393e+06   n04482393_6359   \n",
       "\n",
       "    category_index  image_index  response_time  \n",
       "50            33.0        257.0            NaN  \n",
       "51           144.0       1151.0            NaN  \n",
       "52           140.0       1113.0            NaN  \n",
       "53            44.0        351.0            NaN  \n",
       "54           137.0       1096.0            NaN  "
      ]
     },
     "execution_count": 299,
     "metadata": {},
     "output_type": "execute_result"
    }
   ],
   "source": [
    "# Filtro CSV scansioni: elimina record di tipo \"rest\"\n",
    "index_events = stimulus[ (stimulus['event_type'] == 'rest') ].index\n",
    "stimulus.drop(index_events , inplace=True) # drop delle rows in base all'indice\n",
    "stimulus.tail()\n",
    "# come è fatto index_events?"
   ]
  },
  {
   "cell_type": "code",
   "execution_count": 290,
   "id": "0f73783b-8d43-4b60-80ac-d428334fc3fd",
   "metadata": {},
   "outputs": [],
   "source": [
    "# scans = ndarray di scansioni;\n",
    "# stimulus = csv delle scansioni, comprende nomi delle imgs target"
   ]
  },
  {
   "cell_type": "code",
   "execution_count": 325,
   "id": "b5ebdcb0-c9a8-4865-899f-22803577110c",
   "metadata": {
    "scrolled": true
   },
   "outputs": [],
   "source": [
    "import os\n",
    "import tensorflow as tf\n",
    "from keras.utils import load_img, img_to_array\n",
    "from tensorflow.data import Dataset"
   ]
  },
  {
   "cell_type": "code",
   "execution_count": 345,
   "id": "0321f7fc-ac0d-4b4b-ac8b-476abfa50bad",
   "metadata": {
    "scrolled": true
   },
   "outputs": [],
   "source": [
    "def data_generator():\n",
    "\n",
    "    path_to_imgs = \"./images/images/training/\"\n",
    "    img_height = 64\n",
    "    img_width = 64\n",
    "    \n",
    "    for i in range(stimulus.shape[0]):\n",
    "    \n",
    "        img_filename = stimulus.loc[i, \"stimulus_name\"]\n",
    "        \n",
    "        for root, _, files in os.walk(path_to_imgs):\n",
    "            if img_filename + \".JPEG\" in files:\n",
    "                \n",
    "                img = load_img(\n",
    "                    root + img_filename + \".JPEG\",\n",
    "                    color_mode='grayscale',\n",
    "                    target_size= (img_height, img_width), # img originale ha shape (500, 500, 3)\n",
    "                    interpolation='nearest'\n",
    "                )\n",
    "                \n",
    "                img_arr = img_to_array(img) \n",
    "                # print(f\"File {img_filename} found in {root}\")\n",
    "                # print(img_arr.shape) # (64, 64, 1)\n",
    "    \n",
    "                yield scans[..., i], img_arr\n",
    "                # yield scans[..., i], np.array([img_arr]) # img come batch"
   ]
  },
  {
   "cell_type": "code",
   "execution_count": 347,
   "id": "059dba00-d1f9-471e-bcef-fe73ed2ae94c",
   "metadata": {},
   "outputs": [
    {
     "data": {
      "text/plain": [
       "(1, 64, 64, 1)"
      ]
     },
     "execution_count": 347,
     "metadata": {},
     "output_type": "execute_result"
    }
   ],
   "source": [
    "next(data_generator())[1].shape"
   ]
  },
  {
   "cell_type": "code",
   "execution_count": 357,
   "id": "181ded47-2d51-4978-a6d6-5e35a0470629",
   "metadata": {},
   "outputs": [],
   "source": [
    "dataset = Dataset.from_generator(\n",
    "    generator=lambda: data_generator(),\n",
    "    output_signature=(\n",
    "        tf.TensorSpec(shape=[64, 64, 50]), # come è fatto il valore che ritorna il generatore (h x w x z)\n",
    "        tf.TensorSpec(shape=[64, 64, 1])\n",
    "    ) # 2 TensorSpec perché data_generator() ritorna due valori: feature e target\n",
    ")"
   ]
  },
  {
   "cell_type": "code",
   "execution_count": 358,
   "id": "7546b26c-a915-4807-9ef3-097c30e03c48",
   "metadata": {},
   "outputs": [],
   "source": [
    "dataset = dataset.shuffle(buffer_size=1_000).batch(128)"
   ]
  },
  {
   "cell_type": "markdown",
   "id": "84f8172c-7724-4488-805b-a6a179467cd6",
   "metadata": {},
   "source": [
    "## Rete"
   ]
  },
  {
   "cell_type": "code",
   "execution_count": 350,
   "id": "ae995c53-70ee-43c5-8896-0e2ead4582da",
   "metadata": {
    "scrolled": true
   },
   "outputs": [],
   "source": [
    "from keras import Sequential\n",
    "from keras.layers import Conv3D, Conv3DTranspose"
   ]
  },
  {
   "cell_type": "code",
   "execution_count": 351,
   "id": "3e22ef4d-e1ec-4f3b-8411-6f904c69c70c",
   "metadata": {},
   "outputs": [],
   "source": [
    "# fully convolutional neural network (UNET)\n",
    "\n",
    "fcnn = Sequential(\n",
    "    [\n",
    "        Conv3D(filters=64, kernel_size=3, padding=\"same\", strides=2, activation=\"relu\"),\n",
    "        Conv3D(filters=64, kernel_size=3, padding=\"same\", activation=\"relu\"),\n",
    "        Conv3D(filters=128, kernel_size=3, padding=\"same\", strides=2, activation=\"relu\"),\n",
    "        Conv3D(filters=128, kernel_size=3, padding=\"same\", activation=\"relu\"),\n",
    "        Conv3D(filters=256, kernel_size=3, padding=\"same\", strides=2, activation=\"relu\"),\n",
    "        Conv3D(filters=256, kernel_size=3, padding=\"same\", activation=\"relu\"),\n",
    "\n",
    "        Conv3DTranspose(filters=256, kernel_size=3, padding=\"same\", activation=\"relu\"),\n",
    "        Conv3DTranspose(filters=256, kernel_size=3, padding=\"same\", strides=2, activation=\"relu\"),\n",
    "        Conv3DTranspose(filters=128, kernel_size=3, padding=\"same\", activation=\"relu\"),\n",
    "        Conv3DTranspose(filters=128, kernel_size=3, padding=\"same\", strides=2, activation=\"relu\"),\n",
    "        Conv3DTranspose(filters=64, kernel_size=3, padding=\"same\", activation=\"relu\"),\n",
    "        Conv3DTranspose(filters=64, kernel_size=3, padding=\"same\", strides=2, activation=\"relu\"),\n",
    "\n",
    "        Conv3D(filters=1, kernel_size=3, padding=\"same\")\n",
    "    ]\n",
    ")"
   ]
  },
  {
   "cell_type": "markdown",
   "id": "a9802cd6-f22c-403f-b59b-2bdf5feed786",
   "metadata": {},
   "source": [
    "Note sull'architettura FullyConv.\n",
    "https://www.andreaprovino.it/fcn e https://www.redhotcyber.com/rubriche/alla-scoperta-dellintelligenza-artificiale/"
   ]
  },
  {
   "cell_type": "code",
   "execution_count": 352,
   "id": "019fbb28-33cf-490d-a564-964155482daf",
   "metadata": {
    "scrolled": true
   },
   "outputs": [],
   "source": [
    "fcnn.build(input_shape=[32, 64, 64, 50, 1])"
   ]
  },
  {
   "cell_type": "code",
   "execution_count": 353,
   "id": "c5f4ee98-0672-4fda-a2f7-acaf3edee90a",
   "metadata": {
    "scrolled": true
   },
   "outputs": [
    {
     "name": "stdout",
     "output_type": "stream",
     "text": [
      "Model: \"sequential_2\"\n",
      "_________________________________________________________________\n",
      " Layer (type)                Output Shape              Param #   \n",
      "=================================================================\n",
      " conv3d_7 (Conv3D)           (32, 32, 32, 25, 64)      1792      \n",
      "                                                                 \n",
      " conv3d_8 (Conv3D)           (32, 32, 32, 25, 64)      110656    \n",
      "                                                                 \n",
      " conv3d_9 (Conv3D)           (32, 16, 16, 13, 128)     221312    \n",
      "                                                                 \n",
      " conv3d_10 (Conv3D)          (32, 16, 16, 13, 128)     442496    \n",
      "                                                                 \n",
      " conv3d_11 (Conv3D)          (32, 8, 8, 7, 256)        884992    \n",
      "                                                                 \n",
      " conv3d_12 (Conv3D)          (32, 8, 8, 7, 256)        1769728   \n",
      "                                                                 \n",
      " conv3d_transpose_6 (Conv3DT  (32, 8, 8, 7, 256)       1769728   \n",
      " ranspose)                                                       \n",
      "                                                                 \n",
      " conv3d_transpose_7 (Conv3DT  (32, 16, 16, 14, 256)    1769728   \n",
      " ranspose)                                                       \n",
      "                                                                 \n",
      " conv3d_transpose_8 (Conv3DT  (32, 16, 16, 14, 128)    884864    \n",
      " ranspose)                                                       \n",
      "                                                                 \n",
      " conv3d_transpose_9 (Conv3DT  (32, 32, 32, 28, 128)    442496    \n",
      " ranspose)                                                       \n",
      "                                                                 \n",
      " conv3d_transpose_10 (Conv3D  (32, 32, 32, 28, 64)     221248    \n",
      " Transpose)                                                      \n",
      "                                                                 \n",
      " conv3d_transpose_11 (Conv3D  (32, 64, 64, 56, 64)     110656    \n",
      " Transpose)                                                      \n",
      "                                                                 \n",
      " conv3d_13 (Conv3D)          (32, 64, 64, 56, 1)       1729      \n",
      "                                                                 \n",
      "=================================================================\n",
      "Total params: 8,631,425\n",
      "Trainable params: 8,631,425\n",
      "Non-trainable params: 0\n",
      "_________________________________________________________________\n"
     ]
    }
   ],
   "source": [
    "fcnn.summary()"
   ]
  },
  {
   "cell_type": "markdown",
   "id": "9881e945-136c-4225-b688-642aedbc04af",
   "metadata": {},
   "source": [
    "## Training"
   ]
  },
  {
   "cell_type": "code",
   "execution_count": 354,
   "id": "8072021c-6bb7-4b2b-8d0f-27eba24a25e7",
   "metadata": {},
   "outputs": [],
   "source": [
    "from keras.optimizers import Adam\n",
    "from keras.losses import MeanSquaredError # è un compito di regressione, prevedere il valore di ogni pixel (in grayscale)\n",
    "from keras.metrics import MeanAbsoluteError"
   ]
  },
  {
   "cell_type": "code",
   "execution_count": 355,
   "id": "b1088194-a295-4d0c-ac0b-bb63eaadfb58",
   "metadata": {},
   "outputs": [],
   "source": [
    "fcnn.compile(\n",
    "    optimizer=Adam(),\n",
    "    loss=MeanSquaredError(),\n",
    "    metrics=MeanAbsoluteError()\n",
    ")"
   ]
  },
  {
   "cell_type": "code",
   "execution_count": 1,
   "id": "a05ae885-edcb-4265-acfa-f0cd7b465843",
   "metadata": {},
   "outputs": [
    {
     "ename": "NameError",
     "evalue": "name 'tf' is not defined",
     "output_type": "error",
     "traceback": [
      "\u001b[0;31m---------------------------------------------------------------------------\u001b[0m",
      "\u001b[0;31mNameError\u001b[0m                                 Traceback (most recent call last)",
      "Cell \u001b[0;32mIn[1], line 1\u001b[0m\n\u001b[0;32m----> 1\u001b[0m AUTOTUNE \u001b[38;5;241m=\u001b[39m \u001b[43mtf\u001b[49m\u001b[38;5;241m.\u001b[39mdata\u001b[38;5;241m.\u001b[39mAUTOTUNE\n\u001b[1;32m      3\u001b[0m dataset \u001b[38;5;241m=\u001b[39m dataset\u001b[38;5;241m.\u001b[39mcache()\u001b[38;5;241m.\u001b[39mprefetch(buffer_size\u001b[38;5;241m=\u001b[39mAUTOTUNE)\n",
      "\u001b[0;31mNameError\u001b[0m: name 'tf' is not defined"
     ]
    }
   ],
   "source": [
    "AUTOTUNE = tf.data.AUTOTUNE\n",
    "\n",
    "dataset = dataset.cache().prefetch(buffer_size=AUTOTUNE)"
   ]
  },
  {
   "cell_type": "code",
   "execution_count": null,
   "id": "66b5d68a-a388-4c65-9b6e-29f967b190aa",
   "metadata": {
    "scrolled": true
   },
   "outputs": [
    {
     "name": "stderr",
     "output_type": "stream",
     "text": [
      "2023-10-15 15:29:31.943981: I tensorflow/core/common_runtime/executor.cc:1197] [/device:CPU:0] (DEBUG INFO) Executor start aborting (this does not indicate an error and you can ignore this message): INVALID_ARGUMENT: You must feed a value for placeholder tensor 'Placeholder/_0' with dtype int32\n",
      "\t [[{{node Placeholder/_0}}]]\n",
      "2023-10-15 15:29:31.944780: I tensorflow/core/common_runtime/executor.cc:1197] [/device:CPU:0] (DEBUG INFO) Executor start aborting (this does not indicate an error and you can ignore this message): INVALID_ARGUMENT: You must feed a value for placeholder tensor 'Placeholder/_0' with dtype int32\n",
      "\t [[{{node Placeholder/_0}}]]\n",
      "2023-10-15 15:29:40.556488: W tensorflow/tsl/framework/cpu_allocator_impl.cc:83] Allocation of 360448000 exceeds 10% of free system memory.\n",
      "2023-10-15 15:29:41.047628: W tensorflow/tsl/framework/cpu_allocator_impl.cc:83] Allocation of 360448000 exceeds 10% of free system memory.\n",
      "2023-10-15 15:29:43.597646: W tensorflow/tsl/framework/cpu_allocator_impl.cc:83] Allocation of 93716480 exceeds 10% of free system memory.\n",
      "2023-10-15 15:29:44.314638: W tensorflow/tsl/framework/cpu_allocator_impl.cc:83] Allocation of 93716480 exceeds 10% of free system memory.\n",
      "2023-10-15 15:29:49.394912: W tensorflow/tsl/framework/cpu_allocator_impl.cc:83] Allocation of 201850880 exceeds 10% of free system memory.\n"
     ]
    }
   ],
   "source": [
    "fcnn.fit(x = dataset, initial_epoch=0, epochs = 1)"
   ]
  },
  {
   "cell_type": "code",
   "execution_count": 129,
   "id": "6013602a-1c95-4722-85fb-681e3eac096d",
   "metadata": {},
   "outputs": [],
   "source": [
    "# funzione\n",
    "def imageVSbrain(test, df, number4D, number3D=25):\n",
    "    duration = 0\n",
    "    duration = int(duration)\n",
    "    print(test.shape)\n",
    "    brain = test[:, :, :, number4D]\n",
    "    number = number4D*3\n",
    "    print(\"number: \", number)\n",
    "    for l in range(df.shape[0]):\n",
    "        dura = df[\"duration\"][int(l)]\n",
    "        dura = int(dura)\n",
    "        duration = duration + dura\n",
    "        if duration >= number:\n",
    "            id_image = df[\"stimulus_name\"][l]\n",
    "            print(\"fuuuuu: \", id_image)\n",
    "            break\n",
    "    print(\"duration: \", duration)\n",
    "    del df\n",
    "    del test\n",
    "    images = \"./Data/images/images/training\"\n",
    "    for root, dirs, files in os.walk(images):\n",
    "        for file in files:\n",
    "            if file.startswith(id_image):\n",
    "                print(\"file: \", file)\n",
    "                # return a numpy image\n",
    "                image_np = plt.imread(os.path.join(root, file))\n",
    "                break\n",
    "    return image_np, brain"
   ]
  },
  {
   "cell_type": "code",
   "execution_count": 132,
   "id": "88985a43-926a-4ce7-ad69-a3cf5bbeda8b",
   "metadata": {},
   "outputs": [
    {
     "name": "stdout",
     "output_type": "stream",
     "text": [
      "(64, 64, 50, 178)\n",
      "number:  0\n",
      "error\n"
     ]
    },
    {
     "ename": "NameError",
     "evalue": "name 'brain' is not defined",
     "output_type": "error",
     "traceback": [
      "\u001b[0;31m---------------------------------------------------------------------------\u001b[0m",
      "\u001b[0;31mNameError\u001b[0m                                 Traceback (most recent call last)",
      "Cell \u001b[0;32mIn[132], line 28\u001b[0m\n\u001b[1;32m     26\u001b[0m cccc \u001b[38;5;241m+\u001b[39m\u001b[38;5;241m=\u001b[39m \u001b[38;5;241m1\u001b[39m\n\u001b[1;32m     27\u001b[0m images[:, :, :, x] \u001b[38;5;241m=\u001b[39m image\n\u001b[0;32m---> 28\u001b[0m brains[:, :, :, x] \u001b[38;5;241m=\u001b[39m \u001b[43mbrain\u001b[49m\n",
      "\u001b[0;31mNameError\u001b[0m: name 'brain' is not defined"
     ]
    }
   ],
   "source": [
    "# \n",
    "# pathBrain = fr\"C:\\Users\\StefanoCarobene\\Desktop\\appunti\\DeepLearning_Project\\data\\sub-01\\ses-perceptionTraining.npy\"\n",
    "pathBrain = \"./Data/sub-01_ses-perceptionTraining01_task-perception_run-01_bold.nii\"\n",
    "#test = np.load(pathBrain)\n",
    "test = data\n",
    "cccc = 0\n",
    "ccccc = 0\n",
    "#64*64*50*batch_size\n",
    "# pathCSV = fr\"c:\\Users\\StefanoCarobene\\Desktop\\appunti\\DeepLearning_Project\\data\\sub-01\\ses-perceptionTraining.csv\"\n",
    "pathCSV = \"./Data/sub-01_ses-perceptionTraining01_task-perception_run-01_events.tsv\"\n",
    "df = pd.read_csv(pathCSV, index_col=False, sep=\",\")\n",
    "images = np.zeros((64, 64, 3, test.shape[3]), dtype=np.float32)\n",
    "brains = np.zeros((64, 64, 50, test.shape[3]), dtype=np.float32)\n",
    "for x in range(test.shape[3]-1):\n",
    "    try:\n",
    "        image, brain = imageVSbrain(test, df, x)\n",
    "        \n",
    "        # Resize the image to (64, 64) with RGB channels preserved\n",
    "        image = cv2.resize(image, (64, 64), interpolation=cv2.INTER_LINEAR)\n",
    "    except:\n",
    "        print(\"error\")\n",
    "        ccccc += 1\n",
    "        image = [0, 0, 0]\n",
    "\n",
    "    cccc += 1\n",
    "    images[:, :, :, x] = image\n",
    "    brains[:, :, :, x] = brain"
   ]
  }
 ],
 "metadata": {
  "kernelspec": {
   "display_name": "MachineLearning",
   "language": "python",
   "name": "machinelearning"
  },
  "language_info": {
   "codemirror_mode": {
    "name": "ipython",
    "version": 3
   },
   "file_extension": ".py",
   "mimetype": "text/x-python",
   "name": "python",
   "nbconvert_exporter": "python",
   "pygments_lexer": "ipython3",
   "version": "3.11.5"
  }
 },
 "nbformat": 4,
 "nbformat_minor": 5
}
