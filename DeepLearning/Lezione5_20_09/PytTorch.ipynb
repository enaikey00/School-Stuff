{
 "cells": [
  {
   "cell_type": "markdown",
   "id": "94ba6607-b896-4a65-8d87-f837cfe0b6bb",
   "metadata": {},
   "source": [
    "# PyTorch Tutorial"
   ]
  },
  {
   "cell_type": "code",
   "execution_count": 22,
   "id": "36279a1b-25e6-4fad-a0d6-74be8df38b46",
   "metadata": {},
   "outputs": [],
   "source": [
    "import torch"
   ]
  },
  {
   "cell_type": "code",
   "execution_count": 5,
   "id": "8d9b8b9a-c1fa-4bb2-ba6f-2449d09ea1a4",
   "metadata": {},
   "outputs": [
    {
     "data": {
      "text/plain": [
       "tensor([1., 2., 3.])"
      ]
     },
     "execution_count": 5,
     "metadata": {},
     "output_type": "execute_result"
    }
   ],
   "source": [
    "torch.Tensor([1,2,3])"
   ]
  },
  {
   "cell_type": "code",
   "execution_count": 6,
   "id": "c20a400d-10f4-4551-8c4a-a6a8cded782d",
   "metadata": {},
   "outputs": [
    {
     "data": {
      "text/plain": [
       "array([1., 2., 3.], dtype=float32)"
      ]
     },
     "execution_count": 6,
     "metadata": {},
     "output_type": "execute_result"
    }
   ],
   "source": [
    "torch.Tensor([1,2,3]).numpy()"
   ]
  },
  {
   "cell_type": "code",
   "execution_count": 7,
   "id": "fab66651-c883-48f5-9703-45bf17f7f54b",
   "metadata": {},
   "outputs": [
    {
     "data": {
      "text/plain": [
       "torch.Size([3])"
      ]
     },
     "execution_count": 7,
     "metadata": {},
     "output_type": "execute_result"
    }
   ],
   "source": [
    "torch.Tensor([1,2,3]).shape"
   ]
  },
  {
   "cell_type": "markdown",
   "id": "f8073087-f03d-47d1-adb3-eca4c4eea06e",
   "metadata": {},
   "source": [
    "Differenze con Tensorflow:\n",
    "+ i tensori sono mutabili"
   ]
  },
  {
   "cell_type": "code",
   "execution_count": 8,
   "id": "4e4805f4-ddb5-443f-8e66-16f632818461",
   "metadata": {},
   "outputs": [],
   "source": [
    "a = torch.Tensor([1,2,3])"
   ]
  },
  {
   "cell_type": "code",
   "execution_count": 9,
   "id": "0896f72a-972f-4908-bd76-edb406c653f8",
   "metadata": {},
   "outputs": [],
   "source": [
    "a[0] = 1"
   ]
  },
  {
   "cell_type": "markdown",
   "id": "b747440c-dca1-4fe0-886f-d3a387fa70ed",
   "metadata": {},
   "source": [
    "+ ogni tensore vive sempre su una device, (CPU, o GPU) (ex. GPU_0, GPU_1 ...)"
   ]
  },
  {
   "cell_type": "code",
   "execution_count": 15,
   "id": "6019a067-0232-4d6f-9349-3d3c9ed7a186",
   "metadata": {
    "collapsed": true,
    "jupyter": {
     "outputs_hidden": true
    },
    "scrolled": true
   },
   "outputs": [
    {
     "ename": "RuntimeError",
     "evalue": "Found no NVIDIA driver on your system. Please check that you have an NVIDIA GPU and installed a driver from http://www.nvidia.com/Download/index.aspx",
     "output_type": "error",
     "traceback": [
      "\u001b[0;31m---------------------------------------------------------------------------\u001b[0m",
      "\u001b[0;31mRuntimeError\u001b[0m                              Traceback (most recent call last)",
      "Cell \u001b[0;32mIn[15], line 2\u001b[0m\n\u001b[1;32m      1\u001b[0m a \u001b[38;5;241m=\u001b[39m torch\u001b[38;5;241m.\u001b[39mTensor([\u001b[38;5;241m1\u001b[39m,\u001b[38;5;241m2\u001b[39m,\u001b[38;5;241m3\u001b[39m])\n\u001b[0;32m----> 2\u001b[0m b \u001b[38;5;241m=\u001b[39m \u001b[43mtorch\u001b[49m\u001b[38;5;241;43m.\u001b[39;49m\u001b[43mTensor\u001b[49m\u001b[43m(\u001b[49m\u001b[43m[\u001b[49m\u001b[38;5;241;43m1\u001b[39;49m\u001b[43m,\u001b[49m\u001b[38;5;241;43m2\u001b[39;49m\u001b[43m,\u001b[49m\u001b[38;5;241;43m3\u001b[39;49m\u001b[43m]\u001b[49m\u001b[43m)\u001b[49m\u001b[38;5;241;43m.\u001b[39;49m\u001b[43mto\u001b[49m\u001b[43m(\u001b[49m\u001b[38;5;124;43m\"\u001b[39;49m\u001b[38;5;124;43mcuda\u001b[39;49m\u001b[38;5;124;43m\"\u001b[39;49m\u001b[43m)\u001b[49m\n",
      "File \u001b[0;32m~/miniconda3/lib/python3.9/site-packages/torch/cuda/__init__.py:229\u001b[0m, in \u001b[0;36m_lazy_init\u001b[0;34m()\u001b[0m\n\u001b[1;32m    227\u001b[0m \u001b[38;5;28;01mif\u001b[39;00m \u001b[38;5;124m'\u001b[39m\u001b[38;5;124mCUDA_MODULE_LOADING\u001b[39m\u001b[38;5;124m'\u001b[39m \u001b[38;5;129;01mnot\u001b[39;00m \u001b[38;5;129;01min\u001b[39;00m os\u001b[38;5;241m.\u001b[39menviron:\n\u001b[1;32m    228\u001b[0m     os\u001b[38;5;241m.\u001b[39menviron[\u001b[38;5;124m'\u001b[39m\u001b[38;5;124mCUDA_MODULE_LOADING\u001b[39m\u001b[38;5;124m'\u001b[39m] \u001b[38;5;241m=\u001b[39m \u001b[38;5;124m'\u001b[39m\u001b[38;5;124mLAZY\u001b[39m\u001b[38;5;124m'\u001b[39m\n\u001b[0;32m--> 229\u001b[0m \u001b[43mtorch\u001b[49m\u001b[38;5;241;43m.\u001b[39;49m\u001b[43m_C\u001b[49m\u001b[38;5;241;43m.\u001b[39;49m\u001b[43m_cuda_init\u001b[49m\u001b[43m(\u001b[49m\u001b[43m)\u001b[49m\n\u001b[1;32m    230\u001b[0m \u001b[38;5;66;03m# Some of the queued calls may reentrantly call _lazy_init();\u001b[39;00m\n\u001b[1;32m    231\u001b[0m \u001b[38;5;66;03m# we need to just return without initializing in that case.\u001b[39;00m\n\u001b[1;32m    232\u001b[0m \u001b[38;5;66;03m# However, we must not let any *other* threads in!\u001b[39;00m\n\u001b[1;32m    233\u001b[0m _tls\u001b[38;5;241m.\u001b[39mis_initializing \u001b[38;5;241m=\u001b[39m \u001b[38;5;28;01mTrue\u001b[39;00m\n",
      "\u001b[0;31mRuntimeError\u001b[0m: Found no NVIDIA driver on your system. Please check that you have an NVIDIA GPU and installed a driver from http://www.nvidia.com/Download/index.aspx"
     ]
    }
   ],
   "source": [
    "a = torch.Tensor([1,2,3])\n",
    "b = torch.Tensor([1,2,3]).to(\"cuda\") # per spostarlo su una device"
   ]
  },
  {
   "cell_type": "code",
   "execution_count": 18,
   "id": "a46f29c5-de38-46b2-951f-f438f1a05166",
   "metadata": {
    "collapsed": true,
    "jupyter": {
     "outputs_hidden": true
    },
    "scrolled": true
   },
   "outputs": [
    {
     "ename": "NameError",
     "evalue": "name 'b' is not defined",
     "output_type": "error",
     "traceback": [
      "\u001b[0;31m---------------------------------------------------------------------------\u001b[0m",
      "\u001b[0;31mNameError\u001b[0m                                 Traceback (most recent call last)",
      "Cell \u001b[0;32mIn[18], line 1\u001b[0m\n\u001b[0;32m----> 1\u001b[0m a \u001b[38;5;241m+\u001b[39m \u001b[43mb\u001b[49m \u001b[38;5;66;03m# devono essere sulla stessa device\u001b[39;00m\n",
      "\u001b[0;31mNameError\u001b[0m: name 'b' is not defined"
     ]
    }
   ],
   "source": [
    "a + b # devono essere sulla stessa device"
   ]
  },
  {
   "cell_type": "code",
   "execution_count": 16,
   "id": "ff3debb8-2c24-4feb-9feb-0d91f46f595c",
   "metadata": {},
   "outputs": [],
   "source": [
    "# il metodo .to() c'è anche per i layer e i modelli"
   ]
  },
  {
   "cell_type": "markdown",
   "id": "43706f4a-c9df-4d24-8972-ae0c40f14623",
   "metadata": {},
   "source": [
    "+ requires_grad: è un tensore che richiede un gradiente?"
   ]
  },
  {
   "cell_type": "code",
   "execution_count": 28,
   "id": "16cf011a-f4f3-43f9-9c09-3fe54c3abddf",
   "metadata": {
    "collapsed": true,
    "jupyter": {
     "outputs_hidden": true
    }
   },
   "outputs": [
    {
     "ename": "TypeError",
     "evalue": "'bool' object is not callable",
     "output_type": "error",
     "traceback": [
      "\u001b[0;31m---------------------------------------------------------------------------\u001b[0m",
      "\u001b[0;31mTypeError\u001b[0m                                 Traceback (most recent call last)",
      "Cell \u001b[0;32mIn[28], line 1\u001b[0m\n\u001b[0;32m----> 1\u001b[0m a \u001b[38;5;241m=\u001b[39m \u001b[43mtorch\u001b[49m\u001b[38;5;241;43m.\u001b[39;49m\u001b[43mrandn\u001b[49m\u001b[43m(\u001b[49m\u001b[43msize\u001b[49m\u001b[38;5;241;43m=\u001b[39;49m\u001b[43m[\u001b[49m\u001b[38;5;241;43m5\u001b[39;49m\u001b[43m,\u001b[49m\u001b[43m \u001b[49m\u001b[38;5;241;43m4\u001b[39;49m\u001b[43m]\u001b[49m\u001b[43m)\u001b[49m\u001b[38;5;241;43m.\u001b[39;49m\u001b[43mrequires_grad\u001b[49m\u001b[43m(\u001b[49m\u001b[43m)\u001b[49m\n\u001b[1;32m      2\u001b[0m b \u001b[38;5;241m=\u001b[39m torch\u001b[38;5;241m.\u001b[39mrandn(size\u001b[38;5;241m=\u001b[39m[\u001b[38;5;241m4\u001b[39m, \u001b[38;5;241m3\u001b[39m], requires_grad\u001b[38;5;241m=\u001b[39m\u001b[38;5;28;01mTrue\u001b[39;00m)\n\u001b[1;32m      4\u001b[0m \u001b[38;5;66;03m# Nota: metodi con _ underscore sono in_place\u001b[39;00m\n",
      "\u001b[0;31mTypeError\u001b[0m: 'bool' object is not callable"
     ]
    }
   ],
   "source": [
    "a = torch.randn(size=[5, 4]).requires_grad()\n",
    "b = torch.randn(size=[4, 3], requires_grad=True)\n",
    "\n",
    "# Nota: metodi con _ underscore sono in_place"
   ]
  },
  {
   "cell_type": "markdown",
   "id": "db637101-9161-49b7-900b-accbec5ded0e",
   "metadata": {},
   "source": [
    "+  grafo computazionale costruito automaticamente se i tensori richiedono il gradiente (built when operations are made)"
   ]
  },
  {
   "cell_type": "code",
   "execution_count": null,
   "id": "35a0e09f-d5d1-4461-aa9a-14037c7712aa",
   "metadata": {},
   "outputs": [],
   "source": [
    "z = torch.sum( a@b )"
   ]
  },
  {
   "cell_type": "code",
   "execution_count": null,
   "id": "6a3a4c34-40b6-494a-aba2-4064a71a890d",
   "metadata": {},
   "outputs": [],
   "source": [
    "z"
   ]
  },
  {
   "cell_type": "markdown",
   "id": "e7da8c4b-7524-4fbd-ac2b-1413e1190908",
   "metadata": {},
   "source": [
    "+ derivate e backward"
   ]
  },
  {
   "cell_type": "code",
   "execution_count": null,
   "id": "2ebbba58-41a5-49e9-8bc8-6e88bd2f4178",
   "metadata": {},
   "outputs": [],
   "source": [
    "z.backward() # calcola le derivate rispetto a tutti i tensori coinvolti (tensori con gradiente)"
   ]
  },
  {
   "cell_type": "code",
   "execution_count": 27,
   "id": "d040ff5f-d98a-486e-8876-694377026bc7",
   "metadata": {
    "collapsed": true,
    "jupyter": {
     "outputs_hidden": true
    }
   },
   "outputs": [
    {
     "ename": "NameError",
     "evalue": "name 'b' is not defined",
     "output_type": "error",
     "traceback": [
      "\u001b[0;31m---------------------------------------------------------------------------\u001b[0m",
      "\u001b[0;31mNameError\u001b[0m                                 Traceback (most recent call last)",
      "Cell \u001b[0;32mIn[27], line 1\u001b[0m\n\u001b[0;32m----> 1\u001b[0m a\u001b[38;5;241m.\u001b[39mgrad, \u001b[43mb\u001b[49m\u001b[38;5;241m.\u001b[39mgrad \u001b[38;5;66;03m# il gradiente è attributo del tensore, valorizzato automaticamente\u001b[39;00m\n",
      "\u001b[0;31mNameError\u001b[0m: name 'b' is not defined"
     ]
    }
   ],
   "source": [
    "a.grad, b.grad # il gradiente è attributo del tensore, valorizzato automaticamente"
   ]
  },
  {
   "cell_type": "markdown",
   "id": "c01e9d9b-8829-4996-b1ba-75aebbac9efd",
   "metadata": {},
   "source": [
    "+ cumulazione gradiente: per un avere uno step di gradient descent preciso:\n",
    "    + o mini_batch grande, campione consistente (ma richiede risorse)\n",
    "    + accumulo i gradienti, vanno a sommarsi\n",
    "\n",
    "se le operazioni backward e .grad sono eseguite due volte -> accumula, raddoppia\n",
    "sono da azzerare a mano"
   ]
  },
  {
   "cell_type": "code",
   "execution_count": 24,
   "id": "b8110023-a1c5-468e-a7f8-d77eb16d8ee7",
   "metadata": {},
   "outputs": [],
   "source": [
    "# operazione senza costruire grafo computazionale\n",
    "with torch.no_grad():\n",
    "    a.grad"
   ]
  },
  {
   "cell_type": "code",
   "execution_count": 26,
   "id": "168652fa-3f2f-4a59-91a4-aa5334c70ab7",
   "metadata": {
    "collapsed": true,
    "jupyter": {
     "outputs_hidden": true
    },
    "scrolled": true
   },
   "outputs": [
    {
     "ename": "AttributeError",
     "evalue": "'NoneType' object has no attribute 'zero_'",
     "output_type": "error",
     "traceback": [
      "\u001b[0;31m---------------------------------------------------------------------------\u001b[0m",
      "\u001b[0;31mAttributeError\u001b[0m                            Traceback (most recent call last)",
      "Cell \u001b[0;32mIn[26], line 2\u001b[0m\n\u001b[1;32m      1\u001b[0m \u001b[38;5;28;01mwith\u001b[39;00m torch\u001b[38;5;241m.\u001b[39mno_grad():\n\u001b[0;32m----> 2\u001b[0m     \u001b[43ma\u001b[49m\u001b[38;5;241;43m.\u001b[39;49m\u001b[43mgrad\u001b[49m\u001b[38;5;241;43m.\u001b[39;49m\u001b[43mzero_\u001b[49m() \u001b[38;5;66;03m# lo rimette a zero\u001b[39;00m\n",
      "\u001b[0;31mAttributeError\u001b[0m: 'NoneType' object has no attribute 'zero_'"
     ]
    }
   ],
   "source": [
    "with torch.no_grad():\n",
    "    a.grad.zero_() # lo rimette a zero"
   ]
  },
  {
   "cell_type": "code",
   "execution_count": null,
   "id": "61dcb3e5-4319-42aa-a9b2-0e1f128b5b1b",
   "metadata": {},
   "outputs": [],
   "source": [
    "Vedi file pytorch_lowlevel_tutorial, una reimplementazione in PyTorch dell'omonimo Notebook per Tensorflow"
   ]
  }
 ],
 "metadata": {
  "kernelspec": {
   "display_name": "Python 3 (ipykernel)",
   "language": "python",
   "name": "python3"
  },
  "language_info": {
   "codemirror_mode": {
    "name": "ipython",
    "version": 3
   },
   "file_extension": ".py",
   "mimetype": "text/x-python",
   "name": "python",
   "nbconvert_exporter": "python",
   "pygments_lexer": "ipython3",
   "version": "3.9.15"
  }
 },
 "nbformat": 4,
 "nbformat_minor": 5
}
