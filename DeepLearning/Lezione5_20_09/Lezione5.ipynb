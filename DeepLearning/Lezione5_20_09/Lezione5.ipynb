{
 "cells": [
  {
   "cell_type": "markdown",
   "id": "67264902-6177-43ac-b8cb-eedb56655a8d",
   "metadata": {},
   "source": [
    "## Lezione 5"
   ]
  },
  {
   "cell_type": "markdown",
   "id": "6350c441-b332-493f-bf6b-834fac125aee",
   "metadata": {},
   "source": [
    "**Agenda**\n",
    "+ ripasso e completamento RNN\n",
    "+ Transformers"
   ]
  },
  {
   "cell_type": "markdown",
   "id": "686e35b2-2517-459f-898a-a36233527eb4",
   "metadata": {},
   "source": [
    "**Note**\n",
    "File con Risorse Utili (del prof.): lo condividerà"
   ]
  },
  {
   "cell_type": "markdown",
   "id": "9c387199-5944-45ff-99b2-622363538224",
   "metadata": {
    "jp-MarkdownHeadingCollapsed": true
   },
   "source": [
    "### RNN"
   ]
  },
  {
   "cell_type": "code",
   "execution_count": null,
   "id": "a2a77c2f-b334-41b9-923f-1a38157edd1c",
   "metadata": {},
   "outputs": [],
   "source": [
    "Understanding LSTM and GRU RNN\n",
    "https://colah.github.io/posts/2015-08-Understanding-LSTMs/"
   ]
  },
  {
   "cell_type": "markdown",
   "id": "795e92e2-567f-4165-b42f-571cd5bc9ee6",
   "metadata": {},
   "source": [
    "#### Strati Ricorrenti"
   ]
  },
  {
   "cell_type": "code",
   "execution_count": 1,
   "id": "86bfb319-1c1e-45ed-bc7d-05c5022624e9",
   "metadata": {
    "collapsed": true,
    "jupyter": {
     "outputs_hidden": true
    }
   },
   "outputs": [
    {
     "name": "stderr",
     "output_type": "stream",
     "text": [
      "2023-09-20 09:18:09.416161: I tensorflow/tsl/cuda/cudart_stub.cc:28] Could not find cuda drivers on your machine, GPU will not be used.\n",
      "2023-09-20 09:18:10.154352: I tensorflow/tsl/cuda/cudart_stub.cc:28] Could not find cuda drivers on your machine, GPU will not be used.\n",
      "2023-09-20 09:18:10.162982: I tensorflow/core/platform/cpu_feature_guard.cc:182] This TensorFlow binary is optimized to use available CPU instructions in performance-critical operations.\n",
      "To enable the following instructions: AVX2 FMA, in other operations, rebuild TensorFlow with the appropriate compiler flags.\n",
      "2023-09-20 09:18:13.794600: W tensorflow/compiler/tf2tensorrt/utils/py_utils.cc:38] TF-TRT Warning: Could not find TensorRT\n"
     ]
    }
   ],
   "source": [
    "import tensorflow as tf\n",
    "import numpy as np\n",
    "from tensorflow import keras"
   ]
  },
  {
   "cell_type": "code",
   "execution_count": 2,
   "id": "b7333203-4149-433a-82b4-eb2d601c9503",
   "metadata": {},
   "outputs": [],
   "source": [
    "from keras.layers import GRU"
   ]
  },
  {
   "cell_type": "code",
   "execution_count": 3,
   "id": "360d20d6-ed7c-4424-b90e-79b6f58d138b",
   "metadata": {},
   "outputs": [],
   "source": [
    "# GRU Layer\n",
    "gru = GRU(units = 128) # UNITS: dimensione hidden state (numero di float del vettore hidden state!)"
   ]
  },
  {
   "cell_type": "code",
   "execution_count": null,
   "id": "ea283730-465c-4422-8952-bc4fd5c389c2",
   "metadata": {},
   "outputs": [],
   "source": [
    "# Tensori in Input e in Output\n",
    "INPUT = batch_size x seq_len x embedding_dim\n",
    "OUT = batch_size x hidden_units\n",
    "# vedi appunti"
   ]
  },
  {
   "cell_type": "code",
   "execution_count": 6,
   "id": "21eb7d88-04f9-4c0c-9d3a-ef9a93459744",
   "metadata": {},
   "outputs": [],
   "source": [
    "# Input random\n",
    "x = tf.random.normal(shape=[32, 20, 256])"
   ]
  },
  {
   "cell_type": "code",
   "execution_count": 7,
   "id": "c42521ba-f180-4c82-8091-df9b66717172",
   "metadata": {},
   "outputs": [],
   "source": [
    "y = gru(x)"
   ]
  },
  {
   "cell_type": "code",
   "execution_count": 9,
   "id": "472d4ae6-ffaa-4df3-ab58-2dcfb78873b6",
   "metadata": {},
   "outputs": [
    {
     "data": {
      "text/plain": [
       "TensorShape([32, 128])"
      ]
     },
     "execution_count": 9,
     "metadata": {},
     "output_type": "execute_result"
    }
   ],
   "source": [
    "y.shape"
   ]
  },
  {
   "cell_type": "markdown",
   "id": "c0795b81-38ab-4640-bf10-15904ea99811",
   "metadata": {},
   "source": [
    "#### Strati di GRU"
   ]
  },
  {
   "cell_type": "code",
   "execution_count": 11,
   "id": "2938fa6d-9352-4b5a-90c8-51419b997d1d",
   "metadata": {},
   "outputs": [
    {
     "data": {
      "text/plain": [
       "TensorShape([32, 128])"
      ]
     },
     "execution_count": 11,
     "metadata": {},
     "output_type": "execute_result"
    }
   ],
   "source": [
    "# Strati\n",
    "gru1 = GRU(units = 128, return_sequences=True)\n",
    "gru2 = GRU(units = 128, return_sequences=True)\n",
    "gru3 = GRU(units = 128, return_sequences=True)\n",
    "gru4 = GRU(units = 128) # ultimo strato/cella -> output (in questo caso non serve return_sequences=True nell'output)\n",
    "# di solito il numero di units resta uguale\n",
    "\n",
    "# input\n",
    "x = tf.random.normal(shape=[32, 20, 256])\n",
    "\n",
    "# elaborazione\n",
    "y1 = gru1(x)\n",
    "y2 = gru2(y1)\n",
    "y3 = gru3(y2)\n",
    "y4 = gru4(y3)"
   ]
  },
  {
   "cell_type": "code",
   "execution_count": 13,
   "id": "725b6e69-1603-4a37-b380-a71d72a88680",
   "metadata": {},
   "outputs": [
    {
     "name": "stdout",
     "output_type": "stream",
     "text": [
      "(32, 128) (32, 20, 128)\n"
     ]
    }
   ],
   "source": [
    "# shape\n",
    "print(y4.shape,\n",
    "y1.shape)"
   ]
  },
  {
   "cell_type": "markdown",
   "id": "41612663-fa8b-4bd4-a868-754e834045ff",
   "metadata": {},
   "source": [
    "#### LSTM"
   ]
  },
  {
   "cell_type": "code",
   "execution_count": 14,
   "id": "31df526d-149c-4ff8-93f4-b9826a2b8422",
   "metadata": {},
   "outputs": [],
   "source": [
    "# l'unica differenza: hanno un doppio stato\n",
    "from keras.layers import LSTM"
   ]
  },
  {
   "cell_type": "code",
   "execution_count": 16,
   "id": "2bff1c38-7c5c-4857-aaaa-e1dcfcdf2b30",
   "metadata": {},
   "outputs": [
    {
     "data": {
      "text/plain": [
       "TensorShape([32, 128])"
      ]
     },
     "execution_count": 16,
     "metadata": {},
     "output_type": "execute_result"
    }
   ],
   "source": [
    "lstm = LSTM(units=128)\n",
    "y = lstm(x)\n",
    "# output come prima, perché in OUTPUT c'è, anche qui, un hidden state\n",
    "y.shape"
   ]
  },
  {
   "cell_type": "code",
   "execution_count": 17,
   "id": "d5c52381-f527-4d3f-a3f5-03c20c878511",
   "metadata": {},
   "outputs": [
    {
     "data": {
      "text/plain": [
       "TensorShape([32, 20, 128])"
      ]
     },
     "execution_count": 17,
     "metadata": {},
     "output_type": "execute_result"
    }
   ],
   "source": [
    "lstm = LSTM(units=128, return_sequences=True)\n",
    "y = lstm(x)\n",
    "# output come prima, 1 hidden state per ogni parola\n",
    "y.shape"
   ]
  },
  {
   "cell_type": "markdown",
   "id": "b94272a6-e2b5-4b19-a4f6-c8543e832cf9",
   "metadata": {
    "jp-MarkdownHeadingCollapsed": true
   },
   "source": [
    "##### LSTM con Return_State"
   ]
  },
  {
   "cell_type": "code",
   "execution_count": 26,
   "id": "6083e2c8-bbc0-4967-9cea-2ea53bb4adb7",
   "metadata": {},
   "outputs": [],
   "source": [
    "lstm = LSTM(units=128, return_sequences=True, return_state=True)\n",
    "output, hidden_state, cell_state = lstm(x)"
   ]
  },
  {
   "cell_type": "code",
   "execution_count": 30,
   "id": "9b822e8d-44cf-45e6-b201-be56c86598fb",
   "metadata": {},
   "outputs": [
    {
     "name": "stdout",
     "output_type": "stream",
     "text": [
      "[TensorShape([32, 20, 128]), TensorShape([32, 128]), TensorShape([32, 128])]\n"
     ]
    }
   ],
   "source": [
    "print([x.shape for x in [output, hidden_state, cell_state]])\n",
    "# cerca differenza sono output e hidden_state"
   ]
  },
  {
   "cell_type": "markdown",
   "id": "da4a8adf-4895-4bb9-85ba-e892aa035b22",
   "metadata": {},
   "source": [
    "#### GRU con Return State\n",
    "output + stato interno (cell state)"
   ]
  },
  {
   "cell_type": "code",
   "execution_count": 23,
   "id": "ba7e7147-9bc7-471f-938e-d677b1dc29a2",
   "metadata": {},
   "outputs": [],
   "source": [
    "gru = GRU(units = 128, return_sequences=True, return_state=True)\n",
    "output, state = gru(x)"
   ]
  },
  {
   "cell_type": "code",
   "execution_count": null,
   "id": "f33b60e8-683d-46c6-900d-0e3a6a4b7d16",
   "metadata": {},
   "outputs": [],
   "source": [
    "output\n",
    "state\n",
    "# qui non si nota, torna sulle LSTM"
   ]
  },
  {
   "cell_type": "markdown",
   "id": "f45e4732-9fbe-4cce-968b-8d2f552231d6",
   "metadata": {
    "jp-MarkdownHeadingCollapsed": true
   },
   "source": [
    "### RNN Bidirezionale"
   ]
  },
  {
   "cell_type": "code",
   "execution_count": 32,
   "id": "70e22057-3c4f-462b-9fd3-f87dc42b7c25",
   "metadata": {},
   "outputs": [],
   "source": [
    "from keras.layers import Bidirectional"
   ]
  },
  {
   "cell_type": "code",
   "execution_count": 33,
   "id": "0494694c-daf2-46d1-a438-6f4abb6e92ae",
   "metadata": {},
   "outputs": [],
   "source": [
    "lstm = LSTM(units=128, return_sequences=True)\n",
    "bidirectional = Bidirectional(lstm)"
   ]
  },
  {
   "cell_type": "code",
   "execution_count": 35,
   "id": "c5b5b090-7ca0-437a-8d0c-323f1ce4bfc8",
   "metadata": {},
   "outputs": [
    {
     "data": {
      "text/plain": [
       "TensorShape([32, 20, 256])"
      ]
     },
     "execution_count": 35,
     "metadata": {},
     "output_type": "execute_result"
    }
   ],
   "source": [
    "bidirectional(x).shape # 256 perché legge due volte:\n",
    "# una rappresentazione più ricca: alla luce del contesto destro e del contesto sx"
   ]
  },
  {
   "cell_type": "markdown",
   "id": "a4b85fc7-565f-4f21-8f63-d1f1538ef2c3",
   "metadata": {
    "jp-MarkdownHeadingCollapsed": true
   },
   "source": [
    "### Encoder-Decoder"
   ]
  },
  {
   "cell_type": "code",
   "execution_count": null,
   "id": "fbecd922-8d3a-42bc-8412-31e5cb129a25",
   "metadata": {},
   "outputs": [],
   "source": [
    "Vedi Appunti per Teoria"
   ]
  },
  {
   "cell_type": "markdown",
   "id": "4aaa8c18-6dd8-46ac-8d2e-5205545b2f87",
   "metadata": {
    "jp-MarkdownHeadingCollapsed": true
   },
   "source": [
    "#### Tokenizzazione WordPiece"
   ]
  },
  {
   "cell_type": "code",
   "execution_count": 36,
   "id": "23d5ac48-5b7a-4538-a8b6-70ddda13b007",
   "metadata": {},
   "outputs": [
    {
     "name": "stdout",
     "output_type": "stream",
     "text": [
      "Requirement already satisfied: tokenizers in /home/naska/miniconda3/lib/python3.9/site-packages (0.13.3)\n"
     ]
    }
   ],
   "source": [
    "!pip install tokenizers # di HuggingFace"
   ]
  },
  {
   "cell_type": "code",
   "execution_count": 37,
   "id": "88dd9ed2-1c87-45cf-a497-de242c3be220",
   "metadata": {
    "collapsed": true,
    "jupyter": {
     "outputs_hidden": true
    }
   },
   "outputs": [
    {
     "name": "stdout",
     "output_type": "stream",
     "text": [
      "--2023-09-20 11:26:37--  https://www.manythings.org/anki/ita-eng.zip\n",
      "Resolving www.manythings.org (www.manythings.org)... 173.254.30.110\n",
      "Connecting to www.manythings.org (www.manythings.org)|173.254.30.110|:443... connected.\n",
      "HTTP request sent, awaiting response... 200 OK\n",
      "Length: 8220355 (7.8M) [application/zip]\n",
      "Saving to: ‘ita-eng.zip’\n",
      "\n",
      "ita-eng.zip         100%[===================>]   7.84M  2.89MB/s    in 2.7s    \n",
      "\n",
      "2023-09-20 11:26:41 (2.89 MB/s) - ‘ita-eng.zip’ saved [8220355/8220355]\n",
      "\n",
      "Archive:  ita-eng.zip\n",
      "  inflating: ita.txt                 \n",
      "  inflating: _about.txt              \n"
     ]
    }
   ],
   "source": [
    "!wget https://www.manythings.org/anki/ita-eng.zip\n",
    "!unzip ita-eng.zip"
   ]
  },
  {
   "cell_type": "code",
   "execution_count": 39,
   "id": "f7a4df93-8c15-48df-bb76-e230a9354f02",
   "metadata": {},
   "outputs": [],
   "source": [
    "from tokenizers import Tokenizer\n",
    "from tokenizers.models import WordPiece"
   ]
  },
  {
   "cell_type": "code",
   "execution_count": 40,
   "id": "0ababa7f-f2c1-46fb-994a-3709ea10ab6a",
   "metadata": {},
   "outputs": [],
   "source": [
    "wp_tokenizer = Tokenizer(model = WordPiece(unk_token=\"[UNK]\") ) \n",
    "# model = il modello di tokenizzazione"
   ]
  },
  {
   "cell_type": "markdown",
   "id": "04a03798-3dc3-4f32-b81a-11c96959830b",
   "metadata": {},
   "source": [
    "Tokenizzazione, ha 4 step, (vedi appunti)\n",
    "+ normalizzazione (ex. Unicode_Normalization: https://unicode.org/reports/tr15/)\n",
    "+ Pre-TOkenizzazione\n",
    "+ TOkenizzazione\n",
    "+ Post-Processing\n",
    "\n",
    "see https://platform.openai.com/tokenizer\n",
    "and https://huggingface.co/docs"
   ]
  },
  {
   "cell_type": "code",
   "execution_count": 45,
   "id": "e6265a2e-8955-41f8-a19a-851810acca49",
   "metadata": {},
   "outputs": [],
   "source": [
    "from tokenizers.normalizers import BertNormalizer\n",
    "from tokenizers.pre_tokenizers import BertPreTokenizer\n",
    "# post process?\n",
    "from tokenizers.trainers import WordPieceTrainer"
   ]
  },
  {
   "cell_type": "code",
   "execution_count": 44,
   "id": "8e8c3127-a2d8-4f3d-a5b6-6164f63b189b",
   "metadata": {},
   "outputs": [],
   "source": [
    "# WordPiece Tokenizer\n",
    "wp_tokenizer.normalizer = BertNormalizer()\n",
    "wp_tokenizer.pre_tokenizer = BertPreTokenizer()\n",
    "# wp_tokenizer.post_process = "
   ]
  },
  {
   "cell_type": "code",
   "execution_count": 46,
   "id": "c726e41a-e978-40fc-a9d6-b8a60843847e",
   "metadata": {},
   "outputs": [],
   "source": [
    "def lang_iterator(lang = \"en\"):\n",
    "    with open(\"ita.txt\", \"r\") as f:\n",
    "        while line := f.readline()[:-1]:\n",
    "            en_sent, it_sent, _ = line.split(\"\\t\")\n",
    "            yield en_sent if lang ==\"en\" else it_sent"
   ]
  },
  {
   "cell_type": "code",
   "execution_count": 48,
   "id": "7eb68ea3-a810-456c-addf-892ed80f57c4",
   "metadata": {},
   "outputs": [
    {
     "name": "stdout",
     "output_type": "stream",
     "text": [
      "\n",
      "\n",
      "\n"
     ]
    }
   ],
   "source": [
    "special_tokens = [\"[PAD]\", \"[UNK]\", \"[BOS]\", \"[EOS]\" ]\n",
    "\n",
    "wp_tokenizer.train_from_iterator(\n",
    "    lang_iterator(\"en\"), # iteratore con la sequenza di parole/token\n",
    "    trainer = WordPieceTrainer(vocab_size = 10_000, special_tokens=special_tokens) \n",
    ")"
   ]
  },
  {
   "cell_type": "code",
   "execution_count": 53,
   "id": "baa07f8a-740f-41e5-9064-a931a05abde4",
   "metadata": {
    "collapsed": true,
    "jupyter": {
     "outputs_hidden": true
    }
   },
   "outputs": [
    {
     "data": {
      "text/plain": [
       "{'##edient': 5118,\n",
       " 'kidding': 3132,\n",
       " 'dev': 3489,\n",
       " 'go': 150,\n",
       " 'confusing': 5654,\n",
       " 'skept': 2874,\n",
       " '##wheel': 8339,\n",
       " 'haw': 4615,\n",
       " '##ully': 1787,\n",
       " 'beach': 1850,\n",
       " 'hope': 624,\n",
       " '##asted': 5125,\n",
       " 'adjusted': 8359,\n",
       " 'goal': 3222,\n",
       " '##po': 6038,\n",
       " 'glass': 1084,\n",
       " 'stuck': 2566,\n",
       " 'favorite': 859,\n",
       " 'trying': 995,\n",
       " 'med': 3022,\n",
       " 'sha': 4754,\n",
       " 'domestic': 6763,\n",
       " 'excuse': 1774,\n",
       " 'strugg': 6204,\n",
       " 'this': 158,\n",
       " 'plates': 6477,\n",
       " '##ither': 1674,\n",
       " 'master': 4816,\n",
       " 'celebrate': 3414,\n",
       " 'wheel': 5548,\n",
       " 'rust': 7605,\n",
       " 'asked': 583,\n",
       " 'stu': 310,\n",
       " '##market': 3212,\n",
       " 'oranges': 3588,\n",
       " 'violent': 4911,\n",
       " 'seldom': 2585,\n",
       " '##chief': 7424,\n",
       " 'substit': 8564,\n",
       " 'john': 1416,\n",
       " 'dice': 9088,\n",
       " 'washing': 2622,\n",
       " 'gunsh': 7976,\n",
       " 'members': 5022,\n",
       " 'could': 384,\n",
       " 'masks': 8634,\n",
       " 'cartwheel': 8347,\n",
       " 'scored': 5744,\n",
       " 'escap': 2045,\n",
       " 'handle': 2867,\n",
       " 'dipl': 3847,\n",
       " 'encourage': 5775,\n",
       " 'examine': 6521,\n",
       " '##estern': 8457,\n",
       " 'slippery': 5796,\n",
       " '##omes': 7627,\n",
       " 'healthy': 2509,\n",
       " 'cont': 723,\n",
       " 'presence': 5483,\n",
       " 'toss': 5929,\n",
       " 'chairs': 4688,\n",
       " 'jacksons': 7720,\n",
       " '##hol': 2787,\n",
       " 'simpl': 8263,\n",
       " 'trace': 8480,\n",
       " '##ooky': 9168,\n",
       " 'analy': 4876,\n",
       " 'claustr': 5989,\n",
       " '##aned': 4372,\n",
       " 'mer': 3710,\n",
       " 'tenants': 9241,\n",
       " '##pear': 6458,\n",
       " 'laboratory': 9869,\n",
       " 'noises': 7194,\n",
       " 'things': 694,\n",
       " 'calling': 2169,\n",
       " 'helps': 3772,\n",
       " '##gium': 9123,\n",
       " 'mo': 414,\n",
       " 'cast': 2630,\n",
       " 'former': 5618,\n",
       " 'nicer': 6142,\n",
       " 'suitcases': 5083,\n",
       " 'seatbelt': 7986,\n",
       " 'pray': 2183,\n",
       " '##atoes': 2102,\n",
       " 'offic': 3433,\n",
       " 'vague': 5364,\n",
       " 'astonished': 5795,\n",
       " 'desperately': 9763,\n",
       " '%': 7,\n",
       " 'hold': 2028,\n",
       " 'continue': 2258,\n",
       " 'moder': 7491,\n",
       " 'gentle': 3501,\n",
       " 'calories': 9702,\n",
       " 'runner': 8867,\n",
       " 'brush': 2547,\n",
       " 'inspiration': 5601,\n",
       " 'splendid': 5882,\n",
       " '##listed': 7846,\n",
       " 'month': 1077,\n",
       " 'it': 132,\n",
       " 'debate': 5776,\n",
       " 'bug': 5210,\n",
       " 'st': 144,\n",
       " ')': 11,\n",
       " '4': 20,\n",
       " '##ts': 1396,\n",
       " 'books': 875,\n",
       " 'ca': 1721,\n",
       " 'import': 1025,\n",
       " 'clock': 1731,\n",
       " 'washed': 2205,\n",
       " 'complain': 1364,\n",
       " 'seeing': 2978,\n",
       " '##underst': 3398,\n",
       " '##uring': 1845,\n",
       " 'gorgeous': 4669,\n",
       " '##uffed': 7307,\n",
       " 'urgently': 9361,\n",
       " 'peanuts': 4251,\n",
       " '##yard': 7405,\n",
       " 'bookmark': 8814,\n",
       " 'dreadful': 8366,\n",
       " 'usual': 3407,\n",
       " '##ece': 5293,\n",
       " 'leaders': 6379,\n",
       " 'gul': 9489,\n",
       " 'cance': 2336,\n",
       " 'ale': 9475,\n",
       " 'caref': 1159,\n",
       " 'laugh': 1060,\n",
       " 'tends': 6564,\n",
       " 'untrustworthy': 7335,\n",
       " 'hundreds': 5983,\n",
       " 'gonna': 7148,\n",
       " '##elling': 8485,\n",
       " 'theirs': 7469,\n",
       " 'fools': 7996,\n",
       " '##osp': 1429,\n",
       " 'fahrenhe': 9440,\n",
       " 'blush': 4772,\n",
       " 'crossed': 3001,\n",
       " 'loving': 6194,\n",
       " 'wants': 572,\n",
       " 'black': 1422,\n",
       " 'pharm': 4289,\n",
       " 'beer': 751,\n",
       " 'drawing': 4849,\n",
       " 'affectionate': 9894,\n",
       " 'delay': 4786,\n",
       " 'catches': 9288,\n",
       " 'rab': 3401,\n",
       " 'shangh': 8774,\n",
       " '##unk': 975,\n",
       " 'hesitated': 5169,\n",
       " 'therm': 7167,\n",
       " 'unreal': 6942,\n",
       " 'careful': 1506,\n",
       " 'civil': 5598,\n",
       " 'bully': 8627,\n",
       " 'her': 332,\n",
       " '##azed': 6522,\n",
       " 'news': 1101,\n",
       " 'slept': 2259,\n",
       " '##zz': 3238,\n",
       " '##ead': 1711,\n",
       " '##gan': 2085,\n",
       " 'hoping': 3820,\n",
       " '##point': 9435,\n",
       " 'bri': 1710,\n",
       " 'vase': 4454,\n",
       " 'retiring': 7936,\n",
       " 'famous': 1538,\n",
       " '##aired': 4024,\n",
       " 'hugging': 8097,\n",
       " 'cigar': 3419,\n",
       " 'negotiated': 9841,\n",
       " '##iting': 2976,\n",
       " 'having': 1152,\n",
       " '##inal': 2545,\n",
       " 'shark': 6314,\n",
       " '##come': 1502,\n",
       " 'hated': 1777,\n",
       " 'jacks': 2256,\n",
       " 'admits': 8270,\n",
       " 'prote': 8784,\n",
       " 'strongly': 8553,\n",
       " '##lying': 8475,\n",
       " 'devastated': 5265,\n",
       " 'judgement': 8944,\n",
       " '##ush': 1112,\n",
       " '##idy': 3581,\n",
       " 'inc': 1353,\n",
       " 'colder': 6863,\n",
       " 'theft': 6803,\n",
       " 'sincere': 3268,\n",
       " 'shoreline': 8675,\n",
       " 'ages': 5942,\n",
       " '##if': 903,\n",
       " 'jam': 5918,\n",
       " '##lph': 6457,\n",
       " 'concerns': 7755,\n",
       " 'burped': 9742,\n",
       " 'loaned': 8188,\n",
       " 'chaotic': 9913,\n",
       " 'headache': 2623,\n",
       " 'contract': 3073,\n",
       " 'minutes': 1315,\n",
       " 'upstairs': 2490,\n",
       " '##iers': 3181,\n",
       " 'inst': 1499,\n",
       " 'novelist': 6533,\n",
       " 'cockroaches': 8377,\n",
       " 'sim': 1547,\n",
       " 'lake': 2383,\n",
       " 'aggress': 2516,\n",
       " 'ris': 1432,\n",
       " 'earthquake': 4129,\n",
       " 'bacon': 4934,\n",
       " 'surv': 1986,\n",
       " 'admir': 4844,\n",
       " 'tatami': 9327,\n",
       " 'extingu': 9460,\n",
       " 'present': 1530,\n",
       " 'customers': 6402,\n",
       " 'third': 3351,\n",
       " 'sunny': 7050,\n",
       " 'twitter': 7907,\n",
       " '##otist': 7630,\n",
       " 'le': 878,\n",
       " 'frank': 3771,\n",
       " 'funds': 7912,\n",
       " 'jumped': 4083,\n",
       " 'cultured': 6747,\n",
       " 'resourceful': 5791,\n",
       " 'ele': 1355,\n",
       " 'system': 3354,\n",
       " 'advanced': 7466,\n",
       " 'witnessed': 7530,\n",
       " 'hobb': 2983,\n",
       " 'airplanes': 8036,\n",
       " 'alph': 8791,\n",
       " '##unc': 5732,\n",
       " 'announcer': 9794,\n",
       " 'inconsider': 6518,\n",
       " '##ature': 2056,\n",
       " 'exh': 2141,\n",
       " '##ued': 1896,\n",
       " 'sport': 4230,\n",
       " 'prohib': 5128,\n",
       " 'canc': 9165,\n",
       " '##dred': 2312,\n",
       " 'government': 3195,\n",
       " '##ires': 3223,\n",
       " 'plot': 6188,\n",
       " 'sticks': 8008,\n",
       " 'responsibility': 4195,\n",
       " 'snakes': 4000,\n",
       " 'touched': 3565,\n",
       " 'check': 1503,\n",
       " 'offer': 1750,\n",
       " 'caused': 2934,\n",
       " 'fries': 4312,\n",
       " '##light': 3658,\n",
       " 'forgetful': 5223,\n",
       " 'tattoo': 3174,\n",
       " 'ident': 3346,\n",
       " '##icle': 6179,\n",
       " 'itself': 6646,\n",
       " 'recession': 7119,\n",
       " 'atmosphere': 7129,\n",
       " '##ros': 7200,\n",
       " '##self': 510,\n",
       " 'exam': 1388,\n",
       " 'bethlehem': 7582,\n",
       " 'belt': 4435,\n",
       " 'provoke': 8003,\n",
       " 'fort': 2579,\n",
       " 'sells': 4040,\n",
       " 'wheat': 8279,\n",
       " 'colorbl': 8573,\n",
       " 'lifesty': 8642,\n",
       " '##easter': 8730,\n",
       " '##iod': 8735,\n",
       " 'anybody': 1226,\n",
       " 'thrown': 8927,\n",
       " 'drove': 2637,\n",
       " 'derm': 9089,\n",
       " '##ung': 3532,\n",
       " 'most': 1227,\n",
       " 'distraction': 9377,\n",
       " 'proposed': 8914,\n",
       " '##orious': 8452,\n",
       " 'insistent': 9279,\n",
       " 'horri': 2624,\n",
       " 'disappointment': 5395,\n",
       " 'families': 6342,\n",
       " 'mugged': 8423,\n",
       " 'exc': 931,\n",
       " 'eager': 6157,\n",
       " 'few': 1038,\n",
       " 'columbus': 9076,\n",
       " 'important': 1096,\n",
       " 'embarrassed': 2236,\n",
       " 'website': 3292,\n",
       " 'chim': 5289,\n",
       " 'great': 1043,\n",
       " '##pre': 3837,\n",
       " 'site': 6447,\n",
       " 'naught': 7833,\n",
       " '##omores': 9558,\n",
       " 'guarantee': 6416,\n",
       " 'somewhat': 8696,\n",
       " '##xible': 4054,\n",
       " 'hardest': 9648,\n",
       " '1960': 8648,\n",
       " 'missing': 2697,\n",
       " 'math': 2196,\n",
       " 'a': 29,\n",
       " 'lunch': 818,\n",
       " '##uten': 7637,\n",
       " 'reached': 3729,\n",
       " 'vegetable': 8922,\n",
       " 'fired': 1970,\n",
       " 'talented': 3676,\n",
       " 'deeply': 3791,\n",
       " 'undependable': 9072,\n",
       " 'austral': 558,\n",
       " 'hairstyle': 7365,\n",
       " 'y': 53,\n",
       " 'social': 5086,\n",
       " '##ege': 1977,\n",
       " 'pretend': 2683,\n",
       " 'anywhere': 1994,\n",
       " 'dare': 4260,\n",
       " 'candy': 3959,\n",
       " 'activ': 9660,\n",
       " 'club': 3345,\n",
       " 'mon': 559,\n",
       " 'poem': 2344,\n",
       " 'computers': 3463,\n",
       " 'gif': 1735,\n",
       " 'gross': 8712,\n",
       " 'inexper': 6133,\n",
       " 'adding': 6508,\n",
       " 'flooded': 8638,\n",
       " 'pronunc': 5777,\n",
       " 'exerc': 3027,\n",
       " '##ettes': 5869,\n",
       " 'ner': 3315,\n",
       " 'scary': 2884,\n",
       " '##ative': 1147,\n",
       " '##eday': 2690,\n",
       " '##ipe': 4114,\n",
       " 'mule': 8716,\n",
       " 'vow': 9112,\n",
       " 'email': 3858,\n",
       " 'chec': 1415,\n",
       " 'sunscreen': 5529,\n",
       " 'superman': 9745,\n",
       " 'hamburger': 3098,\n",
       " '##ibly': 3303,\n",
       " 'disrespect': 6153,\n",
       " 'goats': 8466,\n",
       " 'de': 625,\n",
       " '##ood': 532,\n",
       " 'lun': 8715,\n",
       " 'resign': 2632,\n",
       " 'bath': 1768,\n",
       " 'term': 3089,\n",
       " '##ita': 9567,\n",
       " 'certificate': 8692,\n",
       " 'lovers': 9403,\n",
       " 'brother': 817,\n",
       " 'heavy': 2478,\n",
       " 'fluency': 8587,\n",
       " 'useful': 2770,\n",
       " 'understand': 610,\n",
       " 'classes': 3209,\n",
       " 'brainw': 6567,\n",
       " 'opposite': 5420,\n",
       " 'airpl': 4119,\n",
       " '##ble': 265,\n",
       " 'disturb': 3445,\n",
       " 'aid': 4943,\n",
       " '##ache': 2176,\n",
       " 'viet': 7838,\n",
       " 'outspoken': 7368,\n",
       " 'firefight': 8380,\n",
       " 'testified': 9693,\n",
       " 'flute': 5747,\n",
       " 'build': 1545,\n",
       " 'acquaintance': 9046,\n",
       " 'construction': 6019,\n",
       " 'catholic': 4665,\n",
       " 'weddings': 6228,\n",
       " 'opportun': 3095,\n",
       " 'trash': 5827,\n",
       " 'trips': 7486,\n",
       " 'hey': 2097,\n",
       " 'racket': 4676,\n",
       " 'discount': 5568,\n",
       " 'sets': 9734,\n",
       " 'paperwork': 9287,\n",
       " 'mult': 5702,\n",
       " 'furious': 3258,\n",
       " 'google': 5904,\n",
       " 'expectations': 7055,\n",
       " 'reve': 5442,\n",
       " 'lik': 619,\n",
       " 'bore': 8708,\n",
       " 'slipped': 4579,\n",
       " 'squirrels': 8057,\n",
       " '##cling': 8138,\n",
       " 'gifts': 4043,\n",
       " '##lf': 358,\n",
       " '##itution': 9569,\n",
       " 'were': 280,\n",
       " '##lance': 7399,\n",
       " 'considering': 5232,\n",
       " '##inarily': 9137,\n",
       " '##ke': 146,\n",
       " 'sons': 3425,\n",
       " '##ecess': 4565,\n",
       " '##ient': 1010,\n",
       " 'ballistic': 6892,\n",
       " 'form': 2834,\n",
       " 'truth': 892,\n",
       " 'stamp': 2958,\n",
       " '##ls': 3627,\n",
       " 'yes': 516,\n",
       " 'drew': 5533,\n",
       " 'exec': 6325,\n",
       " 'map': 2448,\n",
       " 'ear': 603,\n",
       " 'puzz': 3573,\n",
       " '##cient': 3603,\n",
       " 'detective': 6134,\n",
       " 'apart': 1613,\n",
       " '##ck': 413,\n",
       " 'get': 269,\n",
       " 'made': 512,\n",
       " 'toky': 1987,\n",
       " 'rejected': 4684,\n",
       " 'sal': 1489,\n",
       " 'poop': 9508,\n",
       " 'overweight': 3253,\n",
       " 'abandon': 5238,\n",
       " 'recipe': 6207,\n",
       " 'points': 6123,\n",
       " 'faced': 9955,\n",
       " 'polit': 2290,\n",
       " 'conditions': 6726,\n",
       " 'horn': 6360,\n",
       " '##avor': 6792,\n",
       " 'mood': 2304,\n",
       " 'musician': 2900,\n",
       " 'bottle': 1329,\n",
       " 'gets': 1758,\n",
       " 'wall': 1600,\n",
       " '##ortun': 3087,\n",
       " 'decorated': 5001,\n",
       " '##tles': 6632,\n",
       " 'nightmare': 7221,\n",
       " '##opp': 9116,\n",
       " 'running': 1930,\n",
       " '##acing': 5936,\n",
       " 'losers': 9721,\n",
       " 'croat': 7144,\n",
       " 'improvement': 9783,\n",
       " 'give': 395,\n",
       " 'gloomy': 7514,\n",
       " 'laund': 4578,\n",
       " 'noisy': 4566,\n",
       " 'barbar': 8041,\n",
       " 'kiss': 991,\n",
       " 'lovely': 4465,\n",
       " 'cheer': 3856,\n",
       " 'pressure': 4660,\n",
       " 'stare': 4877,\n",
       " 'provide': 5505,\n",
       " 'stayed': 1468,\n",
       " 'slowly': 2215,\n",
       " '##wor': 3741,\n",
       " 'chased': 6661,\n",
       " 'incon': 7700,\n",
       " 'curry': 4197,\n",
       " 'father': 641,\n",
       " 'atomic': 9056,\n",
       " 'seminar': 7770,\n",
       " 'be': 129,\n",
       " 'smoke': 1712,\n",
       " 'astrology': 7798,\n",
       " 'terrorists': 6761,\n",
       " 'compan': 9217,\n",
       " 'dump': 4744,\n",
       " 'angeles': 6003,\n",
       " 'fashionable': 8975,\n",
       " 'ber': 6278,\n",
       " 'motivated': 3234,\n",
       " 'talents': 6237,\n",
       " 'courtesy': 9826,\n",
       " 'obs': 3391,\n",
       " 'ath': 3503,\n",
       " 'pipe': 7603,\n",
       " 'sailor': 8072,\n",
       " 'frankly': 6397,\n",
       " 'petrified': 9786,\n",
       " 'dressing': 9683,\n",
       " '##ile': 757,\n",
       " 'audience': 4250,\n",
       " 'race': 2891,\n",
       " 'given': 2346,\n",
       " 'vegetarians': 5773,\n",
       " 'duck': 5916,\n",
       " 'hook': 8420,\n",
       " 'donut': 8467,\n",
       " 'unlocked': 5978,\n",
       " 'goat': 7179,\n",
       " 'admission': 8923,\n",
       " 'grinned': 9044,\n",
       " '##ights': 9594,\n",
       " 'parrots': 7450,\n",
       " 'shar': 2294,\n",
       " 'among': 3718,\n",
       " 'visiting': 3593,\n",
       " 'holiday': 3137,\n",
       " 'deliver': 3754,\n",
       " 'enthusi': 4337,\n",
       " 'appreci': 3782,\n",
       " 'cops': 4534,\n",
       " 'purs': 6727,\n",
       " '##oya': 7456,\n",
       " 'opening': 4524,\n",
       " 'peeled': 5995,\n",
       " '##atile': 8146,\n",
       " '##eng': 2410,\n",
       " 'voices': 5325,\n",
       " 'househ': 8508,\n",
       " 'conver': 2850,\n",
       " '##kka': 7855,\n",
       " 'paints': 9670,\n",
       " 'reservations': 6917,\n",
       " 'eiff': 9953,\n",
       " '##uble': 9999,\n",
       " 'claims': 6566,\n",
       " 'amazed': 7289,\n",
       " 'executed': 7563,\n",
       " 'dressed': 2035,\n",
       " 'removed': 4442,\n",
       " 'population': 4908,\n",
       " 'feeling': 1303,\n",
       " 'worn': 5449,\n",
       " '##itles': 9568,\n",
       " '##thod': 3005,\n",
       " 'badminton': 5308,\n",
       " '##antic': 2554,\n",
       " 'sem': 4830,\n",
       " 'smoker': 5848,\n",
       " 'folk': 7133,\n",
       " 'shr': 7873,\n",
       " '##ys': 2814,\n",
       " 'jump': 2638,\n",
       " '##uted': 3342,\n",
       " 'appoin': 2866,\n",
       " 'anger': 4328,\n",
       " 'wow': 4455,\n",
       " 'tong': 3804,\n",
       " 'regularly': 7558,\n",
       " 'archae': 8033,\n",
       " 'bones': 6613,\n",
       " 'smallest': 9682,\n",
       " 'industrial': 8355,\n",
       " '##power': 9991,\n",
       " '##ury': 3483,\n",
       " 'digging': 7895,\n",
       " '##blem': 511,\n",
       " 'bel': 529,\n",
       " 'blackmailed': 5902,\n",
       " 'lemonade': 8658,\n",
       " 'screamed': 4481,\n",
       " 'newspaper': 2541,\n",
       " 'ban': 1879,\n",
       " '##usted': 2225,\n",
       " '##cip': 4871,\n",
       " 'war': 902,\n",
       " 'disag': 2882,\n",
       " 'wounded': 3220,\n",
       " 'seems': 779,\n",
       " '##umn': 4627,\n",
       " 'helicop': 6191,\n",
       " 'experimented': 8985,\n",
       " 'calculator': 5413,\n",
       " 'sickness': 7930,\n",
       " 'spectacular': 9047,\n",
       " '##itated': 5122,\n",
       " 'authorities': 9331,\n",
       " '##adi': 1743,\n",
       " 'logic': 8326,\n",
       " 'insulting': 8560,\n",
       " '##igr': 4621,\n",
       " 'sunsc': 5479,\n",
       " 'brakes': 8833,\n",
       " 'often': 679,\n",
       " 'eaten': 1256,\n",
       " 'clarinet': 6597,\n",
       " 'thickheaded': 8345,\n",
       " '##kers': 7166,\n",
       " '##tan': 7611,\n",
       " '##angers': 4108,\n",
       " '##ental': 5619,\n",
       " '##reg': 9143,\n",
       " 'distance': 3646,\n",
       " 'rap': 4421,\n",
       " 'opened': 1727,\n",
       " 'hypothesis': 8087,\n",
       " 'sh': 152,\n",
       " 'madrid': 9624,\n",
       " 'opener': 5135,\n",
       " 'crew': 6887,\n",
       " '##ified': 2673,\n",
       " 'edible': 8299,\n",
       " 'sliced': 6505,\n",
       " '##ason': 1171,\n",
       " '##ink': 186,\n",
       " 'par': 535,\n",
       " 'heal': 9556,\n",
       " 'higher': 5228,\n",
       " 'soft': 2735,\n",
       " 'pil': 4316,\n",
       " 'thai': 6303,\n",
       " 'identify': 5998,\n",
       " 'cure': 7377,\n",
       " 'applies': 8983,\n",
       " 'pills': 6246,\n",
       " 'soccer': 1940,\n",
       " '##placeable': 7990,\n",
       " '##oon': 3265,\n",
       " 'dessert': 3502,\n",
       " 'vouch': 6291,\n",
       " 'rome': 3832,\n",
       " 'these': 596,\n",
       " 'performed': 8988,\n",
       " 'micro': 4988,\n",
       " 'vote': 2130,\n",
       " 'examp': 2546,\n",
       " 'insulted': 4584,\n",
       " 'penicill': 7463,\n",
       " 'inse': 3427,\n",
       " 'steady': 6594,\n",
       " 'pint': 9507,\n",
       " 'him': 296,\n",
       " 'obligated': 9812,\n",
       " 'funerals': 6740,\n",
       " '##anical': 9140,\n",
       " 'crime': 2598,\n",
       " '7': 23,\n",
       " 'pers': 731,\n",
       " 'comes': 1820,\n",
       " 'predicted': 7817,\n",
       " 'mini': 8539,\n",
       " 'plaster': 6825,\n",
       " 'whichever': 8855,\n",
       " 'host': 4140,\n",
       " '##atis': 4751,\n",
       " '##ision': 1326,\n",
       " 'professor': 4794,\n",
       " 'bak': 5010,\n",
       " '##town': 5430,\n",
       " '##kish': 8140,\n",
       " 'twent': 7033,\n",
       " 'barbecue': 8393,\n",
       " 'cooper': 2674,\n",
       " '##isp': 6805,\n",
       " 'hearts': 8901,\n",
       " 'haven': 661,\n",
       " 'protect': 1494,\n",
       " 'vers': 4607,\n",
       " 'vacations': 9700,\n",
       " 'cantankerous': 6605,\n",
       " '##lined': 7845,\n",
       " 'tank': 9110,\n",
       " 'defensive': 9286,\n",
       " 'delayed': 7108,\n",
       " 'hust': 8118,\n",
       " 'heavily': 6230,\n",
       " '##ensable': 9254,\n",
       " '##dict': 9540,\n",
       " 'nightmares': 8406,\n",
       " 'behind': 1557,\n",
       " '##emp': 2707,\n",
       " 'hurried': 7917,\n",
       " 'produces': 7735,\n",
       " 'infection': 7690,\n",
       " 'clim': 2367,\n",
       " 'congratulations': 8058,\n",
       " 'bra': 1695,\n",
       " 'hud': 8119,\n",
       " 'rage': 8426,\n",
       " '##itors': 8469,\n",
       " 'crim': 3018,\n",
       " 'ocean': 4132,\n",
       " 'orphanage': 6412,\n",
       " 'murder': 2206,\n",
       " 'house': 549,\n",
       " 'evicted': 5761,\n",
       " 'pull': 2668,\n",
       " 'cuc': 8237,\n",
       " 'yourselves': 3714,\n",
       " 'cd': 5186,\n",
       " 'loyal': 5457,\n",
       " 'fed': 2729,\n",
       " 'negative': 5877,\n",
       " 'examined': 6712,\n",
       " 'february': 8904,\n",
       " 'seemed': 1216,\n",
       " 'fiber': 9238,\n",
       " 'rapid': 5349,\n",
       " 'anime': 8918,\n",
       " 'nanny': 9503,\n",
       " '##person': 6795,\n",
       " 'impolite': 3972,\n",
       " 'picasso': 7352,\n",
       " 'japanese': 1475,\n",
       " '##bile': 4266,\n",
       " '?': 28,\n",
       " 'hilarious': 9925,\n",
       " '##ese': 1029,\n",
       " 'telling': 1749,\n",
       " 'aspir': 3484,\n",
       " '##uum': 9539,\n",
       " '##est': 227,\n",
       " 'hum': 1848,\n",
       " 'crossing': 4721,\n",
       " '##artial': 6327,\n",
       " 'unknown': 7763,\n",
       " 'na': 2940,\n",
       " 'enormous': 7818,\n",
       " 'survi': 5980,\n",
       " 'col': 1691,\n",
       " 'cartoon': 7773,\n",
       " '##cope': 6633,\n",
       " 'partic': 2271,\n",
       " 'accomp': 3301,\n",
       " '##ength': 3572,\n",
       " 'woebegone': 9933,\n",
       " 'incorrigible': 8026,\n",
       " '198': 5493,\n",
       " '##uk': 7853,\n",
       " '##lliant': 4459,\n",
       " 'r': 46,\n",
       " 'doub': 1740,\n",
       " 'plumber': 8795,\n",
       " '##uya': 7797,\n",
       " '##oons': 9524,\n",
       " 'abol': 9175,\n",
       " 'presents': 3855,\n",
       " 'dentist': 3548,\n",
       " 'even': 630,\n",
       " 'ju': 2676,\n",
       " 'uncomfortable': 5239,\n",
       " 'boy': 740,\n",
       " 'difficulty': 3696,\n",
       " 'expression': 6396,\n",
       " 'orch': 7029,\n",
       " 'least': 2231,\n",
       " 'keeps': 2610,\n",
       " 'prognosis': 9069,\n",
       " 'mall': 4020,\n",
       " 'decorating': 9365,\n",
       " 'bags': 3955,\n",
       " 'trial': 5754,\n",
       " '##ware': 3070,\n",
       " 'prisoners': 3924,\n",
       " 'stain': 9564,\n",
       " 'likes': 810,\n",
       " 'justice': 6674,\n",
       " 'abhor': 9588,\n",
       " 'going': 274,\n",
       " 'mut': 5701,\n",
       " 'orange': 3128,\n",
       " 'laps': 6439,\n",
       " 'photograph': 3473,\n",
       " 'childish': 6489,\n",
       " 'german': 2550,\n",
       " '##edictable': 4411,\n",
       " '##gether': 786,\n",
       " 'risk': 1586,\n",
       " 'oper': 5214,\n",
       " 'promised': 1915,\n",
       " '##ases': 3943,\n",
       " '##zed': 5438,\n",
       " 'coughed': 7747,\n",
       " 'enlighten': 9051,\n",
       " '##u': 75,\n",
       " 'rules': 1931,\n",
       " 'wins': 4577,\n",
       " 'percent': 5957,\n",
       " 'statement': 6758,\n",
       " 'puzzles': 8971,\n",
       " 'tas': 5542,\n",
       " 'busy': 408,\n",
       " 'anonym': 6813,\n",
       " '##icked': 2619,\n",
       " 'torture': 6929,\n",
       " 'medit': 8308,\n",
       " 'grandp': 4186,\n",
       " 'safety': 4933,\n",
       " '##nob': 6090,\n",
       " '##ensitive': 8864,\n",
       " 'rank': 9966,\n",
       " '##atives': 4145,\n",
       " '##ag': 469,\n",
       " 'hor': 1346,\n",
       " 'patiently': 8274,\n",
       " 'offensive': 7658,\n",
       " 'york': 2563,\n",
       " 'head': 1280,\n",
       " '##eba': 4252,\n",
       " 'fro': 5374,\n",
       " 'criminals': 6911,\n",
       " 'magic': 4984,\n",
       " 'green': 2695,\n",
       " 'hours': 1238,\n",
       " 'waste': 1835,\n",
       " 'toilet': 3421,\n",
       " 'descri': 3110,\n",
       " 'num': 7832,\n",
       " 'gardening': 8905,\n",
       " 'elev': 3192,\n",
       " 'tb': 9970,\n",
       " '##ocritical': 8945,\n",
       " 'illness': 4393,\n",
       " 'familiar': 3722,\n",
       " 'cush': 6980,\n",
       " 'analysis': 8993,\n",
       " 'employed': 6746,\n",
       " 'repeat': 3064,\n",
       " 'toile': 3338,\n",
       " 'unim': 4700,\n",
       " 'comment': 3745,\n",
       " '##ps': 6039,\n",
       " 'settle': 6732,\n",
       " 'development': 8629,\n",
       " 'opportunity': 3731,\n",
       " '##ual': 1528,\n",
       " 'appar': 3775,\n",
       " 'mandatory': 8663,\n",
       " 'addressed': 7056,\n",
       " 'crop': 7943,\n",
       " 'leg': 1493,\n",
       " 'body': 2749,\n",
       " 'starving': 6542,\n",
       " 'costs': 3442,\n",
       " 'downs': 8836,\n",
       " 'carol': 9602,\n",
       " 'bi': 2704,\n",
       " 'emp': 1620,\n",
       " 'diaper': 9607,\n",
       " '##icted': 3902,\n",
       " 'since': 1290,\n",
       " 'collecting': 5161,\n",
       " '##icill': 7425,\n",
       " 'distr': 7702,\n",
       " 'ukulele': 9034,\n",
       " 'sox': 9179,\n",
       " 'earned': 4773,\n",
       " 'preocc': 9216,\n",
       " 'i': 37,\n",
       " 'metal': 5052,\n",
       " 'grad': 2083,\n",
       " 'sever': 1769,\n",
       " '8': 24,\n",
       " 'returned': 2075,\n",
       " '##nic': 3122,\n",
       " 'cautious': 5006,\n",
       " '##minton': 5283,\n",
       " 'yoga': 6404,\n",
       " 'classified': 7471,\n",
       " 'appearances': 8919,\n",
       " '##brush': 9240,\n",
       " 'cous': 2046,\n",
       " 'chaper': 4101,\n",
       " 'decor': 3850,\n",
       " '##cul': 3766,\n",
       " '##bi': 3868,\n",
       " 'various': 4414,\n",
       " '##estion': 605,\n",
       " 'states': 2896,\n",
       " '##unched': 5843,\n",
       " 'giggled': 7552,\n",
       " '##boy': 6296,\n",
       " 'dreamed': 4039,\n",
       " 'tallest': 3779,\n",
       " 'postcard': 6952,\n",
       " 'found': 713,\n",
       " '##ple': 1448,\n",
       " 'terribly': 3815,\n",
       " '##ral': 5280,\n",
       " 'why': 193,\n",
       " 'loc': 2679,\n",
       " 'spain': 4761,\n",
       " 'began': 1324,\n",
       " 'recycle': 9016,\n",
       " 'daughter': 1550,\n",
       " 'stairs': 4225,\n",
       " 'comb': 4765,\n",
       " 'failed': 2473,\n",
       " 'gravity': 9896,\n",
       " 'dolls': 7698,\n",
       " 'price': 1372,\n",
       " 'appro': 2662,\n",
       " 'interrupting': 6574,\n",
       " '##by': 2174,\n",
       " 'forward': 3688,\n",
       " 'refriger': 3854,\n",
       " 'such': 998,\n",
       " 'prepared': 1551,\n",
       " 'freedom': 4666,\n",
       " 'remember': 860,\n",
       " 'shrimp': 5900,\n",
       " '##ipse': 6499,\n",
       " 'scrat': 4970,\n",
       " 'ent': 2254,\n",
       " 'pee': 8425,\n",
       " 'niece': 8654,\n",
       " 'unimag': 6259,\n",
       " 'song': 1018,\n",
       " 'occ': 3452,\n",
       " 'ranch': 6102,\n",
       " '\"': 5,\n",
       " 'partly': 7214,\n",
       " '##iv': 1717,\n",
       " 'cock': 4702,\n",
       " 'pat': 1335,\n",
       " 'rec': 791,\n",
       " 'cooking': 1966,\n",
       " '##ually': 762,\n",
       " '##aw': 2024,\n",
       " '##usion': 3946,\n",
       " 'shocking': 6247,\n",
       " 'unb': 3283,\n",
       " '##istible': 7643,\n",
       " 'hib': 9492,\n",
       " 'circle': 5403,\n",
       " 'tremendous': 9418,\n",
       " 'cashier': 5768,\n",
       " 'arrogant': 5352,\n",
       " 'telev': 2330,\n",
       " 'drums': 4696,\n",
       " 'nerves': 5997,\n",
       " 'riddle': 7071,\n",
       " 'slammed': 7343,\n",
       " 'dialed': 7439,\n",
       " 'pointless': 8288,\n",
       " 'autograph': 8295,\n",
       " '##ution': 2030,\n",
       " 'stimulating': 9935,\n",
       " 'sl': 888,\n",
       " 'sugar': 1575,\n",
       " 'valentine': 8946,\n",
       " 'crack': 6212,\n",
       " 'believed': 2883,\n",
       " 'sounds': 2161,\n",
       " 'steal': 2293,\n",
       " 'fox': 4776,\n",
       " 'bears': 5286,\n",
       " 'founded': 7673,\n",
       " 'obser': 6393,\n",
       " 'hom': 3021,\n",
       " 'afterwards': 6491,\n",
       " '$': 6,\n",
       " 'open': 645,\n",
       " 'dairy': 9923,\n",
       " 'voted': 3274,\n",
       " 'ble': 2924,\n",
       " 'trouble': 1285,\n",
       " 'clothing': 7688,\n",
       " '##ived': 1527,\n",
       " '##mbers': 2897,\n",
       " 'hard': 693,\n",
       " 'buddh': 4599,\n",
       " 'buys': 5462,\n",
       " 'knives': 6221,\n",
       " 'restroom': 8858,\n",
       " 'deb': 3228,\n",
       " '##thusi': 3864,\n",
       " 'plant': 2914,\n",
       " 'handled': 8512,\n",
       " 'resort': 9646,\n",
       " 'startled': 8209,\n",
       " 'proud': 773,\n",
       " 'overdose': 8677,\n",
       " '##ayed': 9152,\n",
       " 'slice': 4713,\n",
       " 'fond': 3450,\n",
       " '##or': 111,\n",
       " '##ower': 1952,\n",
       " ...}"
      ]
     },
     "execution_count": 53,
     "metadata": {},
     "output_type": "execute_result"
    }
   ],
   "source": [
    "wp_tokenizer.get_vocab()\n",
    "# se è scritto ##where, means: token agganciato a sth prima"
   ]
  },
  {
   "cell_type": "code",
   "execution_count": 56,
   "id": "a06fd7ee-aa5f-40e5-a575-a84222bfdb6d",
   "metadata": {},
   "outputs": [
    {
     "data": {
      "text/plain": [
       "[37, 614, 169, 775, 1974]"
      ]
     },
     "execution_count": 56,
     "metadata": {},
     "output_type": "execute_result"
    }
   ],
   "source": [
    "# Un esempio con una frase custom\n",
    "encoded = wp_tokenizer.encode(\"I lost my pen somewhere\")\n",
    "encoded.ids # 5 int, 5 token (indici nella matrice di embedding)"
   ]
  },
  {
   "cell_type": "code",
   "execution_count": 57,
   "id": "d54b1a4c-2e3e-4cd7-bc69-51b7712aa4f3",
   "metadata": {},
   "outputs": [
    {
     "data": {
      "text/plain": [
       "['i', 'lost', 'my', 'pen', 'somewhere']"
      ]
     },
     "execution_count": 57,
     "metadata": {},
     "output_type": "execute_result"
    }
   ],
   "source": [
    "encoded.tokens"
   ]
  },
  {
   "cell_type": "code",
   "execution_count": 59,
   "id": "2b53f130-6e34-4226-bc88-432ab19005d4",
   "metadata": {},
   "outputs": [
    {
     "data": {
      "text/plain": [
       "([37, 386, 3100, 755, 5117, 169, 644, 351],\n",
       " ['i', 'am', 'encou', '##nt', '##ering', 'my', 'id', '##ol'])"
      ]
     },
     "execution_count": 59,
     "metadata": {},
     "output_type": "execute_result"
    }
   ],
   "source": [
    "encoded = wp_tokenizer.encode(\"I am encountering my idol\")\n",
    "encoded.ids, encoded.tokens"
   ]
  },
  {
   "cell_type": "markdown",
   "id": "5b0469fe-1e84-4c43-a36e-b5e1f928e534",
   "metadata": {
    "jp-MarkdownHeadingCollapsed": true
   },
   "source": [
    "#### BPE"
   ]
  },
  {
   "cell_type": "code",
   "execution_count": 66,
   "id": "ffa47528-6474-49c2-b755-70d7ef1dcdc4",
   "metadata": {},
   "outputs": [],
   "source": [
    "from tokenizers.models import BPE\n",
    "from tokenizers.pre_tokenizers import Whitespace, Punctuation, ByteLevel\n",
    "from tokenizers.trainers import BpeTrainer"
   ]
  },
  {
   "cell_type": "code",
   "execution_count": 67,
   "id": "11c13349-8dea-456d-9ed6-8756a12a043f",
   "metadata": {},
   "outputs": [],
   "source": [
    "bpe_tokenizer = Tokenizer(model = BPE(unk_token=\"[UNK]\") ) "
   ]
  },
  {
   "cell_type": "code",
   "execution_count": 68,
   "id": "117dc51a-69ef-47fd-be39-ffcbc468478b",
   "metadata": {},
   "outputs": [
    {
     "name": "stdout",
     "output_type": "stream",
     "text": [
      "\n",
      "\n",
      "\n"
     ]
    }
   ],
   "source": [
    "# BPE Tokenizer\n",
    "bpe_tokenizer.normalizer = BertNormalizer()\n",
    "bpe_tokenizer.pre_tokenizer = ByteLevel()\n",
    "\n",
    "def lang_iterator(lang = \"en\"):\n",
    "    with open(\"ita.txt\", \"r\") as f:\n",
    "        while line := f.readline()[:-1]:\n",
    "            en_sent, it_sent, _ = line.split(\"\\t\")\n",
    "            yield en_sent if lang ==\"en\" else it_sent\n",
    "\n",
    "special_tokens = [\"[PAD]\", \"[UNK]\", \"[BOS]\", \"[EOS]\" ]\n",
    "\n",
    "bpe_tokenizer.train_from_iterator(\n",
    "    lang_iterator(\"en\"), # iteratore con la sequenza di parole/token\n",
    "    trainer = BpeTrainer(vocab_size = 10_000, special_tokens=special_tokens) \n",
    ")"
   ]
  },
  {
   "cell_type": "code",
   "execution_count": 69,
   "id": "a8ab9d02-b1a9-45c9-8d7e-c19b8066790d",
   "metadata": {},
   "outputs": [
    {
     "data": {
      "text/plain": [
       "([65, 388, 2990, 669, 7983, 158, 1894, 354],\n",
       " ['Ġi', 'Ġam', 'Ġenc', 'oun', 'tering', 'Ġmy', 'Ġid', 'ol'])"
      ]
     },
     "execution_count": 69,
     "metadata": {},
     "output_type": "execute_result"
    }
   ],
   "source": [
    "encoded = bpe_tokenizer.encode(\"I am encountering my idol\")\n",
    "encoded.ids, encoded.tokens\n",
    "# G con il puntino è o space o inizio frase"
   ]
  },
  {
   "cell_type": "markdown",
   "id": "ad576a66-1362-4462-960a-2e5cce053b35",
   "metadata": {},
   "source": [
    "#### Note"
   ]
  },
  {
   "cell_type": "code",
   "execution_count": 73,
   "id": "0cf430ca-8828-41f2-9aeb-c6d6537ebd20",
   "metadata": {},
   "outputs": [],
   "source": [
    "from tokenizers import BertWordPieceTokenizer\n",
    "# è già un tokenizer completo"
   ]
  },
  {
   "cell_type": "code",
   "execution_count": 75,
   "id": "f1483273-66b3-4246-9b91-33109e3423de",
   "metadata": {},
   "outputs": [
    {
     "name": "stdout",
     "output_type": "stream",
     "text": [
      "\n",
      "\n",
      "\n"
     ]
    }
   ],
   "source": [
    "bwp_tokenizer = BertWordPieceTokenizer()\n",
    "bwp_tokenizer.train_from_iterator(lang_iterator(\"en\"), vocab_size=10_000)"
   ]
  },
  {
   "cell_type": "code",
   "execution_count": 78,
   "id": "b4901488-5bb8-4e52-899f-90f4c02217de",
   "metadata": {},
   "outputs": [
    {
     "data": {
      "text/plain": [
       "['i', 'was', 'in', 'rome']"
      ]
     },
     "execution_count": 78,
     "metadata": {},
     "output_type": "execute_result"
    }
   ],
   "source": [
    "encoded = bwp_tokenizer.encode(\"I was in Rome\")\n",
    "encoded.tokens"
   ]
  },
  {
   "cell_type": "code",
   "execution_count": null,
   "id": "5432a023-68c3-408b-8cd6-4cfbe7118750",
   "metadata": {},
   "outputs": [],
   "source": [
    "encoded.ids # è il vettore che rappresenta la frase/sequenza, ogni id corrisponde a una riga della matrce di embedding (ovvero è una parola))"
   ]
  },
  {
   "cell_type": "markdown",
   "id": "90e9a63d-0941-4000-909e-ad7d29891f1f",
   "metadata": {},
   "source": [
    "## PyTorch\n",
    "Cenni di PyTorch perché sono le 16:49"
   ]
  },
  {
   "cell_type": "code",
   "execution_count": null,
   "id": "18384800-45f5-4bb1-a240-05ed0b81b886",
   "metadata": {},
   "outputs": [],
   "source": [
    "vedi altro Notebook"
   ]
  }
 ],
 "metadata": {
  "kernelspec": {
   "display_name": "Python 3 (ipykernel)",
   "language": "python",
   "name": "python3"
  },
  "language_info": {
   "codemirror_mode": {
    "name": "ipython",
    "version": 3
   },
   "file_extension": ".py",
   "mimetype": "text/x-python",
   "name": "python",
   "nbconvert_exporter": "python",
   "pygments_lexer": "ipython3",
   "version": "3.9.15"
  }
 },
 "nbformat": 4,
 "nbformat_minor": 5
}
