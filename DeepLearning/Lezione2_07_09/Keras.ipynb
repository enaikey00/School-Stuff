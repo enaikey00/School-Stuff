{
 "cells": [
  {
   "cell_type": "markdown",
   "id": "8ba31484-68f7-4407-abc5-70eb704deb07",
   "metadata": {},
   "source": [
    "## Keras Tutorial"
   ]
  },
  {
   "cell_type": "code",
   "execution_count": null,
   "id": "7d6f608c-a4df-4ba4-a1e2-d7bffbc02d6f",
   "metadata": {
    "tags": []
   },
   "outputs": [],
   "source": [
    "Docs API: https://www.tensorflow.org/api_docs/python/tf"
   ]
  },
  {
   "cell_type": "code",
   "execution_count": 12,
   "id": "40439f86-84d4-42db-b775-c04a6c6b0199",
   "metadata": {
    "tags": []
   },
   "outputs": [],
   "source": [
    "from keras.datasets.mnist import load_data\n",
    "import numpy as np"
   ]
  },
  {
   "cell_type": "code",
   "execution_count": 2,
   "id": "097d34a1-efd4-493a-b4b4-83a0c0ae64f4",
   "metadata": {
    "tags": []
   },
   "outputs": [],
   "source": [
    "(x_train, y_train), (x_test, y_test) = load_data() # unpacking di python (2 tuple, con due elementi)"
   ]
  },
  {
   "cell_type": "code",
   "execution_count": 3,
   "id": "fb0d51fb-391a-4a89-88da-50d49e9e7568",
   "metadata": {
    "tags": []
   },
   "outputs": [],
   "source": [
    "# Normalizzazione\n",
    "x_train = x_test / 255.\n",
    "x_test = x_test/ 255.\n",
    "# Perché? load_data() da immagini come valori interi (0-255, in scala di grigi): Normalizzo in range 0-1. \n",
    "#         (nota: in questo caso lo sfondo nero va a 0 e questo facilita il lavoro della rete"
   ]
  },
  {
   "cell_type": "code",
   "execution_count": 4,
   "id": "225e3db1-b3f3-4da4-b49a-82d8ac42c3a2",
   "metadata": {
    "tags": []
   },
   "outputs": [],
   "source": [
    "y_test = y_test.astype(np.int32)\n",
    "y_train = y_train.astype(np.int32)"
   ]
  },
  {
   "cell_type": "code",
   "execution_count": 13,
   "id": "ccda4fc1-1373-4717-9cb8-c3e5cef60bfa",
   "metadata": {
    "tags": []
   },
   "outputs": [],
   "source": [
    "import keras\n",
    "from keras.layers import Dense, Flatten"
   ]
  },
  {
   "cell_type": "markdown",
   "id": "a89a3342-8de8-44d8-91fc-b04461f12680",
   "metadata": {
    "tags": []
   },
   "source": [
    "### Creazione Modello con Sequential"
   ]
  },
  {
   "cell_type": "code",
   "execution_count": 9,
   "id": "0e85a130-eed4-489b-ae8a-959d20137b89",
   "metadata": {
    "tags": []
   },
   "outputs": [],
   "source": [
    "model = keras.Sequential(\n",
    "    [\n",
    "        Flatten(),\n",
    "        Dense(100, \"sigmoid\"),\n",
    "        Dense(100, \"sigmoid\"),\n",
    "        Dense(10, \"softmax\")\n",
    "        #Dense(10) # senza softmax se nel compile() metto from_logits = True\n",
    "    ]\n",
    ")\n",
    "\n",
    "# Nota: dimensioni: (batch size, dimensione dell'input) la Flatten fa una reshape(-1) del tensore in input, e non del batch"
   ]
  },
  {
   "cell_type": "markdown",
   "id": "6fd7de94-37d4-4413-9a6e-ebadd7f5bdd4",
   "metadata": {
    "jp-MarkdownHeadingCollapsed": true,
    "tags": []
   },
   "source": [
    "### Spiegazione Flattten"
   ]
  },
  {
   "cell_type": "code",
   "execution_count": null,
   "id": "158def21-8b63-4a8a-928d-fbf5d39c1e1d",
   "metadata": {
    "tags": []
   },
   "outputs": [],
   "source": [
    "import tensorflow as tf\n",
    "\n",
    "t = tf.random.normal([32,640, 480, 3])"
   ]
  },
  {
   "cell_type": "code",
   "execution_count": null,
   "id": "2a58846e-d687-4ffd-a236-e82efbc58936",
   "metadata": {
    "tags": []
   },
   "outputs": [],
   "source": [
    "t_flatten = tf.reshape(t, shape=[t.shape[0], -1])"
   ]
  },
  {
   "cell_type": "code",
   "execution_count": null,
   "id": "736244a0-5d91-408b-b59c-4cb091f6ae2e",
   "metadata": {
    "tags": []
   },
   "outputs": [],
   "source": [
    "t_flatten.shape"
   ]
  },
  {
   "cell_type": "code",
   "execution_count": 2,
   "id": "e6452121-4bf8-4b63-a07a-433c01b7a51a",
   "metadata": {
    "tags": []
   },
   "outputs": [],
   "source": [
    "# fine spiegazione"
   ]
  },
  {
   "cell_type": "markdown",
   "id": "9c85f7c2-75d2-409d-83b4-74f95c99978f",
   "metadata": {},
   "source": [
    "## Continuo Keras"
   ]
  },
  {
   "cell_type": "markdown",
   "id": "731809e6-4cce-4b80-b554-fa6d46ba73d2",
   "metadata": {},
   "source": [
    "### Model building"
   ]
  },
  {
   "cell_type": "code",
   "execution_count": 10,
   "id": "4ae0a170-b5a1-4290-ac07-8b8a01ea9211",
   "metadata": {
    "tags": []
   },
   "outputs": [
    {
     "data": {
      "text/plain": [
       "<tf.Tensor: shape=(10, 10), dtype=float32, numpy=\n",
       "array([[0.08239181, 0.10936715, 0.07162292, 0.17838377, 0.02009678,\n",
       "        0.29507178, 0.01412347, 0.06092006, 0.09651064, 0.07151174],\n",
       "       [0.08462055, 0.11345805, 0.0715907 , 0.16804957, 0.02008302,\n",
       "        0.2970242 , 0.01474483, 0.06082911, 0.09899225, 0.07060766],\n",
       "       [0.08485747, 0.10963368, 0.07436068, 0.17243621, 0.02113033,\n",
       "        0.29441822, 0.01467785, 0.05945624, 0.09686764, 0.07216157],\n",
       "       [0.08640997, 0.11222877, 0.07269963, 0.17130844, 0.0206222 ,\n",
       "        0.28687954, 0.01418974, 0.05762508, 0.10477756, 0.07325892],\n",
       "       [0.08639479, 0.11159971, 0.07208452, 0.16794686, 0.02098403,\n",
       "        0.2908852 , 0.01447166, 0.0636696 , 0.09923788, 0.0727258 ],\n",
       "       [0.08562789, 0.10958152, 0.07496532, 0.17562078, 0.02092306,\n",
       "        0.28991756, 0.01460755, 0.05911367, 0.09670519, 0.07293756],\n",
       "       [0.08249418, 0.1104734 , 0.07353803, 0.17621456, 0.0207559 ,\n",
       "        0.28980252, 0.01414703, 0.06399614, 0.09812415, 0.07045418],\n",
       "       [0.08494347, 0.10914947, 0.0696037 , 0.17183152, 0.02072714,\n",
       "        0.3019879 , 0.01450353, 0.0579706 , 0.10009845, 0.06918431],\n",
       "       [0.08967116, 0.11298151, 0.07512432, 0.17018174, 0.02038869,\n",
       "        0.28722343, 0.01470754, 0.05756709, 0.10220906, 0.06994543],\n",
       "       [0.08323508, 0.10808047, 0.07597867, 0.17976958, 0.02105361,\n",
       "        0.2838794 , 0.01359027, 0.06077063, 0.10019519, 0.07344717]],\n",
       "      dtype=float32)>"
      ]
     },
     "execution_count": 10,
     "metadata": {},
     "output_type": "execute_result"
    }
   ],
   "source": [
    "model(x_train[:10]) # prende 10 images e da le probabilità (casuali, il modello non è stato allenato, però è BUILT)\n",
    "# un batch da 10 (10x28x28), potrei anche fare 1x28x28, ma non 0x28x28\n",
    "\n",
    "# Nota: i modelli si aspettano sempre un batch"
   ]
  },
  {
   "cell_type": "code",
   "execution_count": null,
   "id": "d4af0c54-7512-498d-9ae8-60ef2a3900a0",
   "metadata": {
    "tags": []
   },
   "outputs": [],
   "source": [
    "model.get_weights() # i pesi sono inizializzati ( da una Normal distribution... in modo particolare)"
   ]
  },
  {
   "cell_type": "code",
   "execution_count": null,
   "id": "8b554f77-9632-4d0d-97cc-01613bb4a16d",
   "metadata": {
    "tags": []
   },
   "outputs": [],
   "source": [
    "model.summary()"
   ]
  },
  {
   "cell_type": "code",
   "execution_count": null,
   "id": "fb0566b0-fa49-46e8-8ab3-4bfb6056ca63",
   "metadata": {},
   "outputs": [],
   "source": [
    "# Model summary: (10, 784) vuoldire: batch_size, dim dell'input (28x28 image)"
   ]
  },
  {
   "cell_type": "code",
   "execution_count": null,
   "id": "b7e5187b-d093-497d-9498-c2a219171ed4",
   "metadata": {},
   "outputs": [],
   "source": [
    "# ALternativa a Costruire il modello in modo artificioso:\n",
    "model = keras.Sequential(\n",
    "    [\n",
    "        Flatten(input_shape=[28,28]),\n",
    "        Dense(100, \"sigmoid\"),\n",
    "        Dense(100, \"sigmoid\"),\n",
    "        Dense(10, \"softmax\")\n",
    "    ]\n",
    ")\n",
    "# input_shape può andare su any strato\n",
    "# forse input_shape puà essere usato come assert anche negli strati successvi"
   ]
  },
  {
   "cell_type": "markdown",
   "id": "7ef78944-92bf-4f22-89a9-a0f2770a6123",
   "metadata": {},
   "source": [
    "### Compilazione\n",
    "Cosa fa il compile?\n",
    "Docs: Configures the model for training. https://www.tensorflow.org/api_docs/python/tf/keras/Model#compile\n",
    "\n",
    "* optimizer: per il Gradient Descent, o anyway andare verso il minimo, trovare il modello più performante\n",
    "* funzione di costo: per fare il gradiente, capire la direzione\n",
    "* metrica per valutare il modello"
   ]
  },
  {
   "cell_type": "code",
   "execution_count": null,
   "id": "53eb1fac-bcb4-4856-9697-1dd06b5a5a7c",
   "metadata": {
    "tags": []
   },
   "outputs": [],
   "source": [
    "model.compile(\n",
    "    optimizer=keras.optimizers.Adam(), # come oggetto o come stringa \"adam\"\n",
    "    #loss = keras.losses.SparseCategoricalCrossentropy(from_logits = True),\n",
    "    loss = keras.losses.SparseCategoricalCrossentropy(),\n",
    "    metrics = [keras.metrics.SparseCategoricalAccuracy()] \n",
    ")\n",
    "# tutte le metriche di aspettano y_true e y_pred (label e predizioni)\n",
    "# la sparse categorical si aspetta le probabilità della classe predetta e non la classe (vedi docs)"
   ]
  },
  {
   "cell_type": "code",
   "execution_count": null,
   "id": "261f964b-ed31-476e-984b-b26ec8b58edd",
   "metadata": {
    "tags": []
   },
   "outputs": [],
   "source": [
    "history = model.fit(\n",
    "    x = x_train,\n",
    "    y = y_train,\n",
    "    batch_size = 32,\n",
    "    epochs = 100,\n",
    "    validation_split = 0.2,\n",
    "    shuffle = True\n",
    ")"
   ]
  },
  {
   "cell_type": "code",
   "execution_count": null,
   "id": "a0ce57d5-f538-48b8-9c74-a4816c8182df",
   "metadata": {},
   "outputs": [],
   "source": [
    "# Nota: keras permette di entrare nel dettaglio, a basso livello: fare strati custom, metriche custom, ..."
   ]
  },
  {
   "cell_type": "code",
   "execution_count": null,
   "id": "f125590e-1f7c-4958-9149-a243b273827c",
   "metadata": {},
   "outputs": [],
   "source": [
    "# Se faccio una fit dopo l'altra, la seconda continua dalla prima, senza sovrascrivere i pesi ( per farlo va ricreato il modello)"
   ]
  },
  {
   "cell_type": "code",
   "execution_count": null,
   "id": "2c525438-93ad-4ec3-8028-9befe2836849",
   "metadata": {
    "tags": []
   },
   "outputs": [],
   "source": [
    "history.history[\"loss\"]\n",
    "# dict: lista delle loss, poi delle accuracy, ... tutti i parametri"
   ]
  },
  {
   "cell_type": "code",
   "execution_count": null,
   "id": "4f7f4c09-1262-4a7d-aaf7-6d7228e35620",
   "metadata": {
    "tags": []
   },
   "outputs": [],
   "source": [
    "# Accuracy sul Validation Set\n",
    "import matplotlib.pyplot as plt"
   ]
  },
  {
   "cell_type": "code",
   "execution_count": null,
   "id": "36bcc704-6ade-4fbc-8fe4-1b2ec94cc7fd",
   "metadata": {
    "tags": []
   },
   "outputs": [],
   "source": [
    "plt.plot(history.history[\"val_sparse_categorical_accuracy\"])"
   ]
  },
  {
   "cell_type": "code",
   "execution_count": null,
   "id": "9c6261ed-c841-4095-ab1c-55b4f619560a",
   "metadata": {
    "tags": []
   },
   "outputs": [],
   "source": [
    "plt.plot(history.history[\"loss\"])\n",
    "# nel mio caso non overfitta, non torna su la loss"
   ]
  },
  {
   "cell_type": "markdown",
   "id": "c67e5892-838f-44fe-9b75-54ae7fa7d7b2",
   "metadata": {},
   "source": [
    "### Callbacks\n",
    "Usati per fare cose utili, come intervenire in diversi momenti dell'addestramento\n",
    "+ ci sono Callback predefiniti: \n",
    "    * ex. early stoppping, \n",
    "    * checkpoint (salvare addestramento)\n",
    "    * tensorboard"
   ]
  },
  {
   "cell_type": "code",
   "execution_count": null,
   "id": "eabb888c-8646-4b7c-becc-2b1853cef63b",
   "metadata": {},
   "outputs": [],
   "source": [
    "# Early Stopping: ex. quando la loss smette di scendere, fermati\n",
    "# I più usati dal prof. : CSVLogger, tensorboard, early stopping, model checkpoint"
   ]
  },
  {
   "cell_type": "code",
   "execution_count": 14,
   "id": "5d7f223b-367c-465e-b94c-b29783ae069e",
   "metadata": {
    "tags": []
   },
   "outputs": [],
   "source": [
    "# Ricreo modello\n",
    "model = keras.Sequential(\n",
    "    [\n",
    "        Flatten(input_shape=[28,28]),\n",
    "        Dense(100, \"sigmoid\"),\n",
    "        Dense(100, \"sigmoid\"),\n",
    "        Dense(10, \"softmax\")\n",
    "    ]\n",
    ")\n",
    "# Ricompilo\n",
    "model.compile(\n",
    "    optimizer=keras.optimizers.Adam(), # come oggetto o come stringa \"adam\"\n",
    "    #loss = keras.losses.SparseCategoricalCrossentropy(from_logits = True),\n",
    "    loss = keras.losses.SparseCategoricalCrossentropy(),\n",
    "    metrics = [keras.metrics.SparseCategoricalAccuracy()] \n",
    ")"
   ]
  },
  {
   "cell_type": "code",
   "execution_count": 15,
   "id": "6a7d147c-90d5-454c-9166-9fe4b0eb0faa",
   "metadata": {
    "tags": []
   },
   "outputs": [],
   "source": [
    "from keras.callbacks import CSVLogger, TensorBoard, EarlyStopping, ModelCheckpoint"
   ]
  },
  {
   "cell_type": "code",
   "execution_count": 16,
   "id": "993f5fdc-145b-408f-9b4c-7c467c7a218c",
   "metadata": {
    "tags": []
   },
   "outputs": [],
   "source": [
    "import tensorflow as tf"
   ]
  },
  {
   "cell_type": "code",
   "execution_count": 17,
   "id": "04a88e71-90b6-4da7-9cf6-e6e55372539b",
   "metadata": {
    "tags": []
   },
   "outputs": [
    {
     "name": "stdout",
     "output_type": "stream",
     "text": [
      "The tensorboard extension is already loaded. To reload it, use:\n",
      "  %reload_ext tensorboard\n"
     ]
    }
   ],
   "source": [
    "# Per usare Tensorboard, creare cartella di log\n",
    "%load_ext tensorboard"
   ]
  },
  {
   "cell_type": "code",
   "execution_count": 18,
   "id": "b7bf8d46-5b77-4935-889e-ebcf28182cab",
   "metadata": {
    "tags": []
   },
   "outputs": [
    {
     "data": {
      "text/plain": [
       "<keras.src.callbacks.TensorBoard at 0x7f4bcecf1190>"
      ]
     },
     "execution_count": 18,
     "metadata": {},
     "output_type": "execute_result"
    }
   ],
   "source": [
    "tf.keras.callbacks.TensorBoard(\n",
    "    log_dir='logdir',\n",
    "    histogram_freq=0,\n",
    "    write_graph=True,\n",
    "    write_images=False,\n",
    "    write_steps_per_second=False,\n",
    "    update_freq='epoch',\n",
    "    profile_batch=0,\n",
    "    embeddings_freq=0,\n",
    "    embeddings_metadata=None\n",
    ")"
   ]
  },
  {
   "cell_type": "code",
   "execution_count": 24,
   "id": "7b3e23b3-edb3-4edd-b4fa-7c1fe3ddf005",
   "metadata": {
    "collapsed": true,
    "jupyter": {
     "outputs_hidden": true
    },
    "scrolled": true,
    "tags": []
   },
   "outputs": [
    {
     "data": {
      "text/plain": [
       "ERROR: Failed to launch TensorBoard (exited with 1).\n",
       "Contents of stderr:\n",
       "2023-09-07 14:02:58.859891: I tensorflow/tsl/cuda/cudart_stub.cc:28] Could not find cuda drivers on your machine, GPU will not be used.\n",
       "2023-09-07 14:02:58.951459: I tensorflow/tsl/cuda/cudart_stub.cc:28] Could not find cuda drivers on your machine, GPU will not be used.\n",
       "2023-09-07 14:02:58.952095: I tensorflow/core/platform/cpu_feature_guard.cc:182] This TensorFlow binary is optimized to use available CPU instructions in performance-critical operations.\n",
       "To enable the following instructions: AVX2 FMA, in other operations, rebuild TensorFlow with the appropriate compiler flags.\n",
       "2023-09-07 14:03:00.252120: W tensorflow/compiler/tf2tensorrt/utils/py_utils.cc:38] TF-TRT Warning: Could not find TensorRT\n",
       "/home/naska/miniconda3/lib/python3.9/site-packages/tensorboard_data_server/bin/server: /lib/x86_64-linux-gnu/libc.so.6: version `GLIBC_2.33' not found (required by /home/naska/miniconda3/lib/python3.9/site-packages/tensorboard_data_server/bin/server)\n",
       "/home/naska/miniconda3/lib/python3.9/site-packages/tensorboard_data_server/bin/server: /lib/x86_64-linux-gnu/libc.so.6: version `GLIBC_2.34' not found (required by /home/naska/miniconda3/lib/python3.9/site-packages/tensorboard_data_server/bin/server)\n",
       "/home/naska/miniconda3/lib/python3.9/site-packages/tensorboard_data_server/bin/server: /lib/x86_64-linux-gnu/libc.so.6: version `GLIBC_2.32' not found (required by /home/naska/miniconda3/lib/python3.9/site-packages/tensorboard_data_server/bin/server)\n",
       "E0907 14:03:01.787231 140364398350720 application.py:125] Failed to load plugin WhatIfToolPluginLoader.load; ignoring it.\n",
       "Traceback (most recent call last):\n",
       "  File \"/home/naska/miniconda3/lib/python3.9/site-packages/tensorboard/backend/application.py\", line 123, in TensorBoardWSGIApp\n",
       "    plugin = loader.load(context)\n",
       "  File \"/home/naska/miniconda3/lib/python3.9/site-packages/tensorboard_plugin_wit/wit_plugin_loader.py\", line 57, in load\n",
       "    from tensorboard_plugin_wit.wit_plugin import WhatIfToolPlugin\n",
       "  File \"/home/naska/miniconda3/lib/python3.9/site-packages/tensorboard_plugin_wit/wit_plugin.py\", line 40, in <module>\n",
       "    from tensorboard_plugin_wit._utils import common_utils\n",
       "  File \"/home/naska/miniconda3/lib/python3.9/site-packages/tensorboard_plugin_wit/_utils/common_utils.py\", line 17, in <module>\n",
       "    from tensorboard_plugin_wit._vendor.tensorflow_serving.apis import classification_pb2\n",
       "  File \"/home/naska/miniconda3/lib/python3.9/site-packages/tensorboard_plugin_wit/_vendor/tensorflow_serving/apis/classification_pb2.py\", line 15, in <module>\n",
       "    from tensorboard_plugin_wit._vendor.tensorflow_serving.apis import input_pb2 as tensorflow__serving_dot_apis_dot_input__pb2\n",
       "  File \"/home/naska/miniconda3/lib/python3.9/site-packages/tensorboard_plugin_wit/_vendor/tensorflow_serving/apis/input_pb2.py\", line 37, in <module>\n",
       "    _descriptor.FieldDescriptor(\n",
       "  File \"/home/naska/miniconda3/lib/python3.9/site-packages/google/protobuf/descriptor.py\", line 561, in __new__\n",
       "    _message.Message._CheckCalledFromGeneratedFile()\n",
       "TypeError: Descriptors cannot not be created directly.\n",
       "If this call came from a _pb2.py file, your generated code is out of date and must be regenerated with protoc >= 3.19.0.\n",
       "If you cannot immediately regenerate your protos, some other possible workarounds are:\n",
       " 1. Downgrade the protobuf package to 3.20.x or lower.\n",
       " 2. Set PROTOCOL_BUFFERS_PYTHON_IMPLEMENTATION=python (but this will use pure-Python parsing and will be much slower).\n",
       "\n",
       "More information: https://developers.google.com/protocol-buffers/docs/news/2022-05-06#python-updates\n",
       "Traceback (most recent call last):\n",
       "  File \"/home/naska/miniconda3/bin/tensorboard\", line 8, in <module>\n",
       "    sys.exit(run_main())\n",
       "  File \"/home/naska/miniconda3/lib/python3.9/site-packages/tensorboard/main.py\", line 46, in run_main\n",
       "    app.run(tensorboard.main, flags_parser=tensorboard.configure)\n",
       "  File \"/home/naska/miniconda3/lib/python3.9/site-packages/absl/app.py\", line 308, in run\n",
       "    _run_main(main, args)\n",
       "  File \"/home/naska/miniconda3/lib/python3.9/site-packages/absl/app.py\", line 254, in _run_main\n",
       "    sys.exit(main(argv))\n",
       "  File \"/home/naska/miniconda3/lib/python3.9/site-packages/tensorboard/program.py\", line 276, in main\n",
       "    return runner(self.flags) or 0\n",
       "  File \"/home/naska/miniconda3/lib/python3.9/site-packages/tensorboard/program.py\", line 292, in _run_serve_subcommand\n",
       "    server = self._make_server()\n",
       "  File \"/home/naska/miniconda3/lib/python3.9/site-packages/tensorboard/program.py\", line 467, in _make_server\n",
       "    app = application.TensorBoardWSGIApp(\n",
       "  File \"/home/naska/miniconda3/lib/python3.9/site-packages/tensorboard/backend/application.py\", line 139, in TensorBoardWSGIApp\n",
       "    return TensorBoardWSGI(\n",
       "  File \"/home/naska/miniconda3/lib/python3.9/site-packages/tensorboard/backend/application.py\", line 252, in __init__\n",
       "    raise ValueError(\n",
       "ValueError: Duplicate plugins for name projector"
      ]
     },
     "metadata": {},
     "output_type": "display_data"
    }
   ],
   "source": [
    "%tensorboard --logdir logdir --host localhost --port 8088 #--path_prefix /tensorboard\n",
    "# % per farlo partire in modalità notebook"
   ]
  },
  {
   "cell_type": "code",
   "execution_count": 23,
   "id": "61aea2ed-f856-4120-b1a1-3d2bcf9f31e6",
   "metadata": {
    "tags": []
   },
   "outputs": [],
   "source": [
    "callbacks = [\n",
    "    TensorBoard(log_dir=\"logdir\"),\n",
    "    ModelCheckpoint(\"checkpoints/saved_model_{epoch:02d}.chkpt\"), # see docs\n",
    "    EarlyStopping(patience = 5, restore_best_weights=True) # https://www.tensorflow.org/api_docs/python/tf/keras/callbacks/EarlyStopping\n",
    "        # il parametro mode: significa: cosa vuoldire per quella metrica \"migliorare\"? verso l'alto o il basso (deve aumentare o diminuire?)\n",
    "]"
   ]
  },
  {
   "cell_type": "code",
   "execution_count": null,
   "id": "d179ed0e-be0d-4267-880f-82da67d98e6a",
   "metadata": {},
   "outputs": [],
   "source": [
    "history = model.fit(\n",
    "    x = x_train,\n",
    "    y = y_train,\n",
    "    batch_size = 32,\n",
    "    epochs = 100,\n",
    "    validation_split = 0.2,\n",
    "    shuffle = True,\n",
    "    callbacks = callbacks\n",
    ")"
   ]
  },
  {
   "cell_type": "code",
   "execution_count": null,
   "id": "8c1252f2-5d68-4b79-998e-cb197f1992df",
   "metadata": {},
   "outputs": [],
   "source": [
    "# caricare modello\n",
    "loaded_model = keras.models.load_model(\"/content/checkpoints/saved_model_16.chpkt\")\n",
    "# vedi nptebook del prof"
   ]
  },
  {
   "cell_type": "markdown",
   "id": "035e6a3d-1f74-46da-9d42-3cfbafed164b",
   "metadata": {},
   "source": [
    "### Tensorflow static vs dynamic"
   ]
  },
  {
   "cell_type": "code",
   "execution_count": null,
   "id": "cae6dbd1-712c-4b63-8881-7501cbf32f9f",
   "metadata": {
    "tags": []
   },
   "outputs": [],
   "source": [
    "import tensorflow as tf"
   ]
  },
  {
   "cell_type": "code",
   "execution_count": null,
   "id": "1f25ccbc-8fef-4d85-8fd8-ea5cf2add1d8",
   "metadata": {
    "tags": []
   },
   "outputs": [],
   "source": [
    "def sigmoid(t):\n",
    "    print(\"Sono una sigmoide\")\n",
    "    return 1 / (1+tf.exp(-t))"
   ]
  },
  {
   "cell_type": "code",
   "execution_count": null,
   "id": "1f2983ca-9ee6-4672-94a9-33b4dfa39cfa",
   "metadata": {
    "tags": []
   },
   "outputs": [],
   "source": [
    "t = tf.constant([1.,2,3])"
   ]
  },
  {
   "cell_type": "code",
   "execution_count": null,
   "id": "f2851850-7a48-4504-a3bb-e0e9569c5ab3",
   "metadata": {
    "tags": []
   },
   "outputs": [],
   "source": [
    "sigmoid(t)"
   ]
  },
  {
   "cell_type": "code",
   "execution_count": null,
   "id": "02b39384-3eba-4ec2-8743-8c48788fddb4",
   "metadata": {
    "tags": []
   },
   "outputs": [],
   "source": [
    "# Decoratore per usare la mode statica\n",
    "@tf.function\n",
    "def sigmoid(t):\n",
    "    print(\"Sono una sigmoide\")\n",
    "    return 1 / (1+tf.exp(-t))"
   ]
  },
  {
   "cell_type": "code",
   "execution_count": null,
   "id": "5f486e8a-525a-4fe7-9836-3770eeef9b80",
   "metadata": {
    "tags": []
   },
   "outputs": [],
   "source": [
    "sigmoid(t)"
   ]
  },
  {
   "cell_type": "code",
   "execution_count": null,
   "id": "a280b757-b310-475b-bfab-54bcd34d7354",
   "metadata": {
    "tags": []
   },
   "outputs": [],
   "source": [
    "sigmoid(t)"
   ]
  },
  {
   "cell_type": "code",
   "execution_count": null,
   "id": "c9ab974f-8005-49b1-ab31-7ede97a35468",
   "metadata": {},
   "outputs": [],
   "source": [
    "# nel secondo output manca la print.\n",
    "# la modalitò statica è più veloce anche del 50%.\n",
    "\n",
    "# la prima volta che la funz. viene chiamata TF fa un tracing, grafo computazionale statico delle operazioni che fa quella funzione.\n",
    "# la seconda volta viene esguito il grafo e non il codice python. il tracing registra solo le operazioni di TF, la print è di python.\n",
    "\n",
    "# Nota: argomento da approfondire, è complesso scrivere in static mode"
   ]
  },
  {
   "cell_type": "code",
   "execution_count": null,
   "id": "79d2d30e-693c-4102-b078-24825e0bcb7e",
   "metadata": {},
   "outputs": [],
   "source": [
    "# Keras lavora in mode statica (fa un tracing)\n",
    "# importante se faccio un layer custom, o altre cose custom"
   ]
  },
  {
   "cell_type": "code",
   "execution_count": null,
   "id": "eb1a49cc-6f69-43d2-95fe-57fc353180eb",
   "metadata": {},
   "outputs": [],
   "source": [
    "# Keras può essere eseguito in mode dinamica\n",
    "# cerca parametro run_eagerly (ex. nel metodo compile() di model"
   ]
  },
  {
   "cell_type": "code",
   "execution_count": null,
   "id": "e7099b78-b1be-4714-a402-b5c0ff3b408a",
   "metadata": {
    "tags": []
   },
   "outputs": [],
   "source": [
    "sigmoid #  è un oggetto di TF\n",
    "\n",
    "t1 = tf.constant([1.,2,3], [4.,5,6])\n",
    "sigmoid(t1) # crea un altro grafo, fa un'alta volta il tracing\n",
    "# diventa un wrapper di più funzioni \"concrete\", per due grafi comp. (uno per un tensore 1D come t, e uno per 2D come t2)"
   ]
  },
  {
   "cell_type": "markdown",
   "id": "79a46163-2a83-4b07-8102-21fdbbd4591e",
   "metadata": {},
   "source": [
    "## Funzioni di Attivazione"
   ]
  },
  {
   "cell_type": "code",
   "execution_count": null,
   "id": "8380d298-a3b8-418d-b8f5-f50f4743c52f",
   "metadata": {},
   "outputs": [],
   "source": [
    "# vedi appunti"
   ]
  },
  {
   "cell_type": "code",
   "execution_count": null,
   "id": "2921b8bf-a10d-4a6a-ac47-456b451c81ab",
   "metadata": {
    "tags": []
   },
   "outputs": [],
   "source": [
    "# Confronto tra addestramenti con ReLU e con Sigmoide"
   ]
  },
  {
   "cell_type": "code",
   "execution_count": null,
   "id": "a8de9599-5b92-496d-b12c-154058d3109b",
   "metadata": {
    "tags": []
   },
   "outputs": [],
   "source": [
    "# vedi notebook del prof"
   ]
  },
  {
   "cell_type": "markdown",
   "id": "4c3dcc5b-093f-434b-9476-318868d2b45d",
   "metadata": {},
   "source": [
    "### Parametro Training (layer e modelli)"
   ]
  },
  {
   "cell_type": "code",
   "execution_count": 28,
   "id": "74389ab7-d59e-4ab5-97a4-4d7c9befa3d4",
   "metadata": {},
   "outputs": [],
   "source": [
    "from keras.layers import Dense, Dropout\n",
    "import tensorflow as tf"
   ]
  },
  {
   "cell_type": "code",
   "execution_count": 26,
   "id": "6e300335-e79a-4eec-9e94-32b5052c5297",
   "metadata": {},
   "outputs": [],
   "source": [
    "dense_layer = Dense(10)"
   ]
  },
  {
   "cell_type": "code",
   "execution_count": 27,
   "id": "f83521ee-4167-458e-9db5-90bacfd8512a",
   "metadata": {},
   "outputs": [],
   "source": [
    "dropout_layer = Dropout(rate=0.5) # è proprio uno strato, posto dopo quello a cui si applica"
   ]
  },
  {
   "cell_type": "code",
   "execution_count": 33,
   "id": "7a576dcb-d440-466d-990b-3240fb69088a",
   "metadata": {},
   "outputs": [],
   "source": [
    "t = tf.range(10, dtype=tf.float32)"
   ]
  },
  {
   "cell_type": "code",
   "execution_count": 34,
   "id": "2494f5e0-56b7-49eb-ab40-2963c5bb357c",
   "metadata": {},
   "outputs": [
    {
     "data": {
      "text/plain": [
       "<tf.Tensor: shape=(10,), dtype=float32, numpy=array([0., 1., 2., 3., 4., 5., 6., 7., 8., 9.], dtype=float32)>"
      ]
     },
     "execution_count": 34,
     "metadata": {},
     "output_type": "execute_result"
    }
   ],
   "source": [
    "t"
   ]
  },
  {
   "cell_type": "code",
   "execution_count": 35,
   "id": "eb5aabdf-41ff-4ed5-afa4-a16a742840db",
   "metadata": {},
   "outputs": [
    {
     "data": {
      "text/plain": [
       "<tf.Tensor: shape=(10,), dtype=float32, numpy=array([ 0.,  2.,  0.,  0.,  8., 10., 12.,  0., 16.,  0.], dtype=float32)>"
      ]
     },
     "execution_count": 35,
     "metadata": {},
     "output_type": "execute_result"
    }
   ],
   "source": [
    "dropout_layer(t, training=True)"
   ]
  },
  {
   "cell_type": "code",
   "execution_count": null,
   "id": "592bc324-745a-4998-ada8-25f46915588b",
   "metadata": {},
   "outputs": [],
   "source": [
    "# Nota: in TF la classe model è sotto la classe layer (un model è un layer)"
   ]
  },
  {
   "cell_type": "code",
   "execution_count": null,
   "id": "2a060451-3b7e-41af-b5ef-c7d0832c1b36",
   "metadata": {},
   "outputs": [],
   "source": [
    "from keras.layers import BatchNormalization\n"
   ]
  },
  {
   "cell_type": "code",
   "execution_count": 1,
   "id": "2983c337-a922-4970-b68d-adf076e384b5",
   "metadata": {
    "collapsed": true,
    "jupyter": {
     "outputs_hidden": true
    }
   },
   "outputs": [
    {
     "ename": "NameError",
     "evalue": "name 'keras' is not defined",
     "output_type": "error",
     "traceback": [
      "\u001b[0;31m---------------------------------------------------------------------------\u001b[0m",
      "\u001b[0;31mNameError\u001b[0m                                 Traceback (most recent call last)",
      "Cell \u001b[0;32mIn[1], line 1\u001b[0m\n\u001b[0;32m----> 1\u001b[0m model \u001b[38;5;241m=\u001b[39m \u001b[43mkeras\u001b[49m\u001b[38;5;241m.\u001b[39mSequential(\n\u001b[1;32m      2\u001b[0m     [\n\u001b[1;32m      3\u001b[0m         Flatten(input_shape\u001b[38;5;241m=\u001b[39m(\u001b[38;5;241m28\u001b[39m, \u001b[38;5;241m28\u001b[39m)),\n\u001b[1;32m      4\u001b[0m         Dense(\u001b[38;5;241m100\u001b[39m, \u001b[38;5;124m\"\u001b[39m\u001b[38;5;124mrelu\u001b[39m\u001b[38;5;124m\"\u001b[39m),\n\u001b[1;32m      5\u001b[0m         BatchNormalization(),\n\u001b[1;32m      6\u001b[0m         Dense(\u001b[38;5;241m100\u001b[39m, \u001b[38;5;124m\"\u001b[39m\u001b[38;5;124mrelu\u001b[39m\u001b[38;5;124m\"\u001b[39m),\n\u001b[1;32m      7\u001b[0m         BatchNormalization(),\n\u001b[1;32m      8\u001b[0m         Dense(\u001b[38;5;241m10\u001b[39m, \u001b[38;5;124m\"\u001b[39m\u001b[38;5;124msoftmax\u001b[39m\u001b[38;5;124m\"\u001b[39m)\n\u001b[1;32m      9\u001b[0m     ]\n\u001b[1;32m     10\u001b[0m )\n",
      "\u001b[0;31mNameError\u001b[0m: name 'keras' is not defined"
     ]
    }
   ],
   "source": [
    "model = keras.Sequential(\n",
    "    [\n",
    "        Flatten(input_shape=(28, 28)),\n",
    "        Dense(100, \"relu\"),\n",
    "        BatchNormalization(),\n",
    "        Dense(100, \"relu\"),\n",
    "        BatchNormalization(),\n",
    "        Dense(10, \"softmax\")\n",
    "    ]\n",
    ")"
   ]
  },
  {
   "cell_type": "code",
   "execution_count": 2,
   "id": "50be73a1-dc97-43a7-a582-9d83a340b2aa",
   "metadata": {
    "collapsed": true,
    "jupyter": {
     "outputs_hidden": true
    }
   },
   "outputs": [
    {
     "ename": "NameError",
     "evalue": "name 'model' is not defined",
     "output_type": "error",
     "traceback": [
      "\u001b[0;31m---------------------------------------------------------------------------\u001b[0m",
      "\u001b[0;31mNameError\u001b[0m                                 Traceback (most recent call last)",
      "Cell \u001b[0;32mIn[2], line 1\u001b[0m\n\u001b[0;32m----> 1\u001b[0m \u001b[43mmodel\u001b[49m\u001b[38;5;241m.\u001b[39msummary()\n\u001b[1;32m      2\u001b[0m \u001b[38;5;66;03m#  solo la metù dei parametri degli strati di BatchNormalization è addestrabile\u001b[39;00m\n",
      "\u001b[0;31mNameError\u001b[0m: name 'model' is not defined"
     ]
    }
   ],
   "source": [
    "model.summary()\n",
    "#  solo la metù dei parametri degli strati di BatchNormalization è addestrabile"
   ]
  },
  {
   "cell_type": "markdown",
   "id": "12b859a4-370e-46d0-904e-96919cad5dc0",
   "metadata": {},
   "source": [
    "## Esercizio"
   ]
  },
  {
   "cell_type": "code",
   "execution_count": 1,
   "id": "a2c3cbed-ecd8-4021-b643-43edf04abd36",
   "metadata": {},
   "outputs": [],
   "source": [
    "# Vedi notebook \"Esercizio\""
   ]
  },
  {
   "cell_type": "code",
   "execution_count": null,
   "id": "b64f40cf-3003-49b0-b0a9-330add42d253",
   "metadata": {},
   "outputs": [],
   "source": []
  }
 ],
 "metadata": {
  "kernelspec": {
   "display_name": "Python 3 (ipykernel)",
   "language": "python",
   "name": "python3"
  },
  "language_info": {
   "codemirror_mode": {
    "name": "ipython",
    "version": 3
   },
   "file_extension": ".py",
   "mimetype": "text/x-python",
   "name": "python",
   "nbconvert_exporter": "python",
   "pygments_lexer": "ipython3",
   "version": "3.9.15"
  }
 },
 "nbformat": 4,
 "nbformat_minor": 5
}
