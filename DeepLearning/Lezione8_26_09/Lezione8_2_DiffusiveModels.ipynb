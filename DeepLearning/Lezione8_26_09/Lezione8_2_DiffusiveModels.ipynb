{
 "cells": [
  {
   "cell_type": "markdown",
   "id": "c7665aa4-7715-4e05-88dc-91ca8c727858",
   "metadata": {},
   "source": [
    "# Modelli Diffusivi\n",
    "Diffusion Models from Scracth"
   ]
  },
  {
   "cell_type": "code",
   "execution_count": 1,
   "id": "3851d195-63cf-4a65-a63b-014008d168d4",
   "metadata": {},
   "outputs": [
    {
     "name": "stderr",
     "output_type": "stream",
     "text": [
      "2023-09-28 18:08:12.480921: I tensorflow/tsl/cuda/cudart_stub.cc:28] Could not find cuda drivers on your machine, GPU will not be used.\n",
      "2023-09-28 18:08:12.630645: I tensorflow/tsl/cuda/cudart_stub.cc:28] Could not find cuda drivers on your machine, GPU will not be used.\n",
      "2023-09-28 18:08:12.632426: I tensorflow/core/platform/cpu_feature_guard.cc:182] This TensorFlow binary is optimized to use available CPU instructions in performance-critical operations.\n",
      "To enable the following instructions: AVX2 FMA, in other operations, rebuild TensorFlow with the appropriate compiler flags.\n",
      "2023-09-28 18:08:14.893640: W tensorflow/compiler/tf2tensorrt/utils/py_utils.cc:38] TF-TRT Warning: Could not find TensorRT\n"
     ]
    }
   ],
   "source": [
    "from keras.datasets import mnist\n",
    "import numpy as np\n",
    "import tensorflow as tf"
   ]
  },
  {
   "cell_type": "code",
   "execution_count": 2,
   "id": "806db9a7-1b58-4ff6-819d-056607740ffe",
   "metadata": {},
   "outputs": [],
   "source": [
    "(x_train, y_train), (x_test, y_test) = mnist.load_data()"
   ]
  },
  {
   "cell_type": "code",
   "execution_count": 59,
   "id": "5efc92b4-9289-42e2-98f4-18dc10c08b9e",
   "metadata": {},
   "outputs": [
    {
     "data": {
      "text/plain": [
       "'\\n# Standardizzazione\\nmean = np.mean(x_train)\\nsigma = np.std(x_train)\\n\\nx_train = ((x_train - mean) / sigma).astype(np.float32)\\nx_test = ((x_test - mean) / sigma).astype(np.float32)\\n'"
      ]
     },
     "execution_count": 59,
     "metadata": {},
     "output_type": "execute_result"
    }
   ],
   "source": [
    "\"\"\"\n",
    "# Standardizzazione\n",
    "mean = np.mean(x_train)\n",
    "sigma = np.std(x_train)\n",
    "\n",
    "x_train = ((x_train - mean) / sigma).astype(np.float32)\n",
    "x_test = ((x_test - mean) / sigma).astype(np.float32)\n",
    "\"\"\""
   ]
  },
  {
   "cell_type": "code",
   "execution_count": 3,
   "id": "078c8440-c65c-4743-84b4-c7e8fac5452d",
   "metadata": {},
   "outputs": [],
   "source": [
    "# Normaliz.\n",
    "x_train = (x_train / 255.).astype(np.float32) # 255. perché siamo in grayscale, i valori vanno da 0-255\n",
    "x_test = (x_test / 255.).astype(np.float32)\n",
    "\n",
    "x_train = np.pad(x_train, pad_width=((0, 0), (2, 2), (2, 2)))"
   ]
  },
  {
   "cell_type": "markdown",
   "id": "82c78022-9bbc-482a-8c79-c30fe60e281d",
   "metadata": {},
   "source": [
    "**Note**\n",
    "+ Standardizzazione: trasformare una variabile calcolandone dei valori \"standard\", per confronto più efficace con altre variabili\n",
    "+ Normalizzazione: rendere la distrib. di una var. più simile a quella della distrib. Normale\n",
    "[Link](https://paolapozzolo.it/variabile-standardizzata-una-guida-pratica/#:~:text=standardizzare%20significa%2C%20come%20abbiamo%20gi%C3%A0,a%20quella%20della%20distribuzione%20Normale.)"
   ]
  },
  {
   "cell_type": "code",
   "execution_count": 136,
   "id": "bef57032-a243-45bc-906a-58e68a19e573",
   "metadata": {
    "scrolled": true
   },
   "outputs": [
    {
     "data": {
      "text/plain": [
       "(1.0, 0.0)"
      ]
     },
     "execution_count": 136,
     "metadata": {},
     "output_type": "execute_result"
    }
   ],
   "source": [
    "# Test per capire cosa se la normalizzazione funziona (2 modi equivalenti)\n",
    "np.unique(x_train / 255.) # non in-place; sarebbe da fare prima della Normaliz.\n",
    "np.max(x_train), np.min(x_train)"
   ]
  },
  {
   "cell_type": "markdown",
   "id": "e0a895d4-6d22-495e-b10c-0074baa38bd2",
   "metadata": {},
   "source": [
    "## Copia del modello di \"segmentazione\" del notebook Lezione6"
   ]
  },
  {
   "cell_type": "code",
   "execution_count": 4,
   "id": "1122097a-1eba-4d87-accf-456d206738af",
   "metadata": {
    "scrolled": true
   },
   "outputs": [],
   "source": [
    "from keras import Sequential\n",
    "from keras.layers import Conv2D, Conv2DTranspose"
   ]
  },
  {
   "cell_type": "code",
   "execution_count": 5,
   "id": "5ffa8574-f971-41b7-9a68-52b4d29770a9",
   "metadata": {},
   "outputs": [],
   "source": [
    "# fully convolutional neural network (UNET)\n",
    "\n",
    "fcnn = Sequential(\n",
    "    [\n",
    "        Conv2D(filters=64, kernel_size=3, padding=\"same\", strides=2, activation=\"relu\"),\n",
    "        Conv2D(filters=64, kernel_size=3, padding=\"same\", activation=\"relu\"),\n",
    "        Conv2D(filters=128, kernel_size=3, padding=\"same\", strides=2, activation=\"relu\"),\n",
    "        Conv2D(filters=128, kernel_size=3, padding=\"same\", activation=\"relu\"),\n",
    "        Conv2D(filters=256, kernel_size=3, padding=\"same\", strides=2, activation=\"relu\"),\n",
    "        Conv2D(filters=256, kernel_size=3, padding=\"same\", activation=\"relu\"),\n",
    "\n",
    "        Conv2DTranspose(filters=256, kernel_size=3, padding=\"same\", activation=\"relu\"),\n",
    "        Conv2DTranspose(filters=256, kernel_size=3, padding=\"same\", strides=2, activation=\"relu\"),\n",
    "        Conv2DTranspose(filters=128, kernel_size=3, padding=\"same\", activation=\"relu\"),\n",
    "        Conv2DTranspose(filters=128, kernel_size=3, padding=\"same\", strides=2, activation=\"relu\"),\n",
    "        Conv2DTranspose(filters=64, kernel_size=3, padding=\"same\", activation=\"relu\"),\n",
    "        Conv2DTranspose(filters=64, kernel_size=3, padding=\"same\", strides=2, activation=\"relu\"),\n",
    "\n",
    "        Conv2D(filters=1, kernel_size=3, padding=\"same\")\n",
    "    ]\n",
    ")"
   ]
  },
  {
   "cell_type": "markdown",
   "id": "8b7ff4c8-55ed-49c9-b3a7-2a231e698f5d",
   "metadata": {},
   "source": [
    "Note sull'architettura FullyConv.\n",
    "https://www.andreaprovino.it/fcn e https://www.redhotcyber.com/rubriche/alla-scoperta-dellintelligenza-artificiale/"
   ]
  },
  {
   "cell_type": "code",
   "execution_count": 6,
   "id": "61e8cd97-3ef0-4dd6-b3cd-7e9d2644ae0f",
   "metadata": {
    "scrolled": true
   },
   "outputs": [],
   "source": [
    "fcnn.build(input_shape=[32, 32, 32, 1])"
   ]
  },
  {
   "cell_type": "code",
   "execution_count": 7,
   "id": "85572352-de5d-4f5f-afce-531b3a1326f5",
   "metadata": {},
   "outputs": [
    {
     "name": "stdout",
     "output_type": "stream",
     "text": [
      "Model: \"sequential\"\n",
      "_________________________________________________________________\n",
      " Layer (type)                Output Shape              Param #   \n",
      "=================================================================\n",
      " conv2d (Conv2D)             (32, 16, 16, 64)          640       \n",
      "                                                                 \n",
      " conv2d_1 (Conv2D)           (32, 16, 16, 64)          36928     \n",
      "                                                                 \n",
      " conv2d_2 (Conv2D)           (32, 8, 8, 128)           73856     \n",
      "                                                                 \n",
      " conv2d_3 (Conv2D)           (32, 8, 8, 128)           147584    \n",
      "                                                                 \n",
      " conv2d_4 (Conv2D)           (32, 4, 4, 256)           295168    \n",
      "                                                                 \n",
      " conv2d_5 (Conv2D)           (32, 4, 4, 256)           590080    \n",
      "                                                                 \n",
      " conv2d_transpose (Conv2DTra  (32, 4, 4, 256)          590080    \n",
      " nspose)                                                         \n",
      "                                                                 \n",
      " conv2d_transpose_1 (Conv2DT  (32, 8, 8, 256)          590080    \n",
      " ranspose)                                                       \n",
      "                                                                 \n",
      " conv2d_transpose_2 (Conv2DT  (32, 8, 8, 128)          295040    \n",
      " ranspose)                                                       \n",
      "                                                                 \n",
      " conv2d_transpose_3 (Conv2DT  (32, 16, 16, 128)        147584    \n",
      " ranspose)                                                       \n",
      "                                                                 \n",
      " conv2d_transpose_4 (Conv2DT  (32, 16, 16, 64)         73792     \n",
      " ranspose)                                                       \n",
      "                                                                 \n",
      " conv2d_transpose_5 (Conv2DT  (32, 32, 32, 64)         36928     \n",
      " ranspose)                                                       \n",
      "                                                                 \n",
      " conv2d_6 (Conv2D)           (32, 32, 32, 1)           577       \n",
      "                                                                 \n",
      "=================================================================\n",
      "Total params: 2,878,337\n",
      "Trainable params: 2,878,337\n",
      "Non-trainable params: 0\n",
      "_________________________________________________________________\n"
     ]
    }
   ],
   "source": [
    "fcnn.summary()"
   ]
  },
  {
   "cell_type": "markdown",
   "id": "996786ff-3265-4a73-b96e-f31e24f4cb57",
   "metadata": {},
   "source": [
    "## Add noise to image"
   ]
  },
  {
   "cell_type": "code",
   "execution_count": 8,
   "id": "dc3d31e8-1b05-4253-a03c-06f38b229252",
   "metadata": {},
   "outputs": [],
   "source": [
    "def add_noise(img, noise_amount):\n",
    "    # img è una image: heigth x width x channels. h x w x c\n",
    "    # noise_amount: un numero random tra 0 e 1. 0 nessun rumore, 1 tutto rumore. random in [0, 1]\n",
    "\n",
    "    # Gaussian Noise\n",
    "    gaussian_noise = tf.random.normal(shape = img.shape)\n",
    "    #noise_amount = tf.reshape(noise_amount, shape = [-1, 1, 1, 1]) serviva con batch di immagini\n",
    "    noise_imgs = noise_amount * gaussian_noise + (1-noise_amount)*img # media pesata di rumore e segnale\n",
    "\n",
    "    return noise_imgs"
   ]
  },
  {
   "cell_type": "code",
   "execution_count": 9,
   "id": "656e23eb-ed4f-464c-8623-93fc08beadf2",
   "metadata": {
    "scrolled": true
   },
   "outputs": [],
   "source": [
    "import matplotlib.pyplot as plt"
   ]
  },
  {
   "cell_type": "code",
   "execution_count": 10,
   "id": "dcbc2322-90a3-411d-8b0c-2ecefcf0a5e5",
   "metadata": {
    "scrolled": true
   },
   "outputs": [
    {
     "data": {
      "text/plain": [
       "<matplotlib.image.AxesImage at 0x7ff3a4482050>"
      ]
     },
     "execution_count": 10,
     "metadata": {},
     "output_type": "execute_result"
    },
    {
     "data": {
      "image/png": "[encoded data removed]",
      "text/plain": [
       "<Figure size 640x480 with 1 Axes>"
      ]
     },
     "metadata": {},
     "output_type": "display_data"
    }
   ],
   "source": [
    "plt.imshow(x_train[0], cmap=\"gray\")"
   ]
  },
  {
   "cell_type": "code",
   "execution_count": 11,
   "id": "29742ffd-50b3-44cd-b871-f97487f0b90f",
   "metadata": {},
   "outputs": [
    {
     "data": {
      "text/plain": [
       "<matplotlib.image.AxesImage at 0x7ff3a437a190>"
      ]
     },
     "execution_count": 11,
     "metadata": {},
     "output_type": "execute_result"
    },
    {
     "data": {
      "image/png": "[encoded data removed]",
      "text/plain": [
       "<Figure size 640x480 with 1 Axes>"
      ]
     },
     "metadata": {},
     "output_type": "display_data"
    }
   ],
   "source": [
    "plt.imshow(add_noise(x_train[0], 1), cmap=\"gray\")"
   ]
  },
  {
   "cell_type": "code",
   "execution_count": 12,
   "id": "6d221b60-e117-4b78-96ac-340f0abb3cac",
   "metadata": {},
   "outputs": [
    {
     "data": {
      "text/plain": [
       "<matplotlib.image.AxesImage at 0x7ff3a421a190>"
      ]
     },
     "execution_count": 12,
     "metadata": {},
     "output_type": "execute_result"
    },
    {
     "data": {
      "image/png": "[encoded data removed]",
      "text/plain": [
       "<Figure size 640x480 with 1 Axes>"
      ]
     },
     "metadata": {},
     "output_type": "display_data"
    }
   ],
   "source": [
    "plt.imshow(add_noise(x_train[0], 0.2), cmap=\"gray\")"
   ]
  },
  {
   "cell_type": "markdown",
   "id": "a654c5d0-4ee7-488a-80aa-4e1440282f7f",
   "metadata": {},
   "source": [
    "**Nota** La rete impara a fare denoising e quindi a generare immagini da rumore"
   ]
  },
  {
   "cell_type": "markdown",
   "id": "27bca1d9-1585-4426-8d9a-13a70f4b081d",
   "metadata": {},
   "source": [
    "## Costruzione Dataset\n",
    "+ Target: img originale\n",
    "+ Feature: img con rumore"
   ]
  },
  {
   "cell_type": "code",
   "execution_count": 13,
   "id": "66b393f3-e7c1-41f2-88dc-41c1bf742ba8",
   "metadata": {},
   "outputs": [],
   "source": [
    "from tensorflow.data import Dataset # per avere dei batch dal data_generator"
   ]
  },
  {
   "cell_type": "code",
   "execution_count": 14,
   "id": "d67ddd1e-a11a-4792-839b-0762657a00a4",
   "metadata": {},
   "outputs": [
    {
     "data": {
      "text/plain": [
       "(60000, 32, 32)"
      ]
     },
     "execution_count": 14,
     "metadata": {},
     "output_type": "execute_result"
    }
   ],
   "source": [
    "x_train.shape"
   ]
  },
  {
   "cell_type": "code",
   "execution_count": 15,
   "id": "1f26f923-7b8f-4367-b776-72eed0377da0",
   "metadata": {},
   "outputs": [],
   "source": [
    "# funzione per trasformare le imgs del mnist in imgs con noise, ritorna feature e target\n",
    "def data_generator(x_train):\n",
    "    for i in range(x_train.shape[0]): # per ogni immagine\n",
    "        img = x_train[i]\n",
    "        noise = tf.random.normal(shape=img.shape)\n",
    "        noise_amount = tf.random.uniform(shape=[], minval=0, maxval=1) # shape = shape del tensore in output (non ha shape perché è il coefficiente scalare del rumore!)\n",
    "        noise_img = noise_amount*noise + (1-noise_amount)*img\n",
    "\n",
    "        yield tf.expand_dims(noise_img, axis = -1), tf.expand_dims(img, axis = -1) # aggiunge una dimensione di len 1: il canale"
   ]
  },
  {
   "cell_type": "code",
   "execution_count": 16,
   "id": "3619d348-6216-49bf-ab74-c6eb11c1917f",
   "metadata": {},
   "outputs": [
    {
     "data": {
      "text/plain": [
       "TensorShape([])"
      ]
     },
     "execution_count": 16,
     "metadata": {},
     "output_type": "execute_result"
    }
   ],
   "source": [
    "# per capire shape = []\n",
    "noise_amount = tf.random.uniform(shape=[], minval=0, maxval=1)\n",
    "noise_amount.shape # non ha shape perché è il coefficiente scalare del rumore!"
   ]
  },
  {
   "cell_type": "code",
   "execution_count": null,
   "id": "443fae57-bd9a-4778-9565-28c0cb894ad1",
   "metadata": {
    "scrolled": true
   },
   "outputs": [],
   "source": [
    "next(iter(data_generator(x_train)))[0].shape\n",
    "#next(data_generator(x_train))[0].shape\n",
    "# Nota: data_generator restituisce già un oggetto generatore che è iterabile"
   ]
  },
  {
   "cell_type": "code",
   "execution_count": 16,
   "id": "bca62249-8d00-4f11-8dbb-318de21f5804",
   "metadata": {},
   "outputs": [],
   "source": [
    "dataset = Dataset.from_generator(\n",
    "    generator=lambda: data_generator(x_train),\n",
    "    output_signature=(\n",
    "        tf.TensorSpec(shape=[32,32, 1]), # come è fatto il valore che ritorna il generatore (h x w x c)\n",
    "        tf.TensorSpec(shape=[32,32, 1])\n",
    "    ) # 2 TensorSpec perché data_generator() ritorna due valori: feature e target\n",
    ")"
   ]
  },
  {
   "cell_type": "code",
   "execution_count": 17,
   "id": "da5e25d9-d025-477a-bdef-cb68d1d7e647",
   "metadata": {},
   "outputs": [],
   "source": [
    "dataset = dataset.shuffle(buffer_size=1_000).batch(128)"
   ]
  },
  {
   "cell_type": "markdown",
   "id": "89cc1164-0c1d-4fd6-a722-25f52a2dce40",
   "metadata": {},
   "source": [
    "## Training"
   ]
  },
  {
   "cell_type": "code",
   "execution_count": 18,
   "id": "16c61561-72da-4391-9638-73f547c64f2e",
   "metadata": {},
   "outputs": [],
   "source": [
    "from keras.optimizers import Adam\n",
    "from keras.losses import MeanSquaredError # è un compito di regressione, prevedere il valore di ogni pixel (in grayscale)\n",
    "from keras.metrics import MeanAbsoluteError"
   ]
  },
  {
   "cell_type": "code",
   "execution_count": 19,
   "id": "7faafdd5-741a-4f9f-9287-a76675dd0618",
   "metadata": {},
   "outputs": [],
   "source": [
    "fcnn.compile(\n",
    "    optimizer=Adam(),\n",
    "    loss=MeanSquaredError(),\n",
    "    metrics=MeanAbsoluteError()\n",
    ")"
   ]
  },
  {
   "cell_type": "code",
   "execution_count": 20,
   "id": "27217c6a-fc63-4b03-a06e-fcaaf27205cc",
   "metadata": {
    "scrolled": true
   },
   "outputs": [
    {
     "name": "stderr",
     "output_type": "stream",
     "text": [
      "2023-09-28 18:08:54.210836: I tensorflow/core/common_runtime/executor.cc:1197] [/device:CPU:0] (DEBUG INFO) Executor start aborting (this does not indicate an error and you can ignore this message): INVALID_ARGUMENT: You must feed a value for placeholder tensor 'Placeholder/_0' with dtype int32\n",
      "\t [[{{node Placeholder/_0}}]]\n",
      "2023-09-28 18:08:54.212144: I tensorflow/core/common_runtime/executor.cc:1197] [/device:CPU:0] (DEBUG INFO) Executor start aborting (this does not indicate an error and you can ignore this message): INVALID_ARGUMENT: You must feed a value for placeholder tensor 'Placeholder/_0' with dtype int32\n",
      "\t [[{{node Placeholder/_0}}]]\n"
     ]
    },
    {
     "name": "stdout",
     "output_type": "stream",
     "text": [
      "      1/Unknown - 77s 77s/step - loss: 0.0621 - mean_absolute_error: 0.0802"
     ]
    },
    {
     "name": "stderr",
     "output_type": "stream",
     "text": [
      "2023-09-28 18:10:11.160996: I tensorflow/core/kernels/data/shuffle_dataset_op.cc:392] Filling up shuffle buffer (this may take a while): 1 of 1000\n",
      "2023-09-28 18:10:11.185208: I tensorflow/core/kernels/data/shuffle_dataset_op.cc:417] Shuffle buffer filled.\n"
     ]
    },
    {
     "name": "stdout",
     "output_type": "stream",
     "text": [
      "1/1 [==============================] - 77s 77s/step - loss: 0.0621 - mean_absolute_error: 0.0802\n"
     ]
    },
    {
     "data": {
      "text/plain": [
       "<keras.callbacks.History at 0x7ff3a420f010>"
      ]
     },
     "execution_count": 20,
     "metadata": {},
     "output_type": "execute_result"
    }
   ],
   "source": [
    "fcnn.fit(x = dataset, initial_epoch=0, epochs = 1)"
   ]
  },
  {
   "cell_type": "markdown",
   "id": "6fb39c41-5b70-48d7-8ec0-b27f1290c349",
   "metadata": {},
   "source": [
    "---"
   ]
  },
  {
   "cell_type": "code",
   "execution_count": null,
   "id": "0d8b4f07-1520-4dc9-b3fc-3c98882f7627",
   "metadata": {},
   "outputs": [],
   "source": [
    "vedi file prof. x parte sotto"
   ]
  },
  {
   "cell_type": "code",
   "execution_count": 21,
   "id": "cd8eae45-a1d1-4042-b23f-32bdf247d31a",
   "metadata": {},
   "outputs": [
    {
     "data": {
      "text/plain": [
       "<matplotlib.image.AxesImage at 0x7ff3a4352050>"
      ]
     },
     "execution_count": 21,
     "metadata": {},
     "output_type": "execute_result"
    },
    {
     "data": {
      "image/png": "[encoded data removed]",
      "text/plain": [
       "<Figure size 640x480 with 1 Axes>"
      ]
     },
     "metadata": {},
     "output_type": "display_data"
    }
   ],
   "source": [
    "plt.imshow(x_train[5], cmap=\"gray\")"
   ]
  },
  {
   "cell_type": "code",
   "execution_count": 22,
   "id": "21dbe0ef-74e8-4736-9555-f1ba79924835",
   "metadata": {},
   "outputs": [
    {
     "data": {
      "text/plain": [
       "<matplotlib.image.AxesImage at 0x7ff331626350>"
      ]
     },
     "execution_count": 22,
     "metadata": {},
     "output_type": "execute_result"
    },
    {
     "data": {
      "image/png": "[encoded data removed]",
      "text/plain": [
       "<Figure size 640x480 with 1 Axes>"
      ]
     },
     "metadata": {},
     "output_type": "display_data"
    }
   ],
   "source": [
    "plt.imshow(add_noise(x_train[5], 1.), cmap=\"gray\")"
   ]
  },
  {
   "cell_type": "code",
   "execution_count": 23,
   "id": "8309dfb6-13c1-4825-b23e-1539a60832e9",
   "metadata": {
    "scrolled": true
   },
   "outputs": [],
   "source": [
    "pred = fcnn(add_noise(x_train[4], 1.)[None, :, :, None])"
   ]
  },
  {
   "cell_type": "code",
   "execution_count": 24,
   "id": "a600b782-74e4-48ff-b5ef-91218535ba8c",
   "metadata": {},
   "outputs": [
    {
     "data": {
      "text/plain": [
       "TensorShape([1, 32, 32, 1])"
      ]
     },
     "execution_count": 24,
     "metadata": {},
     "output_type": "execute_result"
    }
   ],
   "source": [
    "pred.shape"
   ]
  },
  {
   "cell_type": "code",
   "execution_count": 25,
   "id": "169963aa-506e-4418-bbbc-170ef896710f",
   "metadata": {},
   "outputs": [
    {
     "data": {
      "text/plain": [
       "<matplotlib.image.AxesImage at 0x7ff3a41d0d50>"
      ]
     },
     "execution_count": 25,
     "metadata": {},
     "output_type": "execute_result"
    },
    {
     "data": {
      "image/png": "[encoded data removed]",
      "text/plain": [
       "<Figure size 640x480 with 1 Axes>"
      ]
     },
     "metadata": {},
     "output_type": "display_data"
    }
   ],
   "source": [
    "plt.imshow(pred.numpy().reshape(32, 32), cmap=\"gray\")"
   ]
  },
  {
   "cell_type": "code",
   "execution_count": 26,
   "id": "fc015383-7ee3-4f80-b5e6-2183d78fb3c8",
   "metadata": {
    "scrolled": true
   },
   "outputs": [],
   "source": [
    "#\n",
    "nsteps = 20\n",
    "x = tf.random.normal([1, 32, 32, 1])\n",
    "\n",
    "for i in range(nsteps):\n",
    "    y = fcnn(x)\n",
    "    retention_factor = 1 / (nsteps-i)\n",
    "    x = y*retention_factor + tf.random.normal([1, 32, 32, 1])*(1-retention_factor)"
   ]
  },
  {
   "cell_type": "code",
   "execution_count": 27,
   "id": "be574e62-d023-45ec-b002-8c6245a4d0a0",
   "metadata": {},
   "outputs": [
    {
     "data": {
      "text/plain": [
       "<matplotlib.image.AxesImage at 0x7ff3315089d0>"
      ]
     },
     "execution_count": 27,
     "metadata": {},
     "output_type": "execute_result"
    },
    {
     "data": {
      "image/png": "[encoded data removed]",
      "text/plain": [
       "<Figure size 640x480 with 1 Axes>"
      ]
     },
     "metadata": {},
     "output_type": "display_data"
    }
   ],
   "source": [
    "plt.imshow(np.clip(x.numpy(),0,1).reshape([32,32]), cmap=\"gray\")"
   ]
  },
  {
   "cell_type": "code",
   "execution_count": null,
   "id": "480c2710-a7e3-4d65-bd94-b3712d3d0d32",
   "metadata": {},
   "outputs": [],
   "source": []
  },
  {
   "cell_type": "code",
   "execution_count": null,
   "id": "d2cc6fb1-f6a5-4ce4-aa98-1a06d3dc310c",
   "metadata": {},
   "outputs": [],
   "source": []
  }
 ],
 "metadata": {
  "kernelspec": {
   "display_name": "MachineLearning",
   "language": "python",
   "name": "machinelearning"
  },
  "language_info": {
   "codemirror_mode": {
    "name": "ipython",
    "version": 3
   },
   "file_extension": ".py",
   "mimetype": "text/x-python",
   "name": "python",
   "nbconvert_exporter": "python",
   "pygments_lexer": "ipython3",
   "version": "3.11.5"
  }
 },
 "nbformat": 4,
 "nbformat_minor": 5
}
