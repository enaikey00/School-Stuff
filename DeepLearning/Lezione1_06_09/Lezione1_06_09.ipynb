{
 "cells": [
  {
   "cell_type": "markdown",
   "id": "063d2245-db1a-4587-a034-4011db766153",
   "metadata": {},
   "source": [
    "## Reti Neurali"
   ]
  },
  {
   "cell_type": "code",
   "execution_count": null,
   "id": "bab0cd5a-2a33-4f40-a7bb-c4b46d832002",
   "metadata": {
    "tags": []
   },
   "outputs": [],
   "source": [
    "# vedi appunti:\n",
    "\n",
    "* Neurone Computazionale\n",
    "* MLP\n",
    "* Dense Layers e Hidden Layers\n",
    "* Ultimo strato, funzione di Loss, Backpropagation"
   ]
  },
  {
   "cell_type": "markdown",
   "id": "81e7d433-a2bd-4f31-ad8f-cb5ce74a6b51",
   "metadata": {},
   "source": [
    "### TensorFlow low level"
   ]
  },
  {
   "cell_type": "markdown",
   "id": "19e175c5-e47e-4c31-87c1-091b2c76e1d9",
   "metadata": {},
   "source": [
    "* Learn [Learn](https://www.tensorflow.org/overview?hl=it) -> Guide teoriche e Tutorial pratici\n",
    "* API [API](https://www.tensorflow.org/api/stable?hl=it)"
   ]
  },
  {
   "cell_type": "code",
   "execution_count": null,
   "id": "c6bfd1d7-144e-42ef-b67f-43042073e214",
   "metadata": {},
   "outputs": [],
   "source": [
    "Framework di DeepLearning\n",
    "\n",
    "Alla base è un sistema di calcolo tensoriale. con supporto per GPU e differenziazione automatica (backprop., derivate)\n",
    "Tensore = array multi-dimensionale (come numpy)"
   ]
  },
  {
   "cell_type": "code",
   "execution_count": 6,
   "id": "a01fc01b-cf9d-46e4-8a65-6aff8967b38c",
   "metadata": {
    "tags": []
   },
   "outputs": [
    {
     "name": "stderr",
     "output_type": "stream",
     "text": [
      "2023-09-06 14:33:35.586252: I tensorflow/tsl/cuda/cudart_stub.cc:28] Could not find cuda drivers on your machine, GPU will not be used.\n",
      "2023-09-06 14:33:35.721258: I tensorflow/tsl/cuda/cudart_stub.cc:28] Could not find cuda drivers on your machine, GPU will not be used.\n",
      "2023-09-06 14:33:35.723250: I tensorflow/core/platform/cpu_feature_guard.cc:182] This TensorFlow binary is optimized to use available CPU instructions in performance-critical operations.\n",
      "To enable the following instructions: AVX2 FMA, in other operations, rebuild TensorFlow with the appropriate compiler flags.\n",
      "2023-09-06 14:33:37.715730: W tensorflow/compiler/tf2tensorrt/utils/py_utils.cc:38] TF-TRT Warning: Could not find TensorRT\n"
     ]
    }
   ],
   "source": [
    "import tensorflow as tf"
   ]
  },
  {
   "cell_type": "code",
   "execution_count": 7,
   "id": "5ac9ea1c-9235-4f31-87cd-913e2b4f7f62",
   "metadata": {
    "tags": []
   },
   "outputs": [],
   "source": [
    "t = tf.constant([ [1,2,3], [4,5,6] ], dtype = tf.float32)"
   ]
  },
  {
   "cell_type": "code",
   "execution_count": 8,
   "id": "1c3414c7-c380-43f5-9773-35cc4ab5c750",
   "metadata": {
    "tags": []
   },
   "outputs": [
    {
     "data": {
      "text/plain": [
       "<tf.Tensor: shape=(2, 3), dtype=float32, numpy=\n",
       "array([[1., 2., 3.],\n",
       "       [4., 5., 6.]], dtype=float32)>"
      ]
     },
     "execution_count": 8,
     "metadata": {},
     "output_type": "execute_result"
    }
   ],
   "source": [
    "t"
   ]
  },
  {
   "cell_type": "code",
   "execution_count": 9,
   "id": "10f8ba81-c761-448e-9ef9-9ed47393c97d",
   "metadata": {
    "tags": []
   },
   "outputs": [
    {
     "data": {
      "text/plain": [
       "2"
      ]
     },
     "execution_count": 9,
     "metadata": {},
     "output_type": "execute_result"
    }
   ],
   "source": [
    "t.ndim"
   ]
  },
  {
   "cell_type": "code",
   "execution_count": 10,
   "id": "68bf5a6f-df30-417a-839e-4d7f83b9a3e8",
   "metadata": {
    "tags": []
   },
   "outputs": [
    {
     "data": {
      "text/plain": [
       "TensorShape([2, 3])"
      ]
     },
     "execution_count": 10,
     "metadata": {},
     "output_type": "execute_result"
    }
   ],
   "source": [
    "t.shape"
   ]
  },
  {
   "cell_type": "code",
   "execution_count": 16,
   "id": "f468e84a-a675-405d-8efd-02ba404487fd",
   "metadata": {
    "tags": []
   },
   "outputs": [
    {
     "data": {
      "text/plain": [
       "<tf.Tensor: shape=(2, 1), dtype=float32, numpy=\n",
       "array([[ 6.],\n",
       "       [15.]], dtype=float32)>"
      ]
     },
     "execution_count": 16,
     "metadata": {},
     "output_type": "execute_result"
    }
   ],
   "source": [
    "tf.reduce_sum(t, axis=1) # somma tutti gli elementi di una riga (contrae le colonne, scorre le righe)\n",
    "tf.reduce_sum(t, axis=1, keepdims = True)"
   ]
  },
  {
   "cell_type": "code",
   "execution_count": 12,
   "id": "b25c67db-2118-45b3-8d5a-9feabf5399c6",
   "metadata": {
    "tags": []
   },
   "outputs": [
    {
     "data": {
      "text/plain": [
       "<tf.Tensor: shape=(2, 4), dtype=float32, numpy=\n",
       "array([[ 38.,  44.,  50.,  56.],\n",
       "       [ 83.,  98., 113., 128.]], dtype=float32)>"
      ]
     },
     "execution_count": 12,
     "metadata": {},
     "output_type": "execute_result"
    }
   ],
   "source": [
    "t2 = tf.constant([ [1,2,3,4], [5,6,7,8], [9,10,11,12] ], dtype = tf.float32)\n",
    "\n",
    "# moltiplicazione matriciale\n",
    "t @ t2"
   ]
  },
  {
   "cell_type": "code",
   "execution_count": 17,
   "id": "29b949e5-8e24-4f0c-86a8-80a3229d4d2a",
   "metadata": {
    "tags": []
   },
   "outputs": [],
   "source": [
    "# I tensori in Tensorflow sono immutabili"
   ]
  },
  {
   "cell_type": "code",
   "execution_count": 18,
   "id": "673b8030-c317-40f8-a512-0be87f1dacc7",
   "metadata": {
    "tags": []
   },
   "outputs": [
    {
     "data": {
      "text/plain": [
       "<tf.Tensor: shape=(2, 3), dtype=float32, numpy=\n",
       "array([[1., 2., 3.],\n",
       "       [4., 5., 6.]], dtype=float32)>"
      ]
     },
     "execution_count": 18,
     "metadata": {},
     "output_type": "execute_result"
    }
   ],
   "source": [
    "t"
   ]
  },
  {
   "cell_type": "code",
   "execution_count": 14,
   "id": "6b50b865-b7ad-456f-9351-66e017173e95",
   "metadata": {
    "tags": []
   },
   "outputs": [
    {
     "data": {
      "text/plain": [
       "<tf.Tensor: shape=(), dtype=float32, numpy=1.0>"
      ]
     },
     "execution_count": 14,
     "metadata": {},
     "output_type": "execute_result"
    }
   ],
   "source": [
    "t[0,0] # da 1"
   ]
  },
  {
   "cell_type": "code",
   "execution_count": 15,
   "id": "f37ac5e0-bd0b-4828-966d-cdc059139599",
   "metadata": {
    "tags": []
   },
   "outputs": [
    {
     "ename": "TypeError",
     "evalue": "'tensorflow.python.framework.ops.EagerTensor' object does not support item assignment",
     "output_type": "error",
     "traceback": [
      "\u001b[0;31m---------------------------------------------------------------------------\u001b[0m",
      "\u001b[0;31mTypeError\u001b[0m                                 Traceback (most recent call last)",
      "Cell \u001b[0;32mIn[15], line 1\u001b[0m\n\u001b[0;32m----> 1\u001b[0m \u001b[43mt\u001b[49m\u001b[43m[\u001b[49m\u001b[38;5;241;43m0\u001b[39;49m\u001b[43m,\u001b[49m\u001b[38;5;241;43m0\u001b[39;49m\u001b[43m]\u001b[49m \u001b[38;5;241m=\u001b[39m \u001b[38;5;241m10.\u001b[39m\n",
      "\u001b[0;31mTypeError\u001b[0m: 'tensorflow.python.framework.ops.EagerTensor' object does not support item assignment"
     ]
    }
   ],
   "source": [
    "t[0,0] = 10."
   ]
  },
  {
   "cell_type": "code",
   "execution_count": 19,
   "id": "f2936853-56b5-4b96-afbe-2d40c177b643",
   "metadata": {
    "tags": []
   },
   "outputs": [],
   "source": [
    "# Spesso servono tensori variabili (esempio: aggiornare i pesi della rete)"
   ]
  },
  {
   "cell_type": "markdown",
   "id": "012699bb-50ad-402f-ac45-335bfe7a0540",
   "metadata": {},
   "source": [
    "#### Variable"
   ]
  },
  {
   "cell_type": "code",
   "execution_count": 20,
   "id": "38e85149-fd09-4fb2-84e3-bd19ec076d75",
   "metadata": {
    "tags": []
   },
   "outputs": [],
   "source": [
    "# è una classe di Tensorflow\n",
    "# un tensore variabile (mutabile)"
   ]
  },
  {
   "cell_type": "code",
   "execution_count": 33,
   "id": "08218a57-ca28-45fd-b0a0-c8d582b2dce9",
   "metadata": {
    "tags": []
   },
   "outputs": [],
   "source": [
    "v = tf.Variable(\n",
    "    initial_value = tf.random.normal(shape=[4,3] ),\n",
    "    trainable = False,\n",
    "    name = \"first_variable\",\n",
    "    dtype = tf.float32 # tipo dato default per reti neurali\n",
    ")"
   ]
  },
  {
   "cell_type": "code",
   "execution_count": 34,
   "id": "567e9c54-f3a4-420f-ab0f-50da03d5f5d7",
   "metadata": {
    "tags": []
   },
   "outputs": [
    {
     "data": {
      "text/plain": [
       "<tf.Variable 'first_variable:0' shape=(4, 3) dtype=float32, numpy=\n",
       "array([[-0.7065976 , -1.5376754 ,  0.94975543],\n",
       "       [-1.0966917 , -0.11829919, -0.14353551],\n",
       "       [-0.87653923,  0.20363085,  0.6083483 ],\n",
       "       [ 0.7661842 ,  0.646863  ,  0.5518405 ]], dtype=float32)>"
      ]
     },
     "execution_count": 34,
     "metadata": {},
     "output_type": "execute_result"
    }
   ],
   "source": [
    "v"
   ]
  },
  {
   "cell_type": "code",
   "execution_count": 25,
   "id": "82626862-8595-4d0c-b9be-31c25d5e8af5",
   "metadata": {
    "tags": []
   },
   "outputs": [
    {
     "ename": "TypeError",
     "evalue": "'ResourceVariable' object does not support item assignment",
     "output_type": "error",
     "traceback": [
      "\u001b[0;31m---------------------------------------------------------------------------\u001b[0m",
      "\u001b[0;31mTypeError\u001b[0m                                 Traceback (most recent call last)",
      "Cell \u001b[0;32mIn[25], line 1\u001b[0m\n\u001b[0;32m----> 1\u001b[0m \u001b[43mv\u001b[49m\u001b[43m[\u001b[49m\u001b[38;5;241;43m0\u001b[39;49m\u001b[43m,\u001b[49m\u001b[38;5;241;43m0\u001b[39;49m\u001b[43m]\u001b[49m \u001b[38;5;241m=\u001b[39m \u001b[38;5;241m10\u001b[39m\n",
      "\u001b[0;31mTypeError\u001b[0m: 'ResourceVariable' object does not support item assignment"
     ]
    }
   ],
   "source": [
    "v[0,0] = 10"
   ]
  },
  {
   "cell_type": "code",
   "execution_count": 26,
   "id": "eb4cc155-a24f-4d5d-923e-857436f23001",
   "metadata": {
    "tags": []
   },
   "outputs": [
    {
     "data": {
      "text/plain": [
       "<tf.Variable 'UnreadVariable' shape=(4, 3) dtype=float32, numpy=\n",
       "array([[10.        ,  1.3455504 ,  1.3578007 ],\n",
       "       [-1.078928  , -1.0902408 , -0.7925    ],\n",
       "       [-0.80286807, -0.31808496, -0.6098337 ],\n",
       "       [ 0.07811438,  0.08330531, -1.3281335 ]], dtype=float32)>"
      ]
     },
     "execution_count": 26,
     "metadata": {},
     "output_type": "execute_result"
    }
   ],
   "source": [
    "# assegnamento possibile con metodo assign()\n",
    "\n",
    "v[0,0].assign(10)"
   ]
  },
  {
   "cell_type": "code",
   "execution_count": null,
   "id": "42cb0ad9-e3e8-4d2b-9705-72922b956adf",
   "metadata": {},
   "outputs": [],
   "source": [
    "# si può assegnare un tensore intero, a patto che sia di shape uguale\n",
    "# ex.\n",
    "v.assign(tf.zeros([4,3])"
   ]
  },
  {
   "cell_type": "code",
   "execution_count": 28,
   "id": "2fc7bd6b-177f-4191-8fe3-0d2884f0e3fe",
   "metadata": {
    "tags": []
   },
   "outputs": [
    {
     "data": {
      "text/plain": [
       "<tf.Variable 'UnreadVariable' shape=(4, 3) dtype=float32, numpy=\n",
       "array([[ 0.28143024,  2.143398  ,  1.3889078 ],\n",
       "       [ 2.3671417 , -1.4031887 , -0.6785606 ],\n",
       "       [-1.543604  ,  0.75781226, -0.27433425],\n",
       "       [ 0.18136787, -0.92337704, -0.80683273]], dtype=float32)>"
      ]
     },
     "execution_count": 28,
     "metadata": {},
     "output_type": "execute_result"
    }
   ],
   "source": [
    "# shortcut\n",
    "v.assign_add( tf.random.normal([4,3]) )"
   ]
  },
  {
   "cell_type": "markdown",
   "id": "25dd9495-4d90-4297-a1bd-fa5613dbc6a3",
   "metadata": {},
   "source": [
    "#### Differenziazione Automatica"
   ]
  },
  {
   "cell_type": "code",
   "execution_count": 29,
   "id": "8a0b4c5f-9d84-4253-83b3-08af5472a849",
   "metadata": {
    "tags": []
   },
   "outputs": [],
   "source": [
    "# autodiff e back-propagation sono la stessa cosa"
   ]
  },
  {
   "cell_type": "code",
   "execution_count": 45,
   "id": "3b727d6c-13dd-46e8-a81c-97054a02344b",
   "metadata": {
    "tags": []
   },
   "outputs": [],
   "source": [
    "m1 = tf.Variable(\n",
    "    initial_value = tf.random.normal(shape=[4,3] ),\n",
    "    trainable = True,\n",
    "    dtype = tf.float32\n",
    ")"
   ]
  },
  {
   "cell_type": "code",
   "execution_count": 46,
   "id": "12756f93-cd76-4251-8a7c-9ae2474f0a36",
   "metadata": {
    "tags": []
   },
   "outputs": [],
   "source": [
    "m2 = tf.Variable(\n",
    "    initial_value = tf.random.normal(shape=[3,2] ),\n",
    "    trainable = True,\n",
    "    dtype = tf.float32\n",
    ")"
   ]
  },
  {
   "cell_type": "code",
   "execution_count": 47,
   "id": "13bf30e2-f232-4240-aa6c-7b41d5b01e31",
   "metadata": {
    "tags": []
   },
   "outputs": [
    {
     "data": {
      "text/plain": [
       "<tf.Tensor: shape=(), dtype=float32, numpy=-1.0577149>"
      ]
     },
     "execution_count": 47,
     "metadata": {},
     "output_type": "execute_result"
    }
   ],
   "source": [
    "tf.reduce_sum(m1 @ m2)"
   ]
  },
  {
   "cell_type": "code",
   "execution_count": 53,
   "id": "b1a1fe12-dcfa-411e-8f47-75c8964b01da",
   "metadata": {
    "tags": []
   },
   "outputs": [],
   "source": [
    "t = tf.Variable(initial_value = [1.,2,3], trainable = True)\n",
    "#z = tf.reduce_sum(t)\n",
    "\n",
    "# x_1 = 1, x_2 = 2, x_3 = 3\n",
    "# derivata di z = x1 + x2 + x3  in x1\n",
    "# (dz_dt0, dz_dt1, dz_dt2)\n",
    "\n",
    "with tf.GradientTape() as tape: # accendo il registratore, \n",
    "    # tensorflow si costruisce il grafo computazionale (tutte le operazioni che faccio), per fare le derivate lo deve ripercorrere al contrario\n",
    "    z = tf.reduce_sum(t)\n",
    "    # t è una variabile soggetto a Gradient Descent (deve essere trainable = True)"
   ]
  },
  {
   "cell_type": "code",
   "execution_count": 54,
   "id": "d5c05cd4-e342-4745-895a-775b2c3b0eac",
   "metadata": {
    "tags": []
   },
   "outputs": [],
   "source": [
    "[dt] = tape.gradient(z, [t]) # calcola le derivate parz. di z rispetto a tutte le componenti di t (matrice dei pesi)"
   ]
  },
  {
   "cell_type": "code",
   "execution_count": 55,
   "id": "6f3745d6-161b-48c4-9cdd-555cc540f860",
   "metadata": {
    "tags": []
   },
   "outputs": [
    {
     "data": {
      "text/plain": [
       "<tf.Tensor: shape=(3,), dtype=float32, numpy=array([1., 1., 1.], dtype=float32)>"
      ]
     },
     "execution_count": 55,
     "metadata": {},
     "output_type": "execute_result"
    }
   ],
   "source": [
    "dt"
   ]
  },
  {
   "cell_type": "code",
   "execution_count": null,
   "id": "b20501bd-7a19-4894-b1ac-fe80a45e443e",
   "metadata": {},
   "outputs": [],
   "source": [
    "# assegnamento [dt]\n",
    "[a, b, c] = [1, 2, 3] # unpacking di variabili (così con la lista)\n",
    "a, b, c = [1, 2, 3] # così come tupla"
   ]
  },
  {
   "cell_type": "code",
   "execution_count": 56,
   "id": "48f0dfe4-e200-48e4-8961-1f1232beb6f9",
   "metadata": {
    "tags": []
   },
   "outputs": [],
   "source": [
    "# Altro esempio\n",
    "\n",
    "t1 = tf.Variable(initial_value = [1.,2,3], trainable = True)\n",
    "t2 = tf.Variable(initial_value = [4.,5,6], trainable = True)"
   ]
  },
  {
   "cell_type": "code",
   "execution_count": 67,
   "id": "70cd37fa-1dc6-40f6-826b-bfeae67fe8de",
   "metadata": {
    "tags": []
   },
   "outputs": [],
   "source": [
    "with tf.GradientTape() as tape:\n",
    "    z = tf.reduce_sum(t1*t2) # moltiplicazione scalare"
   ]
  },
  {
   "cell_type": "code",
   "execution_count": 58,
   "id": "64fd0e31-4f33-4b58-b5ca-a8eaa1324c5b",
   "metadata": {
    "tags": []
   },
   "outputs": [],
   "source": [
    "# vedi appunti per le der parziali"
   ]
  },
  {
   "cell_type": "code",
   "execution_count": 59,
   "id": "d00408d8-c5b4-4a07-b81d-d53ab88279e1",
   "metadata": {
    "tags": []
   },
   "outputs": [],
   "source": [
    "dt1, dt2 = tape.gradient(z, [t1,t2])"
   ]
  },
  {
   "cell_type": "code",
   "execution_count": 60,
   "id": "8f39c201-ba6b-4e86-b2a1-36119e9f8682",
   "metadata": {
    "tags": []
   },
   "outputs": [
    {
     "data": {
      "text/plain": [
       "(<tf.Variable 'Variable:0' shape=(3,) dtype=float32, numpy=array([1., 2., 3.], dtype=float32)>,\n",
       " <tf.Variable 'Variable:0' shape=(3,) dtype=float32, numpy=array([4., 5., 6.], dtype=float32)>)"
      ]
     },
     "execution_count": 60,
     "metadata": {},
     "output_type": "execute_result"
    }
   ],
   "source": [
    "t1,t2"
   ]
  },
  {
   "cell_type": "code",
   "execution_count": 61,
   "id": "3adc2c0a-a188-4e26-b9a5-b1c9e2657b31",
   "metadata": {
    "tags": []
   },
   "outputs": [
    {
     "data": {
      "text/plain": [
       "(<tf.Tensor: shape=(3,), dtype=float32, numpy=array([4., 5., 6.], dtype=float32)>,\n",
       " <tf.Tensor: shape=(3,), dtype=float32, numpy=array([1., 2., 3.], dtype=float32)>)"
      ]
     },
     "execution_count": 61,
     "metadata": {},
     "output_type": "execute_result"
    }
   ],
   "source": [
    "dt1, dt2"
   ]
  },
  {
   "cell_type": "markdown",
   "id": "75e92d49-c4dd-4b10-8f2f-f60454b1a880",
   "metadata": {},
   "source": [
    "#### Prima Rete neurale con TF low Level"
   ]
  },
  {
   "cell_type": "code",
   "execution_count": 88,
   "id": "eb19048d-d47d-4aac-99ec-9bf7391e26b8",
   "metadata": {
    "tags": []
   },
   "outputs": [],
   "source": [
    "from keras.datasets.mnist import load_data # immagini di cifre scritte a mano"
   ]
  },
  {
   "cell_type": "code",
   "execution_count": 89,
   "id": "1c866dea-dcb8-460e-bbd3-224e4d354460",
   "metadata": {
    "tags": []
   },
   "outputs": [],
   "source": [
    "(x_train, y_train), (x_test, y_test) = load_data()"
   ]
  },
  {
   "cell_type": "code",
   "execution_count": 90,
   "id": "d9cb41c2-3c38-45d5-b546-eb1d4cc7f806",
   "metadata": {
    "tags": []
   },
   "outputs": [
    {
     "data": {
      "text/plain": [
       "(60000, 28, 28)"
      ]
     },
     "execution_count": 90,
     "metadata": {},
     "output_type": "execute_result"
    }
   ],
   "source": [
    "x_train.shape"
   ]
  },
  {
   "cell_type": "code",
   "execution_count": 91,
   "id": "edfd5cce-8be1-4fe0-9f7e-a547ab4e6aee",
   "metadata": {
    "tags": []
   },
   "outputs": [],
   "source": [
    "x_train = x_train / 255.\n",
    "x_test = x_test / 255."
   ]
  },
  {
   "cell_type": "code",
   "execution_count": 92,
   "id": "3ce402c3-13ea-4944-af70-e3b05e8983ae",
   "metadata": {
    "tags": []
   },
   "outputs": [],
   "source": [
    "import numpy as np\n",
    "y_train = y_train.astype(np.int32)\n",
    "y_test = y_train.astype(np.int32)"
   ]
  },
  {
   "cell_type": "code",
   "execution_count": 93,
   "id": "c0044cb8-425a-42ea-a256-322b63b855cb",
   "metadata": {
    "tags": []
   },
   "outputs": [],
   "source": [
    "# Rete Neurale, vedi schema su appunti"
   ]
  },
  {
   "cell_type": "code",
   "execution_count": 94,
   "id": "11f33e28-226e-4e44-bc11-734448672b4d",
   "metadata": {
    "tags": []
   },
   "outputs": [],
   "source": [
    "# matrici dei pesi e dei bias dei tre stati:"
   ]
  },
  {
   "cell_type": "code",
   "execution_count": 95,
   "id": "e4913b3c-ed69-4384-91e3-c0159148101e",
   "metadata": {
    "tags": []
   },
   "outputs": [],
   "source": [
    "W1 = tf.Variable(\n",
    "    initial_value = tf.random.normal( shape = [784, 100], stddev=1/28.), # std = 1/28. poi vedremo perché\n",
    "    dtype = tf.float32,\n",
    "    trainable = True\n",
    ")\n",
    "\n",
    "b1 = tf.Variable(\n",
    "    initial_value = tf.zeros( shape = [1, 100]), # std = 1/28. poi vedremo perché\n",
    "    dtype = tf.float32,\n",
    "    trainable = True\n",
    ")"
   ]
  },
  {
   "cell_type": "code",
   "execution_count": 96,
   "id": "95024b4c-292f-4a8b-8e14-380534a1e9b4",
   "metadata": {
    "tags": []
   },
   "outputs": [],
   "source": [
    "W2 = tf.Variable(\n",
    "    initial_value = tf.random.normal( shape = [100, 100], stddev=1/10.),\n",
    "    dtype = tf.float32,\n",
    "    trainable = True\n",
    ")\n",
    "\n",
    "b2 = tf.Variable(\n",
    "    initial_value = tf.zeros( shape = [1, 100]), \n",
    "    dtype = tf.float32,\n",
    "    trainable = True\n",
    ")"
   ]
  },
  {
   "cell_type": "code",
   "execution_count": 97,
   "id": "c8e39e80-4c3a-4dd8-8a82-68f30fd9283a",
   "metadata": {
    "tags": []
   },
   "outputs": [],
   "source": [
    "W3 = tf.Variable(\n",
    "    initial_value = tf.random.normal( shape = [100, 10], stddev=1/10.),\n",
    "    dtype = tf.float32,\n",
    "    trainable = True\n",
    ")\n",
    "\n",
    "b3 = tf.Variable(\n",
    "    initial_value = tf.zeros( shape = [1, 10]),\n",
    "    dtype = tf.float32,\n",
    "    trainable = True\n",
    ")"
   ]
  },
  {
   "cell_type": "code",
   "execution_count": 98,
   "id": "19410d4b-4925-4d69-becc-29904cdf8b03",
   "metadata": {
    "tags": []
   },
   "outputs": [],
   "source": [
    "# Addestramento"
   ]
  },
  {
   "cell_type": "code",
   "execution_count": 99,
   "id": "33d160d1-a1b0-4a18-8ad5-63d1f13ecc7b",
   "metadata": {
    "tags": []
   },
   "outputs": [],
   "source": [
    "def sigmoid(t): # tensore\n",
    "    return 1 / (1+tf.exp(-t) )"
   ]
  },
  {
   "cell_type": "code",
   "execution_count": 100,
   "id": "ce0e1da5-9a60-4cb8-9929-aac4b6bd2621",
   "metadata": {
    "tags": []
   },
   "outputs": [],
   "source": [
    "from tensorflow.nn import sparse_softmax_cross_entropy_with_logits # with logits, ovvero non normalizzati con softmax, perché vogliamo valori di output\n",
    "# logits: valori pre-softmax da dare alla cross_entropy"
   ]
  },
  {
   "cell_type": "code",
   "execution_count": 110,
   "id": "07aefaa4-03ee-4eff-ac64-532f54287e61",
   "metadata": {
    "collapsed": true,
    "jupyter": {
     "outputs_hidden": true
    },
    "tags": []
   },
   "outputs": [
    {
     "name": "stdout",
     "output_type": "stream",
     "text": [
      "2.172252\n",
      "2.175473\n",
      "2.176545\n",
      "2.181152\n",
      "2.1749892\n",
      "2.1773076\n",
      "2.1760516\n",
      "2.173449\n",
      "2.1733613\n",
      "2.1693065\n",
      "2.1652207\n",
      "2.1626873\n",
      "2.168643\n",
      "2.1654878\n",
      "2.1621542\n",
      "2.168801\n",
      "2.1612432\n",
      "2.1605735\n",
      "2.1615038\n",
      "2.1546383\n",
      "2.1515582\n",
      "2.1523888\n",
      "2.1557395\n",
      "2.1518962\n",
      "2.1545022\n",
      "2.148688\n",
      "2.1515694\n",
      "2.1470008\n",
      "2.141915\n",
      "2.13881\n",
      "2.1376352\n",
      "2.1452968\n",
      "2.1383088\n",
      "2.137865\n",
      "2.1401553\n",
      "2.1348345\n",
      "2.1355758\n",
      "2.1309528\n",
      "2.1253314\n",
      "2.1234074\n",
      "2.1274633\n",
      "2.125624\n",
      "2.1219604\n",
      "2.1279104\n",
      "2.119832\n",
      "2.1210628\n",
      "2.1196904\n",
      "2.1088152\n",
      "2.1076498\n",
      "2.1096635\n",
      "2.112772\n",
      "2.107276\n",
      "2.1126418\n",
      "2.103633\n",
      "2.106623\n",
      "2.102639\n",
      "2.097545\n",
      "2.0911393\n",
      "2.0875742\n",
      "2.0983405\n",
      "2.0919516\n",
      "2.0885992\n",
      "2.093794\n",
      "2.0865285\n",
      "2.0845635\n",
      "2.0840254\n",
      "2.0752008\n",
      "2.0717504\n",
      "2.075466\n",
      "2.0753188\n",
      "2.0721807\n",
      "2.0738351\n",
      "2.0663717\n",
      "2.0711703\n",
      "2.0639777\n",
      "2.0560124\n",
      "2.0521524\n",
      "2.0520291\n",
      "2.062229\n",
      "2.0502489\n",
      "2.0533435\n",
      "2.0512092\n",
      "2.047119\n",
      "2.0468965\n",
      "2.0390944\n",
      "2.0323377\n",
      "2.0284595\n",
      "2.0352767\n",
      "2.0327628\n",
      "2.0269613\n",
      "2.035677\n",
      "2.02375\n",
      "2.0234551\n",
      "2.0247333\n",
      "2.010372\n",
      "2.0071337\n",
      "2.006853\n",
      "2.0140219\n",
      "2.0059974\n",
      "2.0111399\n",
      "1.9999855\n",
      "2.0055923\n",
      "1.9975642\n",
      "1.990115\n",
      "1.9814022\n",
      "1.9781308\n",
      "1.9962848\n",
      "1.9794219\n",
      "1.9804816\n",
      "1.9835465\n",
      "1.9753681\n",
      "1.9768468\n",
      "1.9682908\n",
      "1.9569217\n",
      "1.9556289\n",
      "1.9598573\n",
      "1.9575112\n",
      "1.9534639\n",
      "1.9609745\n",
      "1.9463792\n",
      "1.9535697\n",
      "1.9449822\n",
      "1.9278073\n",
      "1.92779\n",
      "1.9288046\n",
      "1.938096\n",
      "1.9239454\n",
      "1.9329965\n",
      "1.9224272\n",
      "1.921643\n",
      "1.9174979\n",
      "1.909764\n",
      "1.8974115\n",
      "1.8928118\n",
      "1.9081959\n",
      "1.8969758\n",
      "1.894095\n",
      "1.9040768\n",
      "1.8886505\n",
      "1.8882501\n",
      "1.8859153\n",
      "1.869356\n",
      "1.8649209\n",
      "1.870648\n",
      "1.8716071\n",
      "1.8642561\n",
      "1.869262\n",
      "1.8567586\n",
      "1.8652978\n",
      "1.8536447\n",
      "1.8365663\n",
      "1.834861\n",
      "1.8305962\n",
      "1.8516197\n",
      "1.8294556\n",
      "1.832538\n",
      "1.836039\n",
      "1.8249959\n",
      "1.8252901\n",
      "1.8113341\n",
      "1.8015213\n",
      "1.7966174\n",
      "1.8074952\n",
      "1.803722\n",
      "1.7919203\n",
      "1.8100138\n",
      "1.7899194\n",
      "1.7889428\n",
      "1.7901771\n",
      "1.7660178\n",
      "1.7649997\n",
      "1.7630925\n",
      "1.778208\n",
      "1.7617553\n",
      "1.773426\n",
      "1.7545606\n",
      "1.760578\n",
      "1.7548544\n",
      "1.7374667\n",
      "1.724967\n",
      "1.7201129\n",
      "1.7527655\n",
      "1.725043\n",
      "1.7266408\n",
      "1.7329059\n",
      "1.7216578\n",
      "1.7199702\n",
      "1.7098682\n",
      "1.6927025\n",
      "1.6919497\n",
      "1.6998247\n",
      "1.6967566\n",
      "1.6888157\n",
      "1.7009637\n",
      "1.6812576\n",
      "1.6912075\n",
      "1.679928\n",
      "1.6539148\n",
      "1.6528462\n",
      "1.6588651\n",
      "1.675978\n",
      "1.6476791\n",
      "1.6646564\n",
      "1.654377\n",
      "1.6486156\n",
      "1.6462332\n",
      "1.6320769\n",
      "1.6148976\n",
      "1.6110839\n",
      "1.6347481\n",
      "1.6203655\n",
      "1.6130933\n",
      "1.6361711\n",
      "1.6094981\n",
      "1.6037812\n",
      "1.6109035\n",
      "1.5807217\n",
      "1.5788051\n",
      "1.5844775\n",
      "1.5956992\n",
      "1.5796269\n",
      "1.5940218\n",
      "1.5723265\n",
      "1.5820794\n",
      "1.5696886\n",
      "1.5465807\n",
      "1.5408762\n",
      "1.5422554\n",
      "1.5711766\n",
      "1.5435234\n",
      "1.54551\n",
      "1.5539163\n",
      "1.5373567\n",
      "1.5410134\n",
      "1.5221523\n",
      "1.5042813\n",
      "1.5088229\n",
      "1.5211661\n",
      "1.5120194\n",
      "1.504859\n",
      "1.5301536\n",
      "1.4997264\n",
      "1.5052394\n",
      "1.5020442\n",
      "1.4635177\n",
      "1.4701618\n",
      "1.4772035\n",
      "1.495017\n",
      "1.470563\n",
      "1.4954721\n",
      "1.4632618\n",
      "1.4753283\n",
      "1.4653761\n",
      "1.4501845\n",
      "1.4286898\n",
      "1.4307994\n",
      "1.4670508\n",
      "1.4392576\n",
      "1.4403065\n",
      "1.4529088\n",
      "1.4402429\n",
      "1.4301683\n",
      "1.4245018\n",
      "1.400007\n",
      "1.4051982\n",
      "1.4161452\n",
      "1.4146378\n",
      "1.408226\n",
      "1.4198571\n",
      "1.4015759\n",
      "1.4072561\n",
      "1.3995333\n",
      "1.3636023\n",
      "1.3681451\n",
      "1.3762147\n",
      "1.4033977\n",
      "1.3684694\n",
      "1.3887256\n",
      "1.3804353\n",
      "1.3691624\n",
      "1.3711662\n",
      "1.3535678\n",
      "1.3308243\n",
      "1.3366262\n",
      "1.3589566\n",
      "1.3502145\n",
      "1.337888\n",
      "1.36757\n",
      "1.3394287\n",
      "1.335372\n",
      "1.3427621\n",
      "1.3012712\n",
      "1.3067948\n",
      "1.3149217\n",
      "1.3320799\n",
      "1.3121865\n",
      "1.3377523\n",
      "1.3065432\n",
      "1.3170813\n",
      "1.3033961\n",
      "1.2844089\n",
      "1.2729111\n",
      "1.2772806\n",
      "1.3155649\n",
      "1.2821094\n",
      "1.2928054\n",
      "1.2970222\n",
      "1.2832739\n",
      "1.2848805\n",
      "1.2667326\n",
      "1.2392607\n",
      "1.2565849\n",
      "1.268225\n",
      "1.2640053\n",
      "1.2560834\n",
      "1.2819409\n",
      "1.2520957\n",
      "1.2605729\n",
      "1.2564988\n",
      "1.2038785\n",
      "1.2214667\n",
      "1.2396128\n",
      "1.250551\n",
      "1.2267003\n",
      "1.2615464\n",
      "1.2265261\n",
      "1.2327878\n",
      "1.2273405\n",
      "1.210821\n",
      "1.1833985\n",
      "1.1950803\n",
      "1.2326179\n",
      "1.2057465\n",
      "1.2115018\n",
      "1.2252266\n",
      "1.2059693\n",
      "1.1994191\n",
      "1.1994026\n",
      "1.1629571\n",
      "1.1742271\n",
      "1.1932768\n",
      "1.1900822\n",
      "1.1825926\n",
      "1.2035486\n",
      "1.177213\n",
      "1.1889042\n",
      "1.1800133\n",
      "1.1332062\n",
      "1.1479108\n",
      "1.1551194\n",
      "1.192165\n",
      "1.1533573\n",
      "1.1739594\n",
      "1.1692616\n",
      "1.1593617\n",
      "1.1601468\n",
      "1.133701\n",
      "1.1145073\n",
      "1.1286451\n",
      "1.1535951\n",
      "1.1432527\n",
      "1.1336315\n",
      "1.1642094\n",
      "1.132671\n",
      "1.1326189\n",
      "1.1357974\n",
      "1.0909022\n",
      "1.1035167\n",
      "1.1187569\n",
      "1.1364437\n",
      "1.1121854\n",
      "1.1452142\n",
      "1.1096154\n",
      "1.1205355\n",
      "1.1133852\n",
      "1.0850322\n"
     ]
    }
   ],
   "source": [
    "# Addestramento\n",
    "epochs = 40\n",
    "batch_size = 64 # prende le immagini a batch di 64\n",
    "lr = 1e-2 # learning rate\n",
    "\n",
    "losses = []\n",
    "counter = 0\n",
    "\n",
    "for epoch in range(epochs):\n",
    "    for i in range(0, x_train.shape[0], batch_size):\n",
    "        \n",
    "        # estrae le immagini:\n",
    "        x_batch = x_train[i : i + batch_size].reshape(-1, 28*28)\n",
    "        y_batch = y_train[i : i + batch_size]\n",
    "        # batch_size * 28 * 28 è la dimensione di x_batch o y_batch (image is 28x28)\n",
    "        # Nota: le reti neurali, per convenzione, lavorano su batch\n",
    "        \n",
    "        # forward pass\n",
    "        with tf.GradientTape() as tape:\n",
    "            z1 = x_batch@W1 + b1\n",
    "            a1 = sigmoid(z1)\n",
    "\n",
    "            z2 = a1@W2 + b2\n",
    "            a2 = sigmoid(z2)\n",
    "\n",
    "            z3 = a2@W3 + b3\n",
    "            #a3 = sigmoid(z3) ultimo strato è output, non serve funzione di attivazione\n",
    "            \n",
    "            # Loss\n",
    "            loss = tf.nn.sparse_softmax_cross_entropy_with_logits(y_batch, z3)\n",
    "            mean_loss = tf.reduce_mean(loss)\n",
    "        \n",
    "        losses.append(mean_loss) # .item estrae da un tensore scalare un numero python (lo aveva scritto ma dava errore e l'ha cancellato)\n",
    "        \n",
    "        # discesa del gradiente\n",
    "        dW1, db1, dW2, db2, dW3, db3 = tape.gradient(mean_loss, [W1, b1, W2, b2, W3, b3])\n",
    "        # passi della discesa pesi e bias\n",
    "        W1.assign_sub(dW1*lr)\n",
    "        b1.assign_sub(db1*lr)\n",
    "        W2.assign_sub(dW2*lr)\n",
    "        b2.assign_sub(db2*lr)\n",
    "        W3.assign_sub(dW3*lr)\n",
    "        b3.assign_sub(db3*lr)\n",
    "        \n",
    "        if counter % 100 == 0:\n",
    "            losses = losses[-100:]\n",
    "            print(np.mean(losses))\n",
    "        \n",
    "        counter += 1"
   ]
  },
  {
   "cell_type": "markdown",
   "id": "1d1410fd-e8a9-4b66-946f-75d1eed6a5a1",
   "metadata": {},
   "source": [
    "### Keras Introduzione"
   ]
  },
  {
   "cell_type": "code",
   "execution_count": 111,
   "id": "99472f38-6595-4f29-9306-a034b806d4dd",
   "metadata": {
    "tags": []
   },
   "outputs": [],
   "source": [
    "# Keras è ad un livello + alto di Tensorflow"
   ]
  },
  {
   "cell_type": "code",
   "execution_count": null,
   "id": "3ad8055d-348f-4905-aa6f-a0721bc03925",
   "metadata": {},
   "outputs": [],
   "source": [
    "# è una libreria nella libreria (come modulo di tensorflow, tf.keras)\n",
    "# sarà disponibile anche per PyTorch e altri framework\n",
    "see: https://keras.io/keras_core/announcement/"
   ]
  },
  {
   "cell_type": "code",
   "execution_count": 125,
   "id": "b56913e6-b100-475a-a500-3b64dcd58b74",
   "metadata": {
    "tags": []
   },
   "outputs": [],
   "source": [
    "import keras\n",
    "from keras.datasets.mnist import load_data\n",
    "import numpy as np"
   ]
  },
  {
   "cell_type": "code",
   "execution_count": 126,
   "id": "78d3f4da-faa9-4fb7-a233-16ce99eefbd7",
   "metadata": {
    "tags": []
   },
   "outputs": [],
   "source": [
    "(x_train, y_train), (x_test, y_test) = load_data()"
   ]
  },
  {
   "cell_type": "code",
   "execution_count": 127,
   "id": "f00f5569-e1c7-45ab-ba03-55d4b8d2a966",
   "metadata": {
    "tags": []
   },
   "outputs": [],
   "source": [
    "x_train = x_test / 255.\n",
    "x_test = x_test/ 255."
   ]
  },
  {
   "cell_type": "code",
   "execution_count": 128,
   "id": "acc94893-9ce7-4a95-8bfb-24d729560ef1",
   "metadata": {
    "tags": []
   },
   "outputs": [],
   "source": [
    "y_test = y_test.astype(np.int32)\n",
    "y_train = y_train.astype(np.int32)"
   ]
  },
  {
   "cell_type": "code",
   "execution_count": 139,
   "id": "ae6a8ffd-7063-43fa-9cf8-4409d92d06cb",
   "metadata": {
    "tags": []
   },
   "outputs": [],
   "source": [
    "from keras import Sequential # il modo, più semplice dei tre (e più limitato), per creare un modello\n",
    "# Sequential = una sequenza di strati\n",
    "\n",
    "from keras.layers import Dense # strato denso\n",
    "from keras.layers import Flatten "
   ]
  },
  {
   "cell_type": "code",
   "execution_count": 147,
   "id": "c96bffaa-9fbd-4937-b889-35be9bc7528e",
   "metadata": {
    "tags": []
   },
   "outputs": [],
   "source": [
    "# Modello\n",
    "model = Sequential(\n",
    "    [\n",
    "    Flatten(), # senza parametri trasforma ciò che gli arriva in un tensore a 1 dim\n",
    "    Dense(100, activation=\"sigmoid\"),\n",
    "    Dense(100, activation=\"sigmoid\"),\n",
    "    Dense(10, activation=\"softmax\")\n",
    "    ]\n",
    ")\n",
    "\n",
    "# una sequenza di tre strati, l'ultimo con 10 elementi ( le 10 classi), strato di senza attivazione"
   ]
  },
  {
   "cell_type": "code",
   "execution_count": 148,
   "id": "3e373f62-1a1c-4759-a33d-3571f8ba4759",
   "metadata": {
    "tags": []
   },
   "outputs": [],
   "source": [
    "from keras.optimizers import Adam"
   ]
  },
  {
   "cell_type": "code",
   "execution_count": 149,
   "id": "4091df69-d521-4290-8616-0b2d98bd4b2c",
   "metadata": {
    "tags": []
   },
   "outputs": [],
   "source": [
    "# \"Compilare\" il modello\n",
    "model.compile(\n",
    "    optimizer = Adam(learning_rate=1e-3), # ottimizzatore, come gradient descent (?)\n",
    "    loss = \"sparse_categorical_crossentropy\",\n",
    "    # Nota: per passare un parametro a keras: sotto forma di stringa o oggetto\n",
    "    metrics = [\"accuracy\"] # anche più di una\n",
    ")"
   ]
  },
  {
   "cell_type": "code",
   "execution_count": 150,
   "id": "1ad55a52-8522-45b5-8420-9e6b797e7322",
   "metadata": {
    "tags": []
   },
   "outputs": [
    {
     "data": {
      "text/plain": [
       "<tf.Tensor: shape=(10, 10), dtype=float32, numpy=\n",
       "array([[0.04806527, 0.21179762, 0.11600164, 0.04148023, 0.05522832,\n",
       "        0.32260308, 0.02239201, 0.10944696, 0.04833389, 0.02465099],\n",
       "       [0.04654723, 0.21994516, 0.11664497, 0.04342221, 0.05833334,\n",
       "        0.31157345, 0.0231357 , 0.10725448, 0.04656867, 0.02657476],\n",
       "       [0.04506635, 0.22391173, 0.11246634, 0.04319067, 0.05612308,\n",
       "        0.31612623, 0.02273547, 0.10557193, 0.04893455, 0.02587364],\n",
       "       [0.04614655, 0.20368889, 0.11513733, 0.0416636 , 0.05780323,\n",
       "        0.3354914 , 0.02223619, 0.10316756, 0.04776835, 0.026897  ],\n",
       "       [0.04396744, 0.20921195, 0.11714192, 0.04210538, 0.05560197,\n",
       "        0.33201122, 0.02126065, 0.10311726, 0.04937284, 0.02620923],\n",
       "       [0.04484417, 0.22491987, 0.11404061, 0.04298089, 0.05528012,\n",
       "        0.31433293, 0.02259585, 0.10714342, 0.04797782, 0.02588435],\n",
       "       [0.04559744, 0.20677997, 0.11482375, 0.0420322 , 0.05455261,\n",
       "        0.3447442 , 0.02070466, 0.09980689, 0.04528612, 0.02567223],\n",
       "       [0.04368925, 0.20933737, 0.11865143, 0.04175653, 0.05414274,\n",
       "        0.3309179 , 0.02108043, 0.10544088, 0.04881977, 0.02616373],\n",
       "       [0.04463089, 0.21014231, 0.12012222, 0.04276869, 0.05445378,\n",
       "        0.3294801 , 0.02176584, 0.10444535, 0.04461241, 0.02757841],\n",
       "       [0.047255  , 0.20879422, 0.11254776, 0.04173832, 0.05491428,\n",
       "        0.33237287, 0.02238757, 0.107096  , 0.04704222, 0.02585173]],\n",
       "      dtype=float32)>"
      ]
     },
     "execution_count": 150,
     "metadata": {},
     "output_type": "execute_result"
    }
   ],
   "source": [
    "# passo un batch al modello, così che si costruisca\n",
    "model(x_train[:10].reshape(-1, 28*28))\n",
    "# the model is \"built\""
   ]
  },
  {
   "cell_type": "code",
   "execution_count": 151,
   "id": "e9c9b92e-7b5d-4c97-9faa-123d5c49c5c0",
   "metadata": {
    "tags": []
   },
   "outputs": [
    {
     "name": "stdout",
     "output_type": "stream",
     "text": [
      "Model: \"sequential_3\"\n",
      "_________________________________________________________________\n",
      " Layer (type)                Output Shape              Param #   \n",
      "=================================================================\n",
      " flatten_1 (Flatten)         (10, 784)                 0         \n",
      "                                                                 \n",
      " dense_12 (Dense)            (10, 100)                 78500     \n",
      "                                                                 \n",
      " dense_13 (Dense)            (10, 100)                 10100     \n",
      "                                                                 \n",
      " dense_14 (Dense)            (10, 10)                  1010      \n",
      "                                                                 \n",
      "=================================================================\n",
      "Total params: 89610 (350.04 KB)\n",
      "Trainable params: 89610 (350.04 KB)\n",
      "Non-trainable params: 0 (0.00 Byte)\n",
      "_________________________________________________________________\n"
     ]
    }
   ],
   "source": [
    "model.summary()"
   ]
  },
  {
   "cell_type": "code",
   "execution_count": 152,
   "id": "031f8a31-0892-4cad-812d-bb54e025d096",
   "metadata": {
    "tags": []
   },
   "outputs": [],
   "source": [
    "#Nota: alcuni layer possono essere congelati (resi \"non-trainable\")"
   ]
  },
  {
   "cell_type": "code",
   "execution_count": 154,
   "id": "8c7cf464-53a6-4ecd-90d0-68af7ea96d28",
   "metadata": {
    "tags": []
   },
   "outputs": [
    {
     "name": "stdout",
     "output_type": "stream",
     "text": [
      "Epoch 1/40\n",
      "250/250 [==============================] - 2s 7ms/step - loss: 2.0564 - accuracy: 0.2601 - val_loss: 2.4740 - val_accuracy: 0.1090\n",
      "Epoch 2/40\n",
      "250/250 [==============================] - 2s 7ms/step - loss: 2.0364 - accuracy: 0.2694 - val_loss: 2.5132 - val_accuracy: 0.1000\n",
      "Epoch 3/40\n",
      "250/250 [==============================] - 2s 6ms/step - loss: 2.0149 - accuracy: 0.2784 - val_loss: 2.4991 - val_accuracy: 0.1170\n",
      "Epoch 4/40\n",
      "250/250 [==============================] - 2s 6ms/step - loss: 1.9946 - accuracy: 0.2879 - val_loss: 2.5395 - val_accuracy: 0.1145\n",
      "Epoch 5/40\n",
      "250/250 [==============================] - 2s 6ms/step - loss: 1.9701 - accuracy: 0.3025 - val_loss: 2.5418 - val_accuracy: 0.1130\n",
      "Epoch 6/40\n",
      "250/250 [==============================] - 2s 6ms/step - loss: 1.9506 - accuracy: 0.3064 - val_loss: 2.5517 - val_accuracy: 0.1120\n",
      "Epoch 7/40\n",
      "250/250 [==============================] - 2s 6ms/step - loss: 1.9222 - accuracy: 0.3214 - val_loss: 2.5790 - val_accuracy: 0.1030\n",
      "Epoch 8/40\n",
      "250/250 [==============================] - 2s 6ms/step - loss: 1.9006 - accuracy: 0.3291 - val_loss: 2.5891 - val_accuracy: 0.1050\n",
      "Epoch 9/40\n",
      "250/250 [==============================] - 2s 6ms/step - loss: 1.8809 - accuracy: 0.3433 - val_loss: 2.6209 - val_accuracy: 0.1145\n",
      "Epoch 10/40\n",
      "250/250 [==============================] - 2s 6ms/step - loss: 1.8532 - accuracy: 0.3494 - val_loss: 2.6289 - val_accuracy: 0.1150\n",
      "Epoch 11/40\n",
      "250/250 [==============================] - 2s 6ms/step - loss: 1.8317 - accuracy: 0.3562 - val_loss: 2.6709 - val_accuracy: 0.1050\n",
      "Epoch 12/40\n",
      "250/250 [==============================] - 2s 6ms/step - loss: 1.8041 - accuracy: 0.3695 - val_loss: 2.7016 - val_accuracy: 0.1070\n",
      "Epoch 13/40\n",
      "250/250 [==============================] - 2s 6ms/step - loss: 1.7788 - accuracy: 0.3817 - val_loss: 2.7273 - val_accuracy: 0.1035\n",
      "Epoch 14/40\n",
      "250/250 [==============================] - 2s 6ms/step - loss: 1.7509 - accuracy: 0.3936 - val_loss: 2.7407 - val_accuracy: 0.1150\n",
      "Epoch 15/40\n",
      "250/250 [==============================] - 2s 6ms/step - loss: 1.7277 - accuracy: 0.4044 - val_loss: 2.7804 - val_accuracy: 0.1030\n",
      "Epoch 16/40\n",
      "250/250 [==============================] - 2s 6ms/step - loss: 1.7022 - accuracy: 0.4108 - val_loss: 2.8054 - val_accuracy: 0.1005\n",
      "Epoch 17/40\n",
      "250/250 [==============================] - 2s 6ms/step - loss: 1.6728 - accuracy: 0.4182 - val_loss: 2.8191 - val_accuracy: 0.1090\n",
      "Epoch 18/40\n",
      "250/250 [==============================] - 2s 6ms/step - loss: 1.6537 - accuracy: 0.4345 - val_loss: 2.8660 - val_accuracy: 0.1030\n",
      "Epoch 19/40\n",
      "250/250 [==============================] - 2s 6ms/step - loss: 1.6245 - accuracy: 0.4534 - val_loss: 2.8962 - val_accuracy: 0.1230\n",
      "Epoch 20/40\n",
      "250/250 [==============================] - 2s 6ms/step - loss: 1.5987 - accuracy: 0.4510 - val_loss: 2.9589 - val_accuracy: 0.1060\n",
      "Epoch 21/40\n",
      "250/250 [==============================] - 2s 6ms/step - loss: 1.5762 - accuracy: 0.4616 - val_loss: 2.9837 - val_accuracy: 0.1095\n",
      "Epoch 22/40\n",
      "250/250 [==============================] - 2s 6ms/step - loss: 1.5468 - accuracy: 0.4778 - val_loss: 2.9993 - val_accuracy: 0.1015\n",
      "Epoch 23/40\n",
      "250/250 [==============================] - 2s 6ms/step - loss: 1.5272 - accuracy: 0.4812 - val_loss: 3.0293 - val_accuracy: 0.1075\n",
      "Epoch 24/40\n",
      "250/250 [==============================] - 2s 6ms/step - loss: 1.4970 - accuracy: 0.4952 - val_loss: 3.0765 - val_accuracy: 0.1065\n",
      "Epoch 25/40\n",
      "250/250 [==============================] - 2s 7ms/step - loss: 1.4767 - accuracy: 0.5036 - val_loss: 3.0934 - val_accuracy: 0.1110\n",
      "Epoch 26/40\n",
      "250/250 [==============================] - 2s 6ms/step - loss: 1.4542 - accuracy: 0.5084 - val_loss: 3.1637 - val_accuracy: 0.1005\n",
      "Epoch 27/40\n",
      "250/250 [==============================] - 2s 6ms/step - loss: 1.4267 - accuracy: 0.5244 - val_loss: 3.1736 - val_accuracy: 0.1075\n",
      "Epoch 28/40\n",
      "250/250 [==============================] - 2s 6ms/step - loss: 1.4066 - accuracy: 0.5291 - val_loss: 3.2034 - val_accuracy: 0.1065\n",
      "Epoch 29/40\n",
      "250/250 [==============================] - 2s 6ms/step - loss: 1.3751 - accuracy: 0.5421 - val_loss: 3.2502 - val_accuracy: 0.1110\n",
      "Epoch 30/40\n",
      "250/250 [==============================] - 2s 6ms/step - loss: 1.3509 - accuracy: 0.5527 - val_loss: 3.3193 - val_accuracy: 0.1070\n",
      "Epoch 31/40\n",
      "250/250 [==============================] - 2s 6ms/step - loss: 1.3308 - accuracy: 0.5590 - val_loss: 3.3662 - val_accuracy: 0.1135\n",
      "Epoch 32/40\n",
      "250/250 [==============================] - 2s 7ms/step - loss: 1.3093 - accuracy: 0.5681 - val_loss: 3.3812 - val_accuracy: 0.1035\n",
      "Epoch 33/40\n",
      "250/250 [==============================] - 2s 6ms/step - loss: 1.2793 - accuracy: 0.5784 - val_loss: 3.4944 - val_accuracy: 0.1020\n",
      "Epoch 34/40\n",
      "250/250 [==============================] - 2s 6ms/step - loss: 1.2551 - accuracy: 0.5890 - val_loss: 3.4693 - val_accuracy: 0.1045\n",
      "Epoch 35/40\n",
      "250/250 [==============================] - 2s 6ms/step - loss: 1.2393 - accuracy: 0.5906 - val_loss: 3.5422 - val_accuracy: 0.1090\n",
      "Epoch 36/40\n",
      "250/250 [==============================] - 2s 6ms/step - loss: 1.2136 - accuracy: 0.6001 - val_loss: 3.5788 - val_accuracy: 0.1090\n",
      "Epoch 37/40\n",
      "250/250 [==============================] - 2s 6ms/step - loss: 1.1900 - accuracy: 0.6114 - val_loss: 3.6533 - val_accuracy: 0.1010\n",
      "Epoch 38/40\n",
      "250/250 [==============================] - 2s 6ms/step - loss: 1.1677 - accuracy: 0.6244 - val_loss: 3.6948 - val_accuracy: 0.1040\n",
      "Epoch 39/40\n",
      "250/250 [==============================] - 2s 6ms/step - loss: 1.1492 - accuracy: 0.6259 - val_loss: 3.7190 - val_accuracy: 0.0995\n",
      "Epoch 40/40\n",
      "250/250 [==============================] - 2s 6ms/step - loss: 1.1217 - accuracy: 0.6323 - val_loss: 3.7815 - val_accuracy: 0.0985\n"
     ]
    },
    {
     "data": {
      "text/plain": [
       "<keras.src.callbacks.History at 0x7fd0ce7c0d60>"
      ]
     },
     "execution_count": 154,
     "metadata": {},
     "output_type": "execute_result"
    }
   ],
   "source": [
    "model.fit(\n",
    "    x=x_train,\n",
    "    y=y_train,\n",
    "    batch_size=32,\n",
    "    epochs=40,\n",
    "    validation_split=0.2,\n",
    "    shuffle = True # a ogni epoca\n",
    ")"
   ]
  },
  {
   "cell_type": "code",
   "execution_count": null,
   "id": "8c0eb5df-d650-4af9-8f0b-efb2d82eecea",
   "metadata": {},
   "outputs": [],
   "source": []
  }
 ],
 "metadata": {
  "kernelspec": {
   "display_name": "Python 3 (ipykernel)",
   "language": "python",
   "name": "python3"
  },
  "language_info": {
   "codemirror_mode": {
    "name": "ipython",
    "version": 3
   },
   "file_extension": ".py",
   "mimetype": "text/x-python",
   "name": "python",
   "nbconvert_exporter": "python",
   "pygments_lexer": "ipython3",
   "version": "3.9.15"
  }
 },
 "nbformat": 4,
 "nbformat_minor": 5
}
